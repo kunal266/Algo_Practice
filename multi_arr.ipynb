{
  "nbformat": 4,
  "nbformat_minor": 0,
  "metadata": {
    "colab": {
      "name": "multi_arr.ipynb",
      "provenance": [],
      "collapsed_sections": [],
      "authorship_tag": "ABX9TyOoJdwDx7L45Z28KpHPORoE",
      "include_colab_link": true
    },
    "kernelspec": {
      "name": "python3",
      "display_name": "Python 3"
    },
    "language_info": {
      "name": "python"
    }
  },
  "cells": [
    {
      "cell_type": "markdown",
      "metadata": {
        "id": "view-in-github",
        "colab_type": "text"
      },
      "source": [
        "<a href=\"https://colab.research.google.com/github/kunal266/Algo_Practice/blob/company/multi_arr.ipynb\" target=\"_parent\"><img src=\"https://colab.research.google.com/assets/colab-badge.svg\" alt=\"Open In Colab\"/></a>"
      ]
    },
    {
      "cell_type": "markdown",
      "metadata": {
        "id": "BTQCP3ExVzu0"
      },
      "source": [
        "# Multiplication of Remaining element\n"
      ]
    },
    {
      "cell_type": "code",
      "metadata": {
        "colab": {
          "base_uri": "https://localhost:8080/"
        },
        "id": "w6Cp38a-Vl_I",
        "outputId": "2453ee06-580f-41bd-f473-8670423ae837"
      },
      "source": [
        "arr = [1,2,3,4]\n",
        "kz = len(arr)\n",
        "print(kz)\n",
        "left_prod = [0]*kz\n",
        "right_prod = [0]*kz\n",
        "output = [0]*(len(arr_int))\n",
        "for i in range(len(arr)):\n",
        "    if (i==0):\n",
        "        print(len(left_prod))\n",
        "        left_prod[i] = 1\n",
        "    else:\n",
        "        int_ele = arr[i-1]*left_prod[i-1]\n",
        "        left_prod[i] = int_ele\n",
        "# print(left_prod)\n",
        "for j in range(len(arr)-1,-1,-1):\n",
        "    if (j==(len(arr)-1)):\n",
        "        right_prod[j] = 1\n",
        "    else:\n",
        "        int_ele = arr[j+1]*right_prod[j+1]\n",
        "        right_prod[j] = int_ele\n",
        "# print(left_prod,right_prod)\n",
        "for k in range(len(arr)):\n",
        "    output[k] = left_prod[k]*right_prod[k]\n",
        "print(output)"
      ],
      "execution_count": 32,
      "outputs": [
        {
          "output_type": "stream",
          "text": [
            "4\n",
            "4\n",
            "[24, 12, 8, 6]\n"
          ],
          "name": "stdout"
        }
      ]
    },
    {
      "cell_type": "code",
      "metadata": {
        "id": "ckxcqkJJY6cw"
      },
      "source": [
        ""
      ],
      "execution_count": null,
      "outputs": []
    }
  ]
}