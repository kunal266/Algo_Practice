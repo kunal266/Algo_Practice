{
  "nbformat": 4,
  "nbformat_minor": 0,
  "metadata": {
    "colab": {
      "name": "rasa_nlu_spacy.ipynb",
      "provenance": [],
      "authorship_tag": "ABX9TyNthSp36+rLSxC/9veGAapr",
      "include_colab_link": true
    },
    "kernelspec": {
      "name": "python3",
      "display_name": "Python 3"
    },
    "language_info": {
      "name": "python"
    }
  },
  "cells": [
    {
      "cell_type": "markdown",
      "metadata": {
        "id": "view-in-github",
        "colab_type": "text"
      },
      "source": [
        "<a href=\"https://colab.research.google.com/github/kunal266/Algo_Practice/blob/main/Spacy_tut/rasa_nlu_spacy.ipynb\" target=\"_parent\"><img src=\"https://colab.research.google.com/assets/colab-badge.svg\" alt=\"Open In Colab\"/></a>"
      ]
    },
    {
      "cell_type": "code",
      "execution_count": 1,
      "metadata": {
        "colab": {
          "base_uri": "https://localhost:8080/"
        },
        "id": "ZEP_ioloFY_l",
        "outputId": "1e0af1b3-436c-4e21-d442-aac9befd9d41"
      },
      "outputs": [
        {
          "output_type": "stream",
          "name": "stdout",
          "text": [
            "Requirement already satisfied: nest_asyncio==1.3.3 in /usr/local/lib/python3.7/dist-packages (1.3.3)\n",
            "Requirement already satisfied: rasa_nlu[spacy] in /usr/local/lib/python3.7/dist-packages (0.15.1)\n",
            "Requirement already satisfied: jsonschema~=2.6 in /usr/local/lib/python3.7/dist-packages (from rasa_nlu[spacy]) (2.6.0)\n",
            "Requirement already satisfied: coloredlogs~=10.0 in /usr/local/lib/python3.7/dist-packages (from rasa_nlu[spacy]) (10.0)\n",
            "Requirement already satisfied: boto3~=1.9 in /usr/local/lib/python3.7/dist-packages (from rasa_nlu[spacy]) (1.21.8)\n",
            "Requirement already satisfied: simplejson~=3.13 in /usr/local/lib/python3.7/dist-packages (from rasa_nlu[spacy]) (3.17.6)\n",
            "Requirement already satisfied: matplotlib~=2.2 in /usr/local/lib/python3.7/dist-packages (from rasa_nlu[spacy]) (2.2.5)\n",
            "Requirement already satisfied: future~=0.17.1 in /usr/local/lib/python3.7/dist-packages (from rasa_nlu[spacy]) (0.17.1)\n",
            "Requirement already satisfied: scikit-learn~=0.20.2 in /usr/local/lib/python3.7/dist-packages (from rasa_nlu[spacy]) (0.20.4)\n",
            "Requirement already satisfied: gevent~=1.3 in /usr/local/lib/python3.7/dist-packages (from rasa_nlu[spacy]) (1.5.0)\n",
            "Requirement already satisfied: packaging~=18.0 in /usr/local/lib/python3.7/dist-packages (from rasa_nlu[spacy]) (18.0)\n",
            "Requirement already satisfied: requests~=2.20 in /usr/local/lib/python3.7/dist-packages (from rasa_nlu[spacy]) (2.23.0)\n",
            "Requirement already satisfied: ruamel.yaml~=0.15.7 in /usr/local/lib/python3.7/dist-packages (from rasa_nlu[spacy]) (0.15.100)\n",
            "Requirement already satisfied: tqdm~=4.19 in /usr/local/lib/python3.7/dist-packages (from rasa_nlu[spacy]) (4.62.3)\n",
            "Requirement already satisfied: cloudpickle~=0.6.1 in /usr/local/lib/python3.7/dist-packages (from rasa_nlu[spacy]) (0.6.1)\n",
            "Requirement already satisfied: klein~=17.10 in /usr/local/lib/python3.7/dist-packages (from rasa_nlu[spacy]) (17.10.0)\n",
            "Requirement already satisfied: numpy>=1.16 in /usr/local/lib/python3.7/dist-packages (from rasa_nlu[spacy]) (1.21.5)\n",
            "Requirement already satisfied: typing~=3.6 in /usr/local/lib/python3.7/dist-packages (from rasa_nlu[spacy]) (3.7.4.3)\n",
            "Requirement already satisfied: spacy<=2.0.18,>2.0 in /usr/local/lib/python3.7/dist-packages (from rasa_nlu[spacy]) (2.0.18)\n",
            "Requirement already satisfied: scipy~=1.2 in /usr/local/lib/python3.7/dist-packages (from rasa_nlu[spacy]) (1.4.1)\n",
            "Requirement already satisfied: sklearn-crfsuite~=0.3.6 in /usr/local/lib/python3.7/dist-packages (from rasa_nlu[spacy]) (0.3.6)\n",
            "Requirement already satisfied: jmespath<1.0.0,>=0.7.1 in /usr/local/lib/python3.7/dist-packages (from boto3~=1.9->rasa_nlu[spacy]) (0.10.0)\n",
            "Requirement already satisfied: botocore<1.25.0,>=1.24.8 in /usr/local/lib/python3.7/dist-packages (from boto3~=1.9->rasa_nlu[spacy]) (1.24.8)\n",
            "Requirement already satisfied: s3transfer<0.6.0,>=0.5.0 in /usr/local/lib/python3.7/dist-packages (from boto3~=1.9->rasa_nlu[spacy]) (0.5.2)\n",
            "Requirement already satisfied: urllib3<1.27,>=1.25.4 in /usr/local/lib/python3.7/dist-packages (from botocore<1.25.0,>=1.24.8->boto3~=1.9->rasa_nlu[spacy]) (1.25.11)\n",
            "Requirement already satisfied: python-dateutil<3.0.0,>=2.1 in /usr/local/lib/python3.7/dist-packages (from botocore<1.25.0,>=1.24.8->boto3~=1.9->rasa_nlu[spacy]) (2.8.2)\n",
            "Requirement already satisfied: humanfriendly>=4.7 in /usr/local/lib/python3.7/dist-packages (from coloredlogs~=10.0->rasa_nlu[spacy]) (10.0)\n",
            "Requirement already satisfied: greenlet>=0.4.14 in /usr/local/lib/python3.7/dist-packages (from gevent~=1.3->rasa_nlu[spacy]) (1.1.2)\n",
            "Requirement already satisfied: werkzeug in /usr/local/lib/python3.7/dist-packages (from klein~=17.10->rasa_nlu[spacy]) (1.0.1)\n",
            "Requirement already satisfied: incremental in /usr/local/lib/python3.7/dist-packages (from klein~=17.10->rasa_nlu[spacy]) (21.3.0)\n",
            "Requirement already satisfied: Twisted>=15.5 in /usr/local/lib/python3.7/dist-packages (from klein~=17.10->rasa_nlu[spacy]) (22.1.0)\n",
            "Requirement already satisfied: six in /usr/local/lib/python3.7/dist-packages (from klein~=17.10->rasa_nlu[spacy]) (1.15.0)\n",
            "Requirement already satisfied: pyparsing!=2.0.4,!=2.1.2,!=2.1.6,>=2.0.1 in /usr/local/lib/python3.7/dist-packages (from matplotlib~=2.2->rasa_nlu[spacy]) (3.0.7)\n",
            "Requirement already satisfied: cycler>=0.10 in /usr/local/lib/python3.7/dist-packages (from matplotlib~=2.2->rasa_nlu[spacy]) (0.11.0)\n",
            "Requirement already satisfied: pytz in /usr/local/lib/python3.7/dist-packages (from matplotlib~=2.2->rasa_nlu[spacy]) (2018.9)\n",
            "Requirement already satisfied: kiwisolver>=1.0.1 in /usr/local/lib/python3.7/dist-packages (from matplotlib~=2.2->rasa_nlu[spacy]) (1.3.2)\n",
            "Requirement already satisfied: idna<3,>=2.5 in /usr/local/lib/python3.7/dist-packages (from requests~=2.20->rasa_nlu[spacy]) (2.10)\n",
            "Requirement already satisfied: chardet<4,>=3.0.2 in /usr/local/lib/python3.7/dist-packages (from requests~=2.20->rasa_nlu[spacy]) (3.0.4)\n",
            "Requirement already satisfied: certifi>=2017.4.17 in /usr/local/lib/python3.7/dist-packages (from requests~=2.20->rasa_nlu[spacy]) (2021.10.8)\n",
            "Requirement already satisfied: python-crfsuite>=0.8.3 in /usr/local/lib/python3.7/dist-packages (from sklearn-crfsuite~=0.3.6->rasa_nlu[spacy]) (0.9.7)\n",
            "Requirement already satisfied: tabulate in /usr/local/lib/python3.7/dist-packages (from sklearn-crfsuite~=0.3.6->rasa_nlu[spacy]) (0.8.9)\n",
            "Requirement already satisfied: cymem<2.1.0,>=2.0.2 in /usr/local/lib/python3.7/dist-packages (from spacy<=2.0.18,>2.0->rasa_nlu[spacy]) (2.0.6)\n",
            "Requirement already satisfied: dill<0.3,>=0.2 in /usr/local/lib/python3.7/dist-packages (from spacy<=2.0.18,>2.0->rasa_nlu[spacy]) (0.2.9)\n",
            "Requirement already satisfied: thinc<6.13.0,>=6.12.1 in /usr/local/lib/python3.7/dist-packages (from spacy<=2.0.18,>2.0->rasa_nlu[spacy]) (6.12.1)\n",
            "Requirement already satisfied: regex==2018.01.10 in /usr/local/lib/python3.7/dist-packages (from spacy<=2.0.18,>2.0->rasa_nlu[spacy]) (2018.1.10)\n",
            "Requirement already satisfied: plac<1.0.0,>=0.9.6 in /usr/local/lib/python3.7/dist-packages (from spacy<=2.0.18,>2.0->rasa_nlu[spacy]) (0.9.6)\n",
            "Requirement already satisfied: ujson>=1.35 in /usr/local/lib/python3.7/dist-packages (from spacy<=2.0.18,>2.0->rasa_nlu[spacy]) (5.1.0)\n",
            "Requirement already satisfied: murmurhash<1.1.0,>=0.28.0 in /usr/local/lib/python3.7/dist-packages (from spacy<=2.0.18,>2.0->rasa_nlu[spacy]) (1.0.6)\n",
            "Requirement already satisfied: preshed<2.1.0,>=2.0.1 in /usr/local/lib/python3.7/dist-packages (from spacy<=2.0.18,>2.0->rasa_nlu[spacy]) (2.0.1)\n",
            "Requirement already satisfied: msgpack<0.6.0,>=0.5.6 in /usr/local/lib/python3.7/dist-packages (from thinc<6.13.0,>=6.12.1->spacy<=2.0.18,>2.0->rasa_nlu[spacy]) (0.5.6)\n",
            "Requirement already satisfied: msgpack-numpy<0.4.4 in /usr/local/lib/python3.7/dist-packages (from thinc<6.13.0,>=6.12.1->spacy<=2.0.18,>2.0->rasa_nlu[spacy]) (0.4.3.2)\n",
            "Requirement already satisfied: cytoolz<0.10,>=0.9.0 in /usr/local/lib/python3.7/dist-packages (from thinc<6.13.0,>=6.12.1->spacy<=2.0.18,>2.0->rasa_nlu[spacy]) (0.9.0.1)\n",
            "Requirement already satisfied: wrapt<1.11.0,>=1.10.0 in /usr/local/lib/python3.7/dist-packages (from thinc<6.13.0,>=6.12.1->spacy<=2.0.18,>2.0->rasa_nlu[spacy]) (1.10.11)\n",
            "Requirement already satisfied: toolz>=0.8.0 in /usr/local/lib/python3.7/dist-packages (from cytoolz<0.10,>=0.9.0->thinc<6.13.0,>=6.12.1->spacy<=2.0.18,>2.0->rasa_nlu[spacy]) (0.11.2)\n",
            "Requirement already satisfied: Automat>=0.8.0 in /usr/local/lib/python3.7/dist-packages (from Twisted>=15.5->klein~=17.10->rasa_nlu[spacy]) (20.2.0)\n",
            "Requirement already satisfied: zope.interface>=4.4.2 in /usr/local/lib/python3.7/dist-packages (from Twisted>=15.5->klein~=17.10->rasa_nlu[spacy]) (5.4.0)\n",
            "Requirement already satisfied: typing-extensions>=3.6.5 in /usr/local/lib/python3.7/dist-packages (from Twisted>=15.5->klein~=17.10->rasa_nlu[spacy]) (3.10.0.2)\n",
            "Requirement already satisfied: hyperlink>=17.1.1 in /usr/local/lib/python3.7/dist-packages (from Twisted>=15.5->klein~=17.10->rasa_nlu[spacy]) (21.0.0)\n",
            "Requirement already satisfied: attrs>=19.2.0 in /usr/local/lib/python3.7/dist-packages (from Twisted>=15.5->klein~=17.10->rasa_nlu[spacy]) (21.4.0)\n",
            "Requirement already satisfied: constantly>=15.1 in /usr/local/lib/python3.7/dist-packages (from Twisted>=15.5->klein~=17.10->rasa_nlu[spacy]) (15.1.0)\n",
            "Requirement already satisfied: setuptools in /usr/local/lib/python3.7/dist-packages (from zope.interface>=4.4.2->Twisted>=15.5->klein~=17.10->rasa_nlu[spacy]) (57.4.0)\n",
            "Requirement already satisfied: rasa_core in /usr/local/lib/python3.7/dist-packages (0.14.5)\n",
            "Requirement already satisfied: jsonpickle~=1.0 in /usr/local/lib/python3.7/dist-packages (from rasa_core) (1.5.2)\n",
            "Requirement already satisfied: slackclient~=1.0 in /usr/local/lib/python3.7/dist-packages (from rasa_core) (1.3.2)\n",
            "Requirement already satisfied: jsonschema~=2.6 in /usr/local/lib/python3.7/dist-packages (from rasa_core) (2.6.0)\n",
            "Requirement already satisfied: requests~=2.20 in /usr/local/lib/python3.7/dist-packages (from rasa_core) (2.23.0)\n",
            "Requirement already satisfied: rocketchat-API~=0.6.0 in /usr/local/lib/python3.7/dist-packages (from rasa_core) (0.6.36)\n",
            "Requirement already satisfied: python-dateutil~=2.7 in /usr/local/lib/python3.7/dist-packages (from rasa_core) (2.8.2)\n",
            "Requirement already satisfied: colorclass~=2.2 in /usr/local/lib/python3.7/dist-packages (from rasa_core) (2.2.2)\n",
            "Requirement already satisfied: flask-cors~=3.0 in /usr/local/lib/python3.7/dist-packages (from rasa_core) (3.0.10)\n",
            "Requirement already satisfied: webexteamssdk~=1.0 in /usr/local/lib/python3.7/dist-packages (from rasa_core) (1.6)\n",
            "Requirement already satisfied: flask~=1.0 in /usr/local/lib/python3.7/dist-packages (from rasa_core) (1.1.4)\n",
            "Requirement already satisfied: pytz~=2018.9 in /usr/local/lib/python3.7/dist-packages (from rasa_core) (2018.9)\n",
            "Requirement already satisfied: questionary>=1.0.1 in /usr/local/lib/python3.7/dist-packages (from rasa_core) (1.10.0)\n",
            "Requirement already satisfied: twilio~=6.0 in /usr/local/lib/python3.7/dist-packages (from rasa_core) (6.63.2)\n",
            "Requirement already satisfied: flask-jwt-simple~=0.0.3 in /usr/local/lib/python3.7/dist-packages (from rasa_core) (0.0.3)\n",
            "Requirement already satisfied: coloredlogs~=10.0 in /usr/local/lib/python3.7/dist-packages (from rasa_core) (10.0)\n",
            "Requirement already satisfied: pymongo~=3.7 in /usr/local/lib/python3.7/dist-packages (from rasa_core) (3.12.3)\n",
            "Requirement already satisfied: fbmessenger~=5.0 in /usr/local/lib/python3.7/dist-packages (from rasa_core) (5.6.0)\n",
            "Requirement already satisfied: packaging~=18.0 in /usr/local/lib/python3.7/dist-packages (from rasa_core) (18.0)\n",
            "Requirement already satisfied: rasa-core-sdk~=0.14 in /usr/local/lib/python3.7/dist-packages (from rasa_core) (0.14.0)\n",
            "Requirement already satisfied: ruamel.yaml~=0.15.0 in /usr/local/lib/python3.7/dist-packages (from rasa_core) (0.15.100)\n",
            "Requirement already satisfied: mattermostwrapper~=2.0 in /usr/local/lib/python3.7/dist-packages (from rasa_core) (2.2)\n",
            "Requirement already satisfied: scikit-learn~=0.20.0 in /usr/local/lib/python3.7/dist-packages (from rasa_core) (0.20.4)\n",
            "Requirement already satisfied: pykwalify~=1.7.0 in /usr/local/lib/python3.7/dist-packages (from rasa_core) (1.7.0)\n",
            "Requirement already satisfied: terminaltables~=3.1 in /usr/local/lib/python3.7/dist-packages (from rasa_core) (3.1.10)\n",
            "Requirement already satisfied: apscheduler~=3.0 in /usr/local/lib/python3.7/dist-packages (from rasa_core) (3.9.1)\n",
            "Requirement already satisfied: python-telegram-bot~=11.0 in /usr/local/lib/python3.7/dist-packages (from rasa_core) (11.1.0)\n",
            "Requirement already satisfied: typing~=3.0 in /usr/local/lib/python3.7/dist-packages (from rasa_core) (3.7.4.3)\n",
            "Requirement already satisfied: rasa-nlu~=0.15 in /usr/local/lib/python3.7/dist-packages (from rasa_core) (0.15.1)\n",
            "Requirement already satisfied: pika~=0.12.0 in /usr/local/lib/python3.7/dist-packages (from rasa_core) (0.12.0)\n",
            "Requirement already satisfied: pydot~=1.4 in /usr/local/lib/python3.7/dist-packages (from rasa_core) (1.4.2)\n",
            "Requirement already satisfied: tensorflow~=1.13.0 in /usr/local/lib/python3.7/dist-packages (from rasa_core) (1.13.2)\n",
            "Requirement already satisfied: colorhash~=1.0 in /usr/local/lib/python3.7/dist-packages (from rasa_core) (1.0.4)\n",
            "Requirement already satisfied: python-socketio~=3.0 in /usr/local/lib/python3.7/dist-packages (from rasa_core) (3.1.2)\n",
            "Requirement already satisfied: tqdm~=4.0 in /usr/local/lib/python3.7/dist-packages (from rasa_core) (4.62.3)\n",
            "Requirement already satisfied: gevent~=1.3 in /usr/local/lib/python3.7/dist-packages (from rasa_core) (1.5.0)\n",
            "Requirement already satisfied: scipy~=1.2 in /usr/local/lib/python3.7/dist-packages (from rasa_core) (1.4.1)\n",
            "Requirement already satisfied: numpy~=1.16 in /usr/local/lib/python3.7/dist-packages (from rasa_core) (1.21.5)\n",
            "Requirement already satisfied: redis~=2.0 in /usr/local/lib/python3.7/dist-packages (from rasa_core) (2.10.6)\n",
            "Requirement already satisfied: networkx~=2.2 in /usr/local/lib/python3.7/dist-packages (from rasa_core) (2.6.3)\n",
            "Requirement already satisfied: fakeredis~=0.10.0 in /usr/local/lib/python3.7/dist-packages (from rasa_core) (0.10.3)\n",
            "Requirement already satisfied: setuptools>=0.7 in /usr/local/lib/python3.7/dist-packages (from apscheduler~=3.0->rasa_core) (57.4.0)\n",
            "Requirement already satisfied: tzlocal!=3.*,>=2.0 in /usr/local/lib/python3.7/dist-packages (from apscheduler~=3.0->rasa_core) (4.1)\n",
            "Requirement already satisfied: six>=1.4.0 in /usr/local/lib/python3.7/dist-packages (from apscheduler~=3.0->rasa_core) (1.15.0)\n",
            "Requirement already satisfied: humanfriendly>=4.7 in /usr/local/lib/python3.7/dist-packages (from coloredlogs~=10.0->rasa_core) (10.0)\n",
            "Requirement already satisfied: click<8.0,>=5.1 in /usr/local/lib/python3.7/dist-packages (from flask~=1.0->rasa_core) (7.1.2)\n",
            "Requirement already satisfied: itsdangerous<2.0,>=0.24 in /usr/local/lib/python3.7/dist-packages (from flask~=1.0->rasa_core) (1.1.0)\n",
            "Requirement already satisfied: Jinja2<3.0,>=2.10.1 in /usr/local/lib/python3.7/dist-packages (from flask~=1.0->rasa_core) (2.11.3)\n",
            "Requirement already satisfied: Werkzeug<2.0,>=0.15 in /usr/local/lib/python3.7/dist-packages (from flask~=1.0->rasa_core) (1.0.1)\n",
            "Requirement already satisfied: PyJWT in /usr/local/lib/python3.7/dist-packages (from flask-jwt-simple~=0.0.3->rasa_core) (1.7.1)\n",
            "Requirement already satisfied: greenlet>=0.4.14 in /usr/local/lib/python3.7/dist-packages (from gevent~=1.3->rasa_core) (1.1.2)\n",
            "Requirement already satisfied: MarkupSafe>=0.23 in /usr/local/lib/python3.7/dist-packages (from Jinja2<3.0,>=2.10.1->flask~=1.0->rasa_core) (2.0.1)\n",
            "Requirement already satisfied: importlib-metadata in /usr/local/lib/python3.7/dist-packages (from jsonpickle~=1.0->rasa_core) (4.11.1)\n",
            "Requirement already satisfied: pyparsing>=2.0.2 in /usr/local/lib/python3.7/dist-packages (from packaging~=18.0->rasa_core) (3.0.7)\n",
            "Requirement already satisfied: PyYAML>=3.11 in /usr/local/lib/python3.7/dist-packages (from pykwalify~=1.7.0->rasa_core) (3.13)\n",
            "Requirement already satisfied: docopt>=0.6.2 in /usr/local/lib/python3.7/dist-packages (from pykwalify~=1.7.0->rasa_core) (0.6.2)\n",
            "Requirement already satisfied: python-engineio>=3.2.0 in /usr/local/lib/python3.7/dist-packages (from python-socketio~=3.0->rasa_core) (4.3.1)\n",
            "Requirement already satisfied: cryptography in /usr/local/lib/python3.7/dist-packages (from python-telegram-bot~=11.0->rasa_core) (36.0.1)\n",
            "Requirement already satisfied: future>=0.16.0 in /usr/local/lib/python3.7/dist-packages (from python-telegram-bot~=11.0->rasa_core) (0.17.1)\n",
            "Requirement already satisfied: certifi in /usr/local/lib/python3.7/dist-packages (from python-telegram-bot~=11.0->rasa_core) (2021.10.8)\n",
            "Requirement already satisfied: prompt_toolkit<4.0,>=2.0 in /usr/local/lib/python3.7/dist-packages (from questionary>=1.0.1->rasa_core) (3.0.28)\n",
            "Requirement already satisfied: wcwidth in /usr/local/lib/python3.7/dist-packages (from prompt_toolkit<4.0,>=2.0->questionary>=1.0.1->rasa_core) (0.2.5)\n",
            "Requirement already satisfied: ConfigArgParse~=0.13.0 in /usr/local/lib/python3.7/dist-packages (from rasa-core-sdk~=0.14->rasa_core) (0.13.0)\n",
            "Requirement already satisfied: boto3~=1.9 in /usr/local/lib/python3.7/dist-packages (from rasa-nlu~=0.15->rasa_core) (1.21.8)\n",
            "Requirement already satisfied: cloudpickle~=0.6.1 in /usr/local/lib/python3.7/dist-packages (from rasa-nlu~=0.15->rasa_core) (0.6.1)\n",
            "Requirement already satisfied: simplejson~=3.13 in /usr/local/lib/python3.7/dist-packages (from rasa-nlu~=0.15->rasa_core) (3.17.6)\n",
            "Requirement already satisfied: matplotlib~=2.2 in /usr/local/lib/python3.7/dist-packages (from rasa-nlu~=0.15->rasa_core) (2.2.5)\n",
            "Requirement already satisfied: klein~=17.10 in /usr/local/lib/python3.7/dist-packages (from rasa-nlu~=0.15->rasa_core) (17.10.0)\n",
            "Requirement already satisfied: jmespath<1.0.0,>=0.7.1 in /usr/local/lib/python3.7/dist-packages (from boto3~=1.9->rasa-nlu~=0.15->rasa_core) (0.10.0)\n",
            "Requirement already satisfied: s3transfer<0.6.0,>=0.5.0 in /usr/local/lib/python3.7/dist-packages (from boto3~=1.9->rasa-nlu~=0.15->rasa_core) (0.5.2)\n",
            "Requirement already satisfied: botocore<1.25.0,>=1.24.8 in /usr/local/lib/python3.7/dist-packages (from boto3~=1.9->rasa-nlu~=0.15->rasa_core) (1.24.8)\n",
            "Requirement already satisfied: urllib3<1.27,>=1.25.4 in /usr/local/lib/python3.7/dist-packages (from botocore<1.25.0,>=1.24.8->boto3~=1.9->rasa-nlu~=0.15->rasa_core) (1.25.11)\n",
            "Requirement already satisfied: Twisted>=15.5 in /usr/local/lib/python3.7/dist-packages (from klein~=17.10->rasa-nlu~=0.15->rasa_core) (22.1.0)\n",
            "Requirement already satisfied: incremental in /usr/local/lib/python3.7/dist-packages (from klein~=17.10->rasa-nlu~=0.15->rasa_core) (21.3.0)\n",
            "Requirement already satisfied: cycler>=0.10 in /usr/local/lib/python3.7/dist-packages (from matplotlib~=2.2->rasa-nlu~=0.15->rasa_core) (0.11.0)\n",
            "Requirement already satisfied: kiwisolver>=1.0.1 in /usr/local/lib/python3.7/dist-packages (from matplotlib~=2.2->rasa-nlu~=0.15->rasa_core) (1.3.2)\n",
            "Requirement already satisfied: chardet<4,>=3.0.2 in /usr/local/lib/python3.7/dist-packages (from requests~=2.20->rasa_core) (3.0.4)\n",
            "Requirement already satisfied: idna<3,>=2.5 in /usr/local/lib/python3.7/dist-packages (from requests~=2.20->rasa_core) (2.10)\n",
            "Requirement already satisfied: websocket-client<0.55.0,>=0.35 in /usr/local/lib/python3.7/dist-packages (from slackclient~=1.0->rasa_core) (0.54.0)\n",
            "Requirement already satisfied: wheel>=0.26 in /usr/local/lib/python3.7/dist-packages (from tensorflow~=1.13.0->rasa_core) (0.37.1)\n",
            "Requirement already satisfied: tensorflow-estimator<1.14.0rc0,>=1.13.0 in /usr/local/lib/python3.7/dist-packages (from tensorflow~=1.13.0->rasa_core) (1.13.0)\n",
            "Requirement already satisfied: astor>=0.6.0 in /usr/local/lib/python3.7/dist-packages (from tensorflow~=1.13.0->rasa_core) (0.8.1)\n",
            "Requirement already satisfied: keras-preprocessing>=1.0.5 in /usr/local/lib/python3.7/dist-packages (from tensorflow~=1.13.0->rasa_core) (1.1.2)\n",
            "Requirement already satisfied: protobuf>=3.6.1 in /usr/local/lib/python3.7/dist-packages (from tensorflow~=1.13.0->rasa_core) (3.17.3)\n",
            "Requirement already satisfied: keras-applications>=1.0.6 in /usr/local/lib/python3.7/dist-packages (from tensorflow~=1.13.0->rasa_core) (1.0.8)\n",
            "Requirement already satisfied: tensorboard<1.14.0,>=1.13.0 in /usr/local/lib/python3.7/dist-packages (from tensorflow~=1.13.0->rasa_core) (1.13.1)\n",
            "Requirement already satisfied: gast>=0.2.0 in /usr/local/lib/python3.7/dist-packages (from tensorflow~=1.13.0->rasa_core) (0.5.3)\n",
            "Requirement already satisfied: grpcio>=1.8.6 in /usr/local/lib/python3.7/dist-packages (from tensorflow~=1.13.0->rasa_core) (1.43.0)\n",
            "Requirement already satisfied: absl-py>=0.1.6 in /usr/local/lib/python3.7/dist-packages (from tensorflow~=1.13.0->rasa_core) (1.0.0)\n",
            "Requirement already satisfied: termcolor>=1.1.0 in /usr/local/lib/python3.7/dist-packages (from tensorflow~=1.13.0->rasa_core) (1.1.0)\n",
            "Requirement already satisfied: h5py in /usr/local/lib/python3.7/dist-packages (from keras-applications>=1.0.6->tensorflow~=1.13.0->rasa_core) (2.10.0)\n",
            "Requirement already satisfied: markdown>=2.6.8 in /usr/local/lib/python3.7/dist-packages (from tensorboard<1.14.0,>=1.13.0->tensorflow~=1.13.0->rasa_core) (3.3.6)\n",
            "Requirement already satisfied: zipp>=0.5 in /usr/local/lib/python3.7/dist-packages (from importlib-metadata->jsonpickle~=1.0->rasa_core) (3.7.0)\n",
            "Requirement already satisfied: typing-extensions>=3.6.4 in /usr/local/lib/python3.7/dist-packages (from importlib-metadata->jsonpickle~=1.0->rasa_core) (3.10.0.2)\n",
            "Requirement already satisfied: mock>=2.0.0 in /usr/local/lib/python3.7/dist-packages (from tensorflow-estimator<1.14.0rc0,>=1.13.0->tensorflow~=1.13.0->rasa_core) (4.0.3)\n",
            "Requirement already satisfied: attrs>=19.2.0 in /usr/local/lib/python3.7/dist-packages (from Twisted>=15.5->klein~=17.10->rasa-nlu~=0.15->rasa_core) (21.4.0)\n",
            "Requirement already satisfied: zope.interface>=4.4.2 in /usr/local/lib/python3.7/dist-packages (from Twisted>=15.5->klein~=17.10->rasa-nlu~=0.15->rasa_core) (5.4.0)\n",
            "Requirement already satisfied: Automat>=0.8.0 in /usr/local/lib/python3.7/dist-packages (from Twisted>=15.5->klein~=17.10->rasa-nlu~=0.15->rasa_core) (20.2.0)\n",
            "Requirement already satisfied: hyperlink>=17.1.1 in /usr/local/lib/python3.7/dist-packages (from Twisted>=15.5->klein~=17.10->rasa-nlu~=0.15->rasa_core) (21.0.0)\n",
            "Requirement already satisfied: constantly>=15.1 in /usr/local/lib/python3.7/dist-packages (from Twisted>=15.5->klein~=17.10->rasa-nlu~=0.15->rasa_core) (15.1.0)\n",
            "Requirement already satisfied: backports.zoneinfo in /usr/local/lib/python3.7/dist-packages (from tzlocal!=3.*,>=2.0->apscheduler~=3.0->rasa_core) (0.2.1)\n",
            "Requirement already satisfied: pytz-deprecation-shim in /usr/local/lib/python3.7/dist-packages (from tzlocal!=3.*,>=2.0->apscheduler~=3.0->rasa_core) (0.1.0.post0)\n",
            "Requirement already satisfied: requests-toolbelt in /usr/local/lib/python3.7/dist-packages (from webexteamssdk~=1.0->rasa_core) (0.9.1)\n",
            "Requirement already satisfied: cffi>=1.12 in /usr/local/lib/python3.7/dist-packages (from cryptography->python-telegram-bot~=11.0->rasa_core) (1.15.0)\n",
            "Requirement already satisfied: pycparser in /usr/local/lib/python3.7/dist-packages (from cffi>=1.12->cryptography->python-telegram-bot~=11.0->rasa_core) (2.21)\n",
            "Requirement already satisfied: tzdata in /usr/local/lib/python3.7/dist-packages (from pytz-deprecation-shim->tzlocal!=3.*,>=2.0->apscheduler~=3.0->rasa_core) (2021.5)\n",
            "Requirement already satisfied: ipython in /usr/local/lib/python3.7/dist-packages (7.32.0)\n",
            "Requirement already satisfied: pexpect>4.3 in /usr/local/lib/python3.7/dist-packages (from ipython) (4.8.0)\n",
            "Requirement already satisfied: pickleshare in /usr/local/lib/python3.7/dist-packages (from ipython) (0.7.5)\n",
            "Requirement already satisfied: decorator in /usr/local/lib/python3.7/dist-packages (from ipython) (4.4.2)\n",
            "Requirement already satisfied: setuptools>=18.5 in /usr/local/lib/python3.7/dist-packages (from ipython) (57.4.0)\n",
            "Requirement already satisfied: pygments in /usr/local/lib/python3.7/dist-packages (from ipython) (2.6.1)\n",
            "Requirement already satisfied: traitlets>=4.2 in /usr/local/lib/python3.7/dist-packages (from ipython) (5.1.1)\n",
            "Requirement already satisfied: matplotlib-inline in /usr/local/lib/python3.7/dist-packages (from ipython) (0.1.3)\n",
            "Requirement already satisfied: jedi>=0.16 in /usr/local/lib/python3.7/dist-packages (from ipython) (0.18.1)\n",
            "Requirement already satisfied: backcall in /usr/local/lib/python3.7/dist-packages (from ipython) (0.2.0)\n",
            "Requirement already satisfied: prompt-toolkit!=3.0.0,!=3.0.1,<3.1.0,>=2.0.0 in /usr/local/lib/python3.7/dist-packages (from ipython) (3.0.28)\n",
            "Requirement already satisfied: parso<0.9.0,>=0.8.0 in /usr/local/lib/python3.7/dist-packages (from jedi>=0.16->ipython) (0.8.3)\n",
            "Requirement already satisfied: ptyprocess>=0.5 in /usr/local/lib/python3.7/dist-packages (from pexpect>4.3->ipython) (0.7.0)\n",
            "Requirement already satisfied: wcwidth in /usr/local/lib/python3.7/dist-packages (from prompt-toolkit!=3.0.0,!=3.0.1,<3.1.0,>=2.0.0->ipython) (0.2.5)\n"
          ]
        }
      ],
      "source": [
        "!pip install nest_asyncio==1.3.3\n",
        "!pip install rasa_nlu[spacy]  #restart runtime after installation and rerun the cell.\n",
        "!pip install rasa_core\n",
        "!pip install -U ipython #restart runtime after installation and rerun the cell."
      ]
    },
    {
      "cell_type": "code",
      "source": [
        "import rasa_core\n",
        "import rasa_nlu\n",
        "import spacy\n",
        "import sys\n",
        "python = sys.executable"
      ],
      "metadata": {
        "id": "AJYLpMRFF_w_"
      },
      "execution_count": null,
      "outputs": []
    },
    {
      "cell_type": "code",
      "source": [
        "!python -m spacy download en_core_web_md\n"
      ],
      "metadata": {
        "colab": {
          "base_uri": "https://localhost:8080/"
        },
        "id": "NcJqMPbLHKbz",
        "outputId": "55efaff6-118c-40c1-d223-0a5c02cf53ac"
      },
      "execution_count": 3,
      "outputs": [
        {
          "output_type": "stream",
          "name": "stdout",
          "text": [
            "Collecting en_core_web_md==2.0.0\n",
            "  Downloading https://github.com/explosion/spacy-models/releases/download/en_core_web_md-2.0.0/en_core_web_md-2.0.0.tar.gz (120.8 MB)\n",
            "\u001b[K     |████████████████████████████████| 120.8 MB 12.0 MB/s \n",
            "\u001b[?25h\n",
            "\u001b[93m    Linking successful\u001b[0m\n",
            "    /usr/local/lib/python3.7/dist-packages/en_core_web_md -->\n",
            "    /usr/local/lib/python3.7/dist-packages/spacy/data/en_core_web_md\n",
            "\n",
            "    You can now load the model via spacy.load('en_core_web_md')\n",
            "\n"
          ]
        }
      ]
    },
    {
      "cell_type": "code",
      "source": [
        "nlu_md = \"\"\"\n",
        "## intent:greet\n",
        "- hey\n",
        "- hello there\n",
        "- hi\n",
        "- hello there\n",
        "- good morning\n",
        "- good evening\n",
        "- how far\n",
        "- hey there\n",
        "- whats up\n",
        "- hey dude\n",
        "- goodmorning\n",
        "- goodevening\n",
        "- good afternoon\n",
        "## intent:goodbye\n",
        "- good by\n",
        "- later\n",
        "- good night\n",
        "- good afternoon\n",
        "- bye\n",
        "- goodbye\n",
        "- have a nice day\n",
        "- see you around\n",
        "- bye bye\n",
        "- see you later\n",
        "## intent:thanks\n",
        "- thanks\n",
        "- thank you\n",
        "- appreciated\n",
        "- gracias\n",
        "## intent:directions\n",
        "- how do i get to\n",
        "- i need to get to\n",
        "- is there a bus to\n",
        "- how i go take reach\n",
        "- I need directions to\n",
        "- how do i get a cab\n",
        "- where can i get a taxi\n",
        "- where can i get a bus\n",
        "-i need to get somewhere\n",
        "-I am going somewhere\n",
        "## intent:choosing_item\n",
        "- 1\n",
        "- 2\n",
        "- 3\n",
        "- 4\n",
        "- 5\n",
        "- 6\n",
        "- 7\n",
        "## intent:accomodation_enquiry\n",
        "- Where is the nearest hotel ?\n",
        "- is there a hotel near by ?\n",
        "- shey hotel they this area ?\n",
        "- Where i fit crash for here ?\n",
        "- i want to get to a hotel\n",
        "- i need to get to a hotel\n",
        "- where can i spend the night ?\n",
        "## intent: restaurant_enquiry\n",
        "- i need to get food\n",
        "- i am hungry\n",
        "- where is the restaurant ?\n",
        "- is there a restaurant ?\n",
        "- where can i get water ?\n",
        "- where i fit buy food for here ?\n",
        "- is there a food court nearby ?\n",
        "- where them they sell food ?\n",
        "- I want chop\n",
        "- where is the nearest shop?\n",
        "- where can i eat ?\n",
        "- i need to eat\n",
        "- are there eatries around ?\n",
        "- where can i buy snacks ?\n",
        "- I want to buy food\n",
        "## intent:toilet_enquiry\n",
        "- i neeed to pee\n",
        "- where is the rest room?\n",
        "- where is the toilet\n",
        "- is there a nearby toilet?\n",
        "- i they find toilet\n",
        "- where is the bathroom\n",
        "- i need to use the bathroom\n",
        "- where can i pee\n",
        "- i want peace\n",
        "- i am pressed\n",
        "\"\"\""
      ],
      "metadata": {
        "id": "Uan4Qp4uHNht"
      },
      "execution_count": 4,
      "outputs": []
    },
    {
      "cell_type": "code",
      "source": [
        "!touch nlu.md\n",
        "%store nlu_md >nlu.md"
      ],
      "metadata": {
        "colab": {
          "base_uri": "https://localhost:8080/"
        },
        "id": "ZCtZOLQAHZnN",
        "outputId": "5be48a3c-1656-4a56-821a-8c96e2d359e2"
      },
      "execution_count": 5,
      "outputs": [
        {
          "output_type": "stream",
          "name": "stdout",
          "text": [
            "Writing 'nlu_md' (str) to file 'nlu.md'.\n"
          ]
        }
      ]
    },
    {
      "cell_type": "code",
      "source": [
        "config = \"\"\"\n",
        "language: \"en_core_web_md\"\n",
        "pipeline:\n",
        "- name: \"nlp_spacy\"                   # loads the spacy language model\n",
        "- name: \"tokenizer_spacy\"             # splits the sentence into tokens\n",
        "- name: \"ner_crf\"                     # uses the pretrained spacy NER model\n",
        "- name: \"intent_featurizer_spacy\"     # transform the sentence into a vector representation\n",
        "- name: \"intent_classifier_sklearn\"   # uses the vector representation to classify using SVM\n",
        "- name: \"ner_synonyms\"                # trains the synonyms\n",
        "policies:\n",
        "- name: \"RulePolicy\"\n",
        "# a confidence >= core_fallback_threshold\n",
        "core_fallback_threshold: 0.68                            # Confidence threshold for the `core_fallback_action_name` to apply.\n",
        "core_fallback_action_name: \"action_default_fallback\"     # The action will apply if no other action was predicted with\n",
        "enable_fallback_prediction: True                         # a confidence >= core_fallback_threshold\n",
        "\"\"\""
      ],
      "metadata": {
        "id": "NH3wFitUHcmN"
      },
      "execution_count": 6,
      "outputs": []
    },
    {
      "cell_type": "code",
      "source": [
        "!touch config.yml\n",
        "%store config >config.yml"
      ],
      "metadata": {
        "colab": {
          "base_uri": "https://localhost:8080/"
        },
        "id": "yg22MEFRHp5N",
        "outputId": "4719a285-eea1-467f-a8e4-f901ae6de68d"
      },
      "execution_count": 9,
      "outputs": [
        {
          "output_type": "stream",
          "name": "stdout",
          "text": [
            "Writing 'config' (str) to file 'config.yml'.\n"
          ]
        }
      ]
    },
    {
      "cell_type": "code",
      "source": [
        "from rasa_nlu.training_data import load_data\n",
        "from rasa_nlu.config import RasaNLUModelConfig\n",
        "from rasa_nlu.model import Trainer\n",
        "from rasa_nlu import config\n"
      ],
      "metadata": {
        "id": "8TBWhzyKHzX3"
      },
      "execution_count": 4,
      "outputs": []
    },
    {
      "cell_type": "code",
      "source": [
        "# loading the nlu training samples\n",
        "training_data = load_data(\"nlu.md\")\n",
        "trainer = Trainer(config.load(\"config.yml\"))"
      ],
      "metadata": {
        "id": "X-NH8bhzIC7Y"
      },
      "execution_count": 5,
      "outputs": []
    },
    {
      "cell_type": "code",
      "source": [
        "#training the nlu\n",
        "interpreter = trainer.train(training_data)\n"
      ],
      "metadata": {
        "colab": {
          "base_uri": "https://localhost:8080/"
        },
        "id": "WUOaHd7OIGUm",
        "outputId": "6307eb26-7a3b-4b10-f2f9-a82d9a623da1"
      },
      "execution_count": 6,
      "outputs": [
        {
          "output_type": "stream",
          "name": "stdout",
          "text": [
            "Fitting 2 folds for each of 6 candidates, totalling 12 fits\n"
          ]
        },
        {
          "output_type": "stream",
          "name": "stderr",
          "text": [
            "[Parallel(n_jobs=1)]: Using backend SequentialBackend with 1 concurrent workers.\n",
            "/usr/local/lib/python3.7/dist-packages/sklearn/metrics/classification.py:1143: UndefinedMetricWarning: F-score is ill-defined and being set to 0.0 in labels with no predicted samples.\n",
            "  'precision', 'predicted', average, warn_for)\n",
            "/usr/local/lib/python3.7/dist-packages/sklearn/metrics/classification.py:1143: UndefinedMetricWarning: F-score is ill-defined and being set to 0.0 in labels with no predicted samples.\n",
            "  'precision', 'predicted', average, warn_for)\n",
            "/usr/local/lib/python3.7/dist-packages/sklearn/metrics/classification.py:1143: UndefinedMetricWarning: F-score is ill-defined and being set to 0.0 in labels with no predicted samples.\n",
            "  'precision', 'predicted', average, warn_for)\n",
            "/usr/local/lib/python3.7/dist-packages/sklearn/metrics/classification.py:1143: UndefinedMetricWarning: F-score is ill-defined and being set to 0.0 in labels with no predicted samples.\n",
            "  'precision', 'predicted', average, warn_for)\n",
            "/usr/local/lib/python3.7/dist-packages/sklearn/metrics/classification.py:1143: UndefinedMetricWarning: F-score is ill-defined and being set to 0.0 in labels with no predicted samples.\n",
            "  'precision', 'predicted', average, warn_for)\n",
            "/usr/local/lib/python3.7/dist-packages/sklearn/metrics/classification.py:1143: UndefinedMetricWarning: F-score is ill-defined and being set to 0.0 in labels with no predicted samples.\n",
            "  'precision', 'predicted', average, warn_for)\n",
            "[Parallel(n_jobs=1)]: Done  12 out of  12 | elapsed:    0.2s finished\n"
          ]
        }
      ]
    },
    {
      "cell_type": "code",
      "source": [
        "model_directory = trainer.persist(\"./models/nlu\", fixed_model_name=\"current\")"
      ],
      "metadata": {
        "id": "_EfYMXsuIRix"
      },
      "execution_count": 7,
      "outputs": []
    },
    {
      "cell_type": "code",
      "source": [
        "import json\n",
        "def pprint(o):\n",
        "    print(json.dumps(o, indent=2))\n",
        "pprint(interpreter.parse(\"where is hotel\"))\n"
      ],
      "metadata": {
        "colab": {
          "base_uri": "https://localhost:8080/"
        },
        "id": "LrbVg3xaIWn3",
        "outputId": "0434e207-8696-4671-bc8f-d6f3e68fdc86"
      },
      "execution_count": 8,
      "outputs": [
        {
          "output_type": "stream",
          "name": "stdout",
          "text": [
            "{\n",
            "  \"intent\": {\n",
            "    \"name\": \"accomodation_enquiry\",\n",
            "    \"confidence\": 0.7933114268106558\n",
            "  },\n",
            "  \"entities\": [],\n",
            "  \"intent_ranking\": [\n",
            "    {\n",
            "      \"name\": \"accomodation_enquiry\",\n",
            "      \"confidence\": 0.7933114268106558\n",
            "    },\n",
            "    {\n",
            "      \"name\": \"toilet_enquiry\",\n",
            "      \"confidence\": 0.07066984342886706\n",
            "    },\n",
            "    {\n",
            "      \"name\": \"restaurant_enquiry\",\n",
            "      \"confidence\": 0.041696646194211734\n",
            "    },\n",
            "    {\n",
            "      \"name\": \"goodbye\",\n",
            "      \"confidence\": 0.030620425055720074\n",
            "    },\n",
            "    {\n",
            "      \"name\": \"greet\",\n",
            "      \"confidence\": 0.017953616039899676\n",
            "    },\n",
            "    {\n",
            "      \"name\": \"directions\",\n",
            "      \"confidence\": 0.016016613529361554\n",
            "    },\n",
            "    {\n",
            "      \"name\": \"thanks\",\n",
            "      \"confidence\": 0.015675564431550403\n",
            "    },\n",
            "    {\n",
            "      \"name\": \"choosing_item\",\n",
            "      \"confidence\": 0.014055864509733996\n",
            "    }\n",
            "  ],\n",
            "  \"text\": \"where is hotel\"\n",
            "}\n"
          ]
        }
      ]
    },
    {
      "cell_type": "code",
      "source": [
        "# Writing stories and saving it in the stories.md file\n",
        "stories_md = \"\"\"\n",
        "##  Greeting path\n",
        "* greet\n",
        "- utter_greet\n",
        "## directions path\n",
        "* directions\n",
        "- utter_menu\n",
        "* choosing_destination\n",
        "- utter_destination_received\n",
        "## Enquires path\n",
        "* accomodation_enquiry\n",
        "- utter_enquiry\n",
        "## thanks path\n",
        "* thanks\n",
        "- utter_thanks\n",
        "## restaurant path\n",
        "* restaurant_enquiry\n",
        "- utter_restaurant_enquiry\n",
        "## toilet path\n",
        "* toilet_enquiry\n",
        "- utter_toilet_location\n",
        "## say goodbye\n",
        "* goodbye\n",
        "- utter_goodbye\n",
        "## thanks\n",
        "* thanks\n",
        "- utter_thanks\n",
        "## fallback rule\n",
        "* bot_fallback\n",
        "- action_default_fallback\n",
        "\"\"\"\n",
        "%store stories_md >stories.md\n"
      ],
      "metadata": {
        "colab": {
          "base_uri": "https://localhost:8080/"
        },
        "id": "Hhp957GSIcnW",
        "outputId": "6574996f-c7a6-4afe-c197-2c764796219c"
      },
      "execution_count": 18,
      "outputs": [
        {
          "output_type": "stream",
          "name": "stdout",
          "text": [
            "Writing 'stories_md' (str) to file 'stories.md'.\n"
          ]
        }
      ]
    },
    {
      "cell_type": "code",
      "source": [
        "# Writing all the intents,slots,entities,actions and templates to domain.yml\n",
        "domain_yml = \"\"\"version: \"3.0\"\n",
        "intents:\n",
        "- greet\n",
        "- goodbye\n",
        "- directions\n",
        "- choosing_item\n",
        "- accomodation_enquiry\n",
        "- restaurant_enquiry\n",
        "- toilet_enquiry\n",
        "- thanks\n",
        "type: text\n",
        "entities:\n",
        "- group\n",
        "actions:\n",
        "- utter_greet\n",
        "- utter_menu\n",
        "- utter_destination_received\n",
        "- utter_enquiry\n",
        "- utter_toilet_location\n",
        "- utter_restaurant_enquiry\n",
        "- utter_goodbye\n",
        "- utter_thanks\n",
        "- utter_default\n",
        "templates:\n",
        "utter_greet:\n",
        "- text: \"Hey! Welcome to NRC Kubwa terminal . How may I help you ? \"\n",
        "utter_menu:\n",
        "- text: \"There is a bus terminal outside the station, it's just accross the road.  You can board a bus to the following destinations: \\n\\n 1. Wuse  2. Airport 3. Nyanya  4. Zuba  5. Asokoro  6. Maitama  7. Area one  8. Central area  8. Secretariat. \\n\\n Enter  the appropraite number to know when the next bus leaves the terminal. \\n\\n \\n\\n  You:\"\n",
        "utter_destination_received:\n",
        "- text: \" The next bus leaves in 15 minutes, do have a safe trip. \"\n",
        "utter_goodbye:\n",
        "- text: \" Thank you for choosing to transit with us. Waiting for your next visit. \"\n",
        "utter_enquiry:\n",
        "- text: \" Take a right turn from the exit, there are several hotels at your service. \"\n",
        "utter_toilet_location:\n",
        "- text: \" There is a toilet symbol on the extreme right from where you stand. \"\n",
        "utter_restaurant_enquiry:\n",
        "- text: \" There is a food court filled with a variety of rastaurants at the extreme left after the entrance. \"\n",
        "utter_thanks:\n",
        "- text: \" my pleasure \"\n",
        "utter_default:\n",
        "- text: \" I'm sorry, I didn't quite understand that. Could you rephrase? \"\n",
        "\"\"\"\n",
        "%store domain_yml >domain.yml"
      ],
      "metadata": {
        "colab": {
          "base_uri": "https://localhost:8080/"
        },
        "id": "zpGarPaqIwdt",
        "outputId": "7dee3fb0-cd24-4a61-a297-87992ac32e2f"
      },
      "execution_count": 35,
      "outputs": [
        {
          "output_type": "stream",
          "name": "stdout",
          "text": [
            "Writing 'domain_yml' (str) to file 'domain.yml'.\n"
          ]
        }
      ]
    },
    {
      "cell_type": "code",
      "source": [
        "from rasa_core.policies import FallbackPolicy, MemoizationPolicy,KerasPolicy"
      ],
      "metadata": {
        "id": "ZvxXLByYJYBL"
      },
      "execution_count": 9,
      "outputs": []
    },
    {
      "cell_type": "code",
      "source": [
        "from rasa_core.agent import Agent\n"
      ],
      "metadata": {
        "id": "di2tLe0wJ1Zi"
      },
      "execution_count": 10,
      "outputs": []
    },
    {
      "cell_type": "code",
      "source": [
        "agent = Agent('domain.yml', policies=[MemoizationPolicy(), KerasPolicy(), ])"
      ],
      "metadata": {
        "id": "R_moYDinJ25c"
      },
      "execution_count": 11,
      "outputs": []
    },
    {
      "cell_type": "code",
      "source": [
        "training_data = agent.load_data('stories.md')\n"
      ],
      "metadata": {
        "colab": {
          "base_uri": "https://localhost:8080/"
        },
        "id": "V8MVtxLPJ4Ez",
        "outputId": "4e96685b-e3fb-481d-d1f6-c4d7a0e7e2fd"
      },
      "execution_count": 12,
      "outputs": [
        {
          "output_type": "stream",
          "name": "stderr",
          "text": [
            "Processed Story Blocks: 100%|██████████| 9/9 [00:00<00:00, 170.05it/s, # trackers=1]\n",
            "Processed Story Blocks: 100%|██████████| 9/9 [00:00<00:00, 171.93it/s, # trackers=8]\n",
            "Processed Story Blocks: 100%|██████████| 9/9 [00:00<00:00, 124.35it/s, # trackers=20]\n",
            "Processed Story Blocks: 100%|██████████| 9/9 [00:00<00:00, 82.35it/s, # trackers=20]\n"
          ]
        }
      ]
    },
    {
      "cell_type": "code",
      "source": [
        "agent.train(\n",
        "training_data)\n",
        "#validation_split=0.0,\n",
        "#epochs=200)\n"
      ],
      "metadata": {
        "colab": {
          "base_uri": "https://localhost:8080/"
        },
        "id": "DWbQF3i7OOU3",
        "outputId": "0d3a022b-911d-49df-c871-2cddfefe4c2d"
      },
      "execution_count": 13,
      "outputs": [
        {
          "output_type": "stream",
          "name": "stderr",
          "text": [
            "Processed actions: 19it [00:00, 140.86it/s, # examples=19]\n"
          ]
        },
        {
          "output_type": "stream",
          "name": "stdout",
          "text": [
            "WARNING:tensorflow:From /usr/local/lib/python3.7/dist-packages/tensorflow/python/ops/resource_variable_ops.py:435: colocate_with (from tensorflow.python.framework.ops) is deprecated and will be removed in a future version.\n",
            "Instructions for updating:\n",
            "Colocations handled automatically by placer.\n",
            "WARNING:tensorflow:From /usr/local/lib/python3.7/dist-packages/tensorflow/python/keras/backend.py:4010: calling dropout (from tensorflow.python.ops.nn_ops) with keep_prob is deprecated and will be removed in a future version.\n",
            "Instructions for updating:\n",
            "Please use `rate` instead of `keep_prob`. Rate should be set to `rate = 1 - keep_prob`.\n",
            "_________________________________________________________________\n",
            "Layer (type)                 Output Shape              Param #   \n",
            "=================================================================\n",
            "masking (Masking)            (None, 5, 26)             0         \n",
            "_________________________________________________________________\n",
            "lstm (LSTM)                  (None, 32)                7552      \n",
            "_________________________________________________________________\n",
            "dense (Dense)                (None, 17)                561       \n",
            "_________________________________________________________________\n",
            "activation (Activation)      (None, 17)                0         \n",
            "=================================================================\n",
            "Total params: 8,113\n",
            "Trainable params: 8,113\n",
            "Non-trainable params: 0\n",
            "_________________________________________________________________\n",
            "WARNING:tensorflow:From /usr/local/lib/python3.7/dist-packages/tensorflow/python/ops/math_ops.py:3066: to_int32 (from tensorflow.python.ops.math_ops) is deprecated and will be removed in a future version.\n",
            "Instructions for updating:\n",
            "Use tf.cast instead.\n",
            "Epoch 1/100\n",
            "413/413 [==============================] - 1s 2ms/sample - loss: 2.7688 - acc: 0.2518\n",
            "Epoch 2/100\n",
            "413/413 [==============================] - 0s 233us/sample - loss: 2.6114 - acc: 0.4939\n",
            "Epoch 3/100\n",
            "413/413 [==============================] - 0s 205us/sample - loss: 2.3985 - acc: 0.5012\n",
            "Epoch 4/100\n",
            "413/413 [==============================] - 0s 209us/sample - loss: 2.1332 - acc: 0.5012\n",
            "Epoch 5/100\n",
            "413/413 [==============================] - 0s 200us/sample - loss: 1.9549 - acc: 0.5012\n",
            "Epoch 6/100\n",
            "413/413 [==============================] - 0s 205us/sample - loss: 1.8789 - acc: 0.5012\n",
            "Epoch 7/100\n",
            "413/413 [==============================] - 0s 210us/sample - loss: 1.8361 - acc: 0.5012\n",
            "Epoch 8/100\n",
            "413/413 [==============================] - 0s 233us/sample - loss: 1.7837 - acc: 0.5012\n",
            "Epoch 9/100\n",
            "413/413 [==============================] - 0s 212us/sample - loss: 1.7526 - acc: 0.5012\n",
            "Epoch 10/100\n",
            "413/413 [==============================] - 0s 212us/sample - loss: 1.7037 - acc: 0.5012\n",
            "Epoch 11/100\n",
            "413/413 [==============================] - 0s 193us/sample - loss: 1.6871 - acc: 0.5012\n",
            "Epoch 12/100\n",
            "413/413 [==============================] - 0s 193us/sample - loss: 1.6488 - acc: 0.5012\n",
            "Epoch 13/100\n",
            "413/413 [==============================] - 0s 201us/sample - loss: 1.6196 - acc: 0.5012\n",
            "Epoch 14/100\n",
            "413/413 [==============================] - 0s 212us/sample - loss: 1.5900 - acc: 0.5012\n",
            "Epoch 15/100\n",
            "413/413 [==============================] - 0s 200us/sample - loss: 1.5396 - acc: 0.5012\n",
            "Epoch 16/100\n",
            "413/413 [==============================] - 0s 219us/sample - loss: 1.5163 - acc: 0.5036\n",
            "Epoch 17/100\n",
            "413/413 [==============================] - 0s 222us/sample - loss: 1.4656 - acc: 0.5036\n",
            "Epoch 18/100\n",
            "413/413 [==============================] - 0s 225us/sample - loss: 1.4286 - acc: 0.5012\n",
            "Epoch 19/100\n",
            "413/413 [==============================] - 0s 232us/sample - loss: 1.3962 - acc: 0.5061\n",
            "Epoch 20/100\n",
            "413/413 [==============================] - 0s 208us/sample - loss: 1.3595 - acc: 0.5036\n",
            "Epoch 21/100\n",
            "413/413 [==============================] - 0s 206us/sample - loss: 1.2996 - acc: 0.5157\n",
            "Epoch 22/100\n",
            "413/413 [==============================] - 0s 211us/sample - loss: 1.2572 - acc: 0.5400\n",
            "Epoch 23/100\n",
            "413/413 [==============================] - 0s 214us/sample - loss: 1.2019 - acc: 0.5617\n",
            "Epoch 24/100\n",
            "413/413 [==============================] - 0s 209us/sample - loss: 1.1553 - acc: 0.5932\n",
            "Epoch 25/100\n",
            "413/413 [==============================] - 0s 214us/sample - loss: 1.1175 - acc: 0.6223\n",
            "Epoch 26/100\n",
            "413/413 [==============================] - 0s 232us/sample - loss: 1.0637 - acc: 0.6707\n",
            "Epoch 27/100\n",
            "413/413 [==============================] - 0s 226us/sample - loss: 1.0374 - acc: 0.6804\n",
            "Epoch 28/100\n",
            "413/413 [==============================] - 0s 230us/sample - loss: 1.0045 - acc: 0.7409\n",
            "Epoch 29/100\n",
            "413/413 [==============================] - 0s 246us/sample - loss: 0.9703 - acc: 0.7433\n",
            "Epoch 30/100\n",
            "413/413 [==============================] - 0s 196us/sample - loss: 0.9442 - acc: 0.7893\n",
            "Epoch 31/100\n",
            "413/413 [==============================] - 0s 211us/sample - loss: 0.9204 - acc: 0.7990\n",
            "Epoch 32/100\n",
            "413/413 [==============================] - 0s 202us/sample - loss: 0.8876 - acc: 0.8136\n",
            "Epoch 33/100\n",
            "413/413 [==============================] - 0s 198us/sample - loss: 0.8661 - acc: 0.8402\n",
            "Epoch 34/100\n",
            "413/413 [==============================] - 0s 201us/sample - loss: 0.8402 - acc: 0.8547\n",
            "Epoch 35/100\n",
            "413/413 [==============================] - 0s 210us/sample - loss: 0.8210 - acc: 0.8547\n",
            "Epoch 36/100\n",
            "413/413 [==============================] - 0s 204us/sample - loss: 0.8071 - acc: 0.8571\n",
            "Epoch 37/100\n",
            "413/413 [==============================] - 0s 210us/sample - loss: 0.7868 - acc: 0.8475\n",
            "Epoch 38/100\n",
            "413/413 [==============================] - 0s 208us/sample - loss: 0.7655 - acc: 0.8717\n",
            "Epoch 39/100\n",
            "413/413 [==============================] - 0s 222us/sample - loss: 0.7496 - acc: 0.8644\n",
            "Epoch 40/100\n",
            "413/413 [==============================] - 0s 258us/sample - loss: 0.7121 - acc: 0.8765\n",
            "Epoch 41/100\n",
            "413/413 [==============================] - 0s 226us/sample - loss: 0.6625 - acc: 0.8983\n",
            "Epoch 42/100\n",
            "413/413 [==============================] - 0s 200us/sample - loss: 0.6745 - acc: 0.8838\n",
            "Epoch 43/100\n",
            "413/413 [==============================] - 0s 200us/sample - loss: 0.6392 - acc: 0.8983\n",
            "Epoch 44/100\n",
            "413/413 [==============================] - 0s 213us/sample - loss: 0.6263 - acc: 0.9031\n",
            "Epoch 45/100\n",
            "413/413 [==============================] - 0s 202us/sample - loss: 0.6066 - acc: 0.9153\n",
            "Epoch 46/100\n",
            "413/413 [==============================] - 0s 201us/sample - loss: 0.5969 - acc: 0.9080\n",
            "Epoch 47/100\n",
            "413/413 [==============================] - 0s 209us/sample - loss: 0.5537 - acc: 0.9225\n",
            "Epoch 48/100\n",
            "413/413 [==============================] - 0s 219us/sample - loss: 0.5581 - acc: 0.9104\n",
            "Epoch 49/100\n",
            "413/413 [==============================] - 0s 201us/sample - loss: 0.5340 - acc: 0.9346\n",
            "Epoch 50/100\n",
            "413/413 [==============================] - 0s 198us/sample - loss: 0.5209 - acc: 0.9104\n",
            "Epoch 51/100\n",
            "413/413 [==============================] - 0s 230us/sample - loss: 0.5101 - acc: 0.9298\n",
            "Epoch 52/100\n",
            "413/413 [==============================] - 0s 216us/sample - loss: 0.4998 - acc: 0.9201\n",
            "Epoch 53/100\n",
            "413/413 [==============================] - 0s 209us/sample - loss: 0.4757 - acc: 0.9274\n",
            "Epoch 54/100\n",
            "413/413 [==============================] - 0s 225us/sample - loss: 0.4413 - acc: 0.9346\n",
            "Epoch 55/100\n",
            "413/413 [==============================] - 0s 209us/sample - loss: 0.4176 - acc: 0.9516\n",
            "Epoch 56/100\n",
            "413/413 [==============================] - 0s 207us/sample - loss: 0.3957 - acc: 0.9613\n",
            "Epoch 57/100\n",
            "413/413 [==============================] - 0s 205us/sample - loss: 0.4033 - acc: 0.9637\n",
            "Epoch 58/100\n",
            "413/413 [==============================] - 0s 198us/sample - loss: 0.3757 - acc: 0.9685\n",
            "Epoch 59/100\n",
            "413/413 [==============================] - 0s 221us/sample - loss: 0.3655 - acc: 0.9613\n",
            "Epoch 60/100\n",
            "413/413 [==============================] - 0s 238us/sample - loss: 0.3407 - acc: 0.9613\n",
            "Epoch 61/100\n",
            "413/413 [==============================] - 0s 215us/sample - loss: 0.3210 - acc: 0.9709\n",
            "Epoch 62/100\n",
            "413/413 [==============================] - 0s 238us/sample - loss: 0.3721 - acc: 0.9395\n",
            "Epoch 63/100\n",
            "413/413 [==============================] - 0s 209us/sample - loss: 0.3505 - acc: 0.9443\n",
            "Epoch 64/100\n",
            "413/413 [==============================] - 0s 217us/sample - loss: 0.3158 - acc: 0.9734\n",
            "Epoch 65/100\n",
            "413/413 [==============================] - 0s 216us/sample - loss: 0.2869 - acc: 0.9782\n",
            "Epoch 66/100\n",
            "413/413 [==============================] - 0s 230us/sample - loss: 0.3085 - acc: 0.9588\n",
            "Epoch 67/100\n",
            "413/413 [==============================] - 0s 203us/sample - loss: 0.3117 - acc: 0.9492\n",
            "Epoch 68/100\n",
            "413/413 [==============================] - 0s 202us/sample - loss: 0.2874 - acc: 0.9516\n",
            "Epoch 69/100\n",
            "413/413 [==============================] - 0s 209us/sample - loss: 0.3047 - acc: 0.9516\n",
            "Epoch 70/100\n",
            "413/413 [==============================] - 0s 206us/sample - loss: 0.2727 - acc: 0.9637\n",
            "Epoch 71/100\n",
            "413/413 [==============================] - 0s 233us/sample - loss: 0.2549 - acc: 0.9661\n",
            "Epoch 72/100\n",
            "413/413 [==============================] - 0s 203us/sample - loss: 0.2510 - acc: 0.9709\n",
            "Epoch 73/100\n",
            "413/413 [==============================] - 0s 239us/sample - loss: 0.2470 - acc: 0.9709\n",
            "Epoch 74/100\n",
            "413/413 [==============================] - 0s 213us/sample - loss: 0.2388 - acc: 0.9685\n",
            "Epoch 75/100\n",
            "413/413 [==============================] - 0s 206us/sample - loss: 0.2254 - acc: 0.9758\n",
            "Epoch 76/100\n",
            "413/413 [==============================] - 0s 216us/sample - loss: 0.2124 - acc: 0.9685\n",
            "Epoch 77/100\n",
            "413/413 [==============================] - 0s 224us/sample - loss: 0.2176 - acc: 0.9613\n",
            "Epoch 78/100\n",
            "413/413 [==============================] - 0s 218us/sample - loss: 0.2130 - acc: 0.9661\n",
            "Epoch 79/100\n",
            "413/413 [==============================] - 0s 208us/sample - loss: 0.2087 - acc: 0.9637\n",
            "Epoch 80/100\n",
            "413/413 [==============================] - 0s 232us/sample - loss: 0.2494 - acc: 0.9564\n",
            "Epoch 81/100\n",
            "413/413 [==============================] - 0s 221us/sample - loss: 0.2099 - acc: 0.9661\n",
            "Epoch 82/100\n",
            "413/413 [==============================] - 0s 205us/sample - loss: 0.1719 - acc: 0.9734\n",
            "Epoch 83/100\n",
            "413/413 [==============================] - 0s 260us/sample - loss: 0.1794 - acc: 0.9637\n",
            "Epoch 84/100\n",
            "413/413 [==============================] - 0s 203us/sample - loss: 0.1778 - acc: 0.9758\n",
            "Epoch 85/100\n",
            "413/413 [==============================] - 0s 217us/sample - loss: 0.1957 - acc: 0.9685\n",
            "Epoch 86/100\n",
            "413/413 [==============================] - 0s 212us/sample - loss: 0.1782 - acc: 0.9637\n",
            "Epoch 87/100\n",
            "413/413 [==============================] - 0s 201us/sample - loss: 0.1978 - acc: 0.9613\n",
            "Epoch 88/100\n",
            "413/413 [==============================] - 0s 209us/sample - loss: 0.1779 - acc: 0.9613\n",
            "Epoch 89/100\n",
            "413/413 [==============================] - 0s 215us/sample - loss: 0.1690 - acc: 0.9661\n",
            "Epoch 90/100\n",
            "413/413 [==============================] - 0s 245us/sample - loss: 0.1418 - acc: 0.9806\n",
            "Epoch 91/100\n",
            "413/413 [==============================] - 0s 206us/sample - loss: 0.1604 - acc: 0.9734\n",
            "Epoch 92/100\n",
            "413/413 [==============================] - 0s 232us/sample - loss: 0.1560 - acc: 0.9709\n",
            "Epoch 93/100\n",
            "413/413 [==============================] - 0s 216us/sample - loss: 0.1420 - acc: 0.9782\n",
            "Epoch 94/100\n",
            "413/413 [==============================] - 0s 258us/sample - loss: 0.1387 - acc: 0.9806\n",
            "Epoch 95/100\n",
            "413/413 [==============================] - 0s 211us/sample - loss: 0.1600 - acc: 0.9637\n",
            "Epoch 96/100\n",
            "413/413 [==============================] - 0s 217us/sample - loss: 0.1455 - acc: 0.9758\n",
            "Epoch 97/100\n",
            "413/413 [==============================] - 0s 222us/sample - loss: 0.1413 - acc: 0.9782\n",
            "Epoch 98/100\n",
            "413/413 [==============================] - 0s 208us/sample - loss: 0.1358 - acc: 0.9685\n",
            "Epoch 99/100\n",
            "413/413 [==============================] - 0s 214us/sample - loss: 0.1478 - acc: 0.9685\n",
            "Epoch 100/100\n",
            "413/413 [==============================] - 0s 237us/sample - loss: 0.1423 - acc: 0.9734\n"
          ]
        }
      ]
    },
    {
      "cell_type": "code",
      "source": [
        "agent.persist('models/dialogue')\n"
      ],
      "metadata": {
        "id": "cJDlMRecORKw"
      },
      "execution_count": 14,
      "outputs": []
    },
    {
      "cell_type": "code",
      "source": [
        "!pip uninstall h5py\n",
        "!pip install h5py==2.10.0\n"
      ],
      "metadata": {
        "colab": {
          "base_uri": "https://localhost:8080/",
          "height": 433
        },
        "id": "wvo0fKVIOwXB",
        "outputId": "4b66a1ca-bc08-44ba-99e2-a2118472ff1f"
      },
      "execution_count": 47,
      "outputs": [
        {
          "output_type": "stream",
          "name": "stdout",
          "text": [
            "Found existing installation: h5py 3.1.0\n",
            "Uninstalling h5py-3.1.0:\n",
            "  Would remove:\n",
            "    /usr/local/lib/python3.7/dist-packages/h5py-3.1.0.dist-info/*\n",
            "    /usr/local/lib/python3.7/dist-packages/h5py.libs/libaec-9c9e97eb.so.0.0.10\n",
            "    /usr/local/lib/python3.7/dist-packages/h5py.libs/libhdf5-00e8fae8.so.200.0.0\n",
            "    /usr/local/lib/python3.7/dist-packages/h5py.libs/libhdf5_hl-383c339f.so.200.0.0\n",
            "    /usr/local/lib/python3.7/dist-packages/h5py.libs/libsz-e7aa62f5.so.2.0.1\n",
            "    /usr/local/lib/python3.7/dist-packages/h5py.libs/libz-eb09ad1d.so.1.2.3\n",
            "    /usr/local/lib/python3.7/dist-packages/h5py/*\n",
            "Proceed (y/n)? y\n",
            "  Successfully uninstalled h5py-3.1.0\n",
            "Collecting h5py==2.10.0\n",
            "  Downloading h5py-2.10.0-cp37-cp37m-manylinux1_x86_64.whl (2.9 MB)\n",
            "\u001b[K     |████████████████████████████████| 2.9 MB 4.4 MB/s \n",
            "\u001b[?25hRequirement already satisfied: numpy>=1.7 in /usr/local/lib/python3.7/dist-packages (from h5py==2.10.0) (1.21.5)\n",
            "Requirement already satisfied: six in /usr/local/lib/python3.7/dist-packages (from h5py==2.10.0) (1.15.0)\n",
            "Installing collected packages: h5py\n",
            "Successfully installed h5py-2.10.0\n"
          ]
        },
        {
          "output_type": "display_data",
          "data": {
            "application/vnd.colab-display-data+json": {
              "pip_warning": {
                "packages": [
                  "h5py"
                ]
              }
            }
          },
          "metadata": {}
        }
      ]
    },
    {
      "cell_type": "code",
      "source": [
        "from rasa_core.agent import Agent\n"
      ],
      "metadata": {
        "id": "rcEPDB6hOnAE"
      },
      "execution_count": 15,
      "outputs": []
    },
    {
      "cell_type": "code",
      "source": [
        "agent = Agent.load('models/dialogue', interpreter=model_directory)\n"
      ],
      "metadata": {
        "colab": {
          "base_uri": "https://localhost:8080/"
        },
        "id": "0Ky-RIPUOsOh",
        "outputId": "4a721b66-4629-4ca4-b603-72c797e00ea3"
      },
      "execution_count": 16,
      "outputs": [
        {
          "output_type": "stream",
          "name": "stdout",
          "text": [
            "\n",
            "WARNING: The TensorFlow contrib module will not be included in TensorFlow 2.0.\n",
            "For more information, please see:\n",
            "  * https://github.com/tensorflow/community/blob/master/rfcs/20180907-contrib-sunset.md\n",
            "  * https://github.com/tensorflow/addons\n",
            "If you depend on functionality not listed there, please file an issue.\n",
            "\n"
          ]
        }
      ]
    },
    {
      "cell_type": "code",
      "source": [
        "print(\"Your bot is ready to talk! Type your messages here or send 'stop'\" + \"\\n\\n\" + \"You:\")\n",
        "while True:\n",
        "    a = input()\n",
        "    if a == 'stop':\n",
        "        break\n",
        "    responses = agent.handle_message(a)\n",
        "    for response in responses:\n",
        "        print(response[\"text\"])\n"
      ],
      "metadata": {
        "colab": {
          "base_uri": "https://localhost:8080/"
        },
        "id": "qwJOh2hfOtQw",
        "outputId": "5950834a-0cff-4b9a-a37c-e7d9264b25aa"
      },
      "execution_count": 17,
      "outputs": [
        {
          "name": "stdout",
          "output_type": "stream",
          "text": [
            "Your bot is ready to talk! Type your messages here or send 'stop'\n",
            "\n",
            "You:\n",
            "hi\n",
            "Hey! Welcome to NRC Kubwa terminal . How may I help you ? \n",
            "I want to go pee\n",
            " There is a toilet symbol on the extreme right from where you stand. \n",
            "I want to eat something\n",
            " There is a food court filled with a variety of rastaurants at the extreme left after the entrance. \n",
            "I want to rest\n",
            "There is a bus terminal outside the station, it's just accross the road.  You can board a bus to the following destinations: 1. Wuse  2. Airport 3. Nyanya  4. Zuba  5. Asokoro  6. Maitama  7. Area one  8. Central area  8. Secretariat. Enter  the appropraite number to know when the next bus leaves the terminal.\n",
            "You:\n",
            "1\n",
            " The next bus leaves in 15 minutes, do have a safe trip. \n",
            "2\n",
            " I'm sorry, I didn't quite understand that. Could you rephrase? \n",
            "3\n",
            " I'm sorry, I didn't quite understand that. Could you rephrase? \n",
            "terminal\n",
            "There is a bus terminal outside the station, it's just accross the road.  You can board a bus to the following destinations: 1. Wuse  2. Airport 3. Nyanya  4. Zuba  5. Asokoro  6. Maitama  7. Area one  8. Central area  8. Secretariat. Enter  the appropraite number to know when the next bus leaves the terminal.\n",
            "You:\n",
            "stop\n"
          ]
        }
      ]
    },
    {
      "cell_type": "code",
      "source": [
        ""
      ],
      "metadata": {
        "id": "CS0F0_SLPigw"
      },
      "execution_count": null,
      "outputs": []
    }
  ]
}