{
  "cells": [
    {
      "cell_type": "code",
      "source": [
        "!pip install --upgrade pyiwn"
      ],
      "metadata": {
        "colab": {
          "base_uri": "https://localhost:8080/"
        },
        "id": "ep824LAqXH-Q",
        "outputId": "b2b6f1a6-d451-4cf1-d5d2-6da8e9140fe2"
      },
      "execution_count": null,
      "outputs": [
        {
          "output_type": "stream",
          "name": "stdout",
          "text": [
            "Collecting pyiwn\n",
            "  Downloading pyiwn-0.0.5-py3-none-any.whl (12 kB)\n",
            "Requirement already satisfied: requests in /usr/local/lib/python3.7/dist-packages (from pyiwn) (2.23.0)\n",
            "Requirement already satisfied: pandas in /usr/local/lib/python3.7/dist-packages (from pyiwn) (1.3.5)\n",
            "Requirement already satisfied: python-dateutil>=2.7.3 in /usr/local/lib/python3.7/dist-packages (from pandas->pyiwn) (2.8.2)\n",
            "Requirement already satisfied: pytz>=2017.3 in /usr/local/lib/python3.7/dist-packages (from pandas->pyiwn) (2018.9)\n",
            "Requirement already satisfied: numpy>=1.17.3 in /usr/local/lib/python3.7/dist-packages (from pandas->pyiwn) (1.21.5)\n",
            "Requirement already satisfied: six>=1.5 in /usr/local/lib/python3.7/dist-packages (from python-dateutil>=2.7.3->pandas->pyiwn) (1.15.0)\n",
            "Requirement already satisfied: urllib3!=1.25.0,!=1.25.1,<1.26,>=1.21.1 in /usr/local/lib/python3.7/dist-packages (from requests->pyiwn) (1.24.3)\n",
            "Requirement already satisfied: idna<3,>=2.5 in /usr/local/lib/python3.7/dist-packages (from requests->pyiwn) (2.10)\n",
            "Requirement already satisfied: certifi>=2017.4.17 in /usr/local/lib/python3.7/dist-packages (from requests->pyiwn) (2021.10.8)\n",
            "Requirement already satisfied: chardet<4,>=3.0.2 in /usr/local/lib/python3.7/dist-packages (from requests->pyiwn) (3.0.4)\n",
            "Installing collected packages: pyiwn\n",
            "Successfully installed pyiwn-0.0.5\n"
          ]
        }
      ]
    },
    {
      "cell_type": "code",
      "execution_count": null,
      "metadata": {
        "colab": {
          "base_uri": "https://localhost:8080/"
        },
        "id": "qfoNZVpcXBUj",
        "outputId": "67fd7790-be6d-4a9a-a51c-b5a99b9d5543"
      },
      "outputs": [
        {
          "output_type": "stream",
          "name": "stderr",
          "text": [
            "2022-03-30:05:47:25,764 INFO     [helpers.py:20] Downloading IndoWordNet data of size ~31 MB...\n"
          ]
        },
        {
          "output_type": "stream",
          "name": "stdout",
          "text": [
            "[██████████████████████████████████████████████████]"
          ]
        },
        {
          "output_type": "stream",
          "name": "stderr",
          "text": [
            "2022-03-30:05:47:29,467 INFO     [helpers.py:43] Extracting /root/iwn_data.tar.gz into /root...\n"
          ]
        },
        {
          "output_type": "stream",
          "name": "stdout",
          "text": [
            "\n"
          ]
        },
        {
          "output_type": "stream",
          "name": "stderr",
          "text": [
            "2022-03-30:05:47:30,687 INFO     [helpers.py:48] Removing temporary zip file from /root/iwn_data.tar.gz\n",
            "2022-03-30:05:47:30,696 INFO     [helpers.py:51] IndoWordNet data successfully downloaded at /root/iwn_data\n",
            "2022-03-30:05:47:30,784 INFO     [utils.py:159] NumExpr defaulting to 2 threads.\n"
          ]
        }
      ],
      "source": [
        "import pyiwn"
      ]
    },
    {
      "cell_type": "markdown",
      "metadata": {
        "id": "_KtYPXfwXBUn"
      },
      "source": [
        "### Supported Languages"
      ]
    },
    {
      "cell_type": "code",
      "execution_count": null,
      "metadata": {
        "colab": {
          "base_uri": "https://localhost:8080/"
        },
        "id": "m_atDZkaXBUp",
        "outputId": "79c7e9c8-1470-4d6f-9dba-61549fa3c5ca"
      },
      "outputs": [
        {
          "output_type": "execute_result",
          "data": {
            "text/plain": [
              "['Language.ASSAMESE',\n",
              " 'Language.BENGALI',\n",
              " 'Language.BODO',\n",
              " 'Language.GUJARATI',\n",
              " 'Language.HINDI',\n",
              " 'Language.KANNADA',\n",
              " 'Language.KASHMIRI',\n",
              " 'Language.KONKANI',\n",
              " 'Language.MALAYALAM',\n",
              " 'Language.MARATHI',\n",
              " 'Language.MEITEI',\n",
              " 'Language.NEPALI',\n",
              " 'Language.ORIYA',\n",
              " 'Language.PUNJABI',\n",
              " 'Language.SANSKRIT',\n",
              " 'Language.TAMIL',\n",
              " 'Language.TELUGU',\n",
              " 'Language.URDU']"
            ]
          },
          "metadata": {},
          "execution_count": 3
        }
      ],
      "source": [
        "list(map(str, pyiwn.Language))"
      ]
    },
    {
      "cell_type": "markdown",
      "metadata": {
        "id": "iL6fOsHuXBUr"
      },
      "source": [
        "### Create a IndoWordNet class instance"
      ]
    },
    {
      "cell_type": "code",
      "execution_count": null,
      "metadata": {
        "colab": {
          "base_uri": "https://localhost:8080/"
        },
        "id": "J-3PIEW6XBUs",
        "outputId": "f7309ea4-df38-4bc2-fffd-d97697837726"
      },
      "outputs": [
        {
          "output_type": "stream",
          "name": "stderr",
          "text": [
            "2022-03-30:06:04:11,993 INFO     [iwn.py:43] Loading marathi language synsets...\n"
          ]
        }
      ],
      "source": [
        "# language defaults to Hindi\n",
        "iwn = pyiwn.IndoWordNet(lang=pyiwn.Language.MARATHI)\n",
        "\n",
        "# to use other language wordnet(s), use:\n",
        "# iwn = pyiwn.IndoWordNet(lang=pyiwn.Language.KANNADA)"
      ]
    },
    {
      "cell_type": "markdown",
      "metadata": {
        "id": "zueBrWEAXBUt"
      },
      "source": [
        "### Words\n",
        "\n",
        "Look up a word using synsets(); this function has an optional pos argument which lets you constrain the part of speech of the word:"
      ]
    },
    {
      "cell_type": "code",
      "execution_count": null,
      "metadata": {
        "id": "otybhncmXBUu"
      },
      "outputs": [],
      "source": [
        "aam_all_synsets = iwn.synsets('हात')"
      ]
    },
    {
      "cell_type": "code",
      "execution_count": null,
      "metadata": {
        "colab": {
          "base_uri": "https://localhost:8080/"
        },
        "id": "VAvdA_Z3XBUv",
        "outputId": "6d64af05-5840-4ce8-ab95-9827988134a9"
      },
      "outputs": [
        {
          "output_type": "execute_result",
          "data": {
            "text/plain": [
              "[Synset('हात.noun.491'),\n",
              " Synset('हात.noun.4108'),\n",
              " Synset('तळहात.noun.4113'),\n",
              " Synset('हात.noun.22849'),\n",
              " Synset('हात.noun.13322'),\n",
              " Synset('हात.noun.13323'),\n",
              " Synset('हात.noun.13314'),\n",
              " Synset('वळण.noun.12074'),\n",
              " Synset('हात.noun.22852'),\n",
              " Synset('सहभाग.noun.10208'),\n",
              " Synset('हात.noun.37738'),\n",
              " Synset('हात.noun.37478')]"
            ]
          },
          "metadata": {},
          "execution_count": 106
        }
      ],
      "source": [
        "aam_all_synsets"
      ]
    },
    {
      "cell_type": "markdown",
      "metadata": {
        "id": "UFajR7zrXBUw"
      },
      "source": [
        "### Lookup synsets with POS tag"
      ]
    },
    {
      "cell_type": "code",
      "execution_count": null,
      "metadata": {
        "colab": {
          "base_uri": "https://localhost:8080/"
        },
        "id": "GGzAKLrYXBUx",
        "outputId": "9863035c-0328-421a-8827-38986617d2fb"
      },
      "outputs": [
        {
          "output_type": "execute_result",
          "data": {
            "text/plain": [
              "['PosTag.NOUN', 'PosTag.VERB', 'PosTag.ADVERB', 'PosTag.ADJECTIVE']"
            ]
          },
          "metadata": {},
          "execution_count": 107
        }
      ],
      "source": [
        "# POS\n",
        "list(map(str, pyiwn.PosTag))"
      ]
    },
    {
      "cell_type": "code",
      "execution_count": null,
      "metadata": {
        "id": "IV1LIPEjXBUy"
      },
      "outputs": [],
      "source": [
        "aam_synsets = iwn.synsets('हात', pos=pyiwn.PosTag.NOUN)"
      ]
    },
    {
      "cell_type": "code",
      "execution_count": null,
      "metadata": {
        "colab": {
          "base_uri": "https://localhost:8080/"
        },
        "id": "EkjJhOGCXBUz",
        "outputId": "99dc7efe-f6b1-4090-f777-f84c7d9419f3"
      },
      "outputs": [
        {
          "output_type": "execute_result",
          "data": {
            "text/plain": [
              "[Synset('हात.noun.491'),\n",
              " Synset('हात.noun.4108'),\n",
              " Synset('तळहात.noun.4113'),\n",
              " Synset('हात.noun.22849'),\n",
              " Synset('हात.noun.13322'),\n",
              " Synset('हात.noun.13323'),\n",
              " Synset('हात.noun.13314'),\n",
              " Synset('वळण.noun.12074'),\n",
              " Synset('हात.noun.22852'),\n",
              " Synset('सहभाग.noun.10208'),\n",
              " Synset('हात.noun.37738'),\n",
              " Synset('हात.noun.37478')]"
            ]
          },
          "metadata": {},
          "execution_count": 109
        }
      ],
      "source": [
        "aam_synsets"
      ]
    },
    {
      "cell_type": "markdown",
      "metadata": {
        "id": "KPLVnBamXBU0"
      },
      "source": [
        "### Synsets"
      ]
    },
    {
      "cell_type": "code",
      "execution_count": null,
      "metadata": {
        "id": "I7uylup-XBU0"
      },
      "outputs": [],
      "source": [
        "# let's select the first synset of 'आम'\n",
        "aam = aam_synsets[0]"
      ]
    },
    {
      "cell_type": "code",
      "execution_count": null,
      "metadata": {
        "colab": {
          "base_uri": "https://localhost:8080/"
        },
        "id": "LtBkmotgXBU1",
        "outputId": "5f50575b-bfe2-41cf-98ee-a018aab06eca"
      },
      "outputs": [
        {
          "output_type": "execute_result",
          "data": {
            "text/plain": [
              "Synset('हात.noun.491')"
            ]
          },
          "metadata": {},
          "execution_count": 111
        }
      ],
      "source": [
        "aam"
      ]
    },
    {
      "cell_type": "code",
      "execution_count": null,
      "metadata": {
        "colab": {
          "base_uri": "https://localhost:8080/"
        },
        "id": "KPpcuoOAXBU1",
        "outputId": "0b0b45f9-ccb2-49c5-c5d9-f58799d11ed6"
      },
      "outputs": [
        {
          "output_type": "execute_result",
          "data": {
            "text/plain": [
              "491"
            ]
          },
          "metadata": {},
          "execution_count": 112
        }
      ],
      "source": [
        "# Synset ID\n",
        "aam.synset_id()"
      ]
    },
    {
      "cell_type": "code",
      "execution_count": null,
      "metadata": {
        "colab": {
          "base_uri": "https://localhost:8080/",
          "height": 35
        },
        "id": "AX5PSB78XBU2",
        "outputId": "31866e5a-a56f-4010-a337-8d0be5fd5905"
      },
      "outputs": [
        {
          "output_type": "execute_result",
          "data": {
            "text/plain": [
              "'हात'"
            ],
            "application/vnd.google.colaboratory.intrinsic+json": {
              "type": "string"
            }
          },
          "metadata": {},
          "execution_count": 113
        }
      ],
      "source": [
        "# Head word of the synset\n",
        "aam.head_word()"
      ]
    },
    {
      "cell_type": "code",
      "execution_count": null,
      "metadata": {
        "colab": {
          "base_uri": "https://localhost:8080/"
        },
        "id": "O9krQmBEXBU2",
        "outputId": "9670dfc7-8acf-4a4b-f9a8-32ba2922564d"
      },
      "outputs": [
        {
          "output_type": "execute_result",
          "data": {
            "text/plain": [
              "['हात', 'भुज', 'बाहू', 'हस्त', 'कर']"
            ]
          },
          "metadata": {},
          "execution_count": 114
        }
      ],
      "source": [
        "# list of string lemmas in the synset\n",
        "aam.lemma_names()"
      ]
    },
    {
      "cell_type": "code",
      "execution_count": null,
      "metadata": {
        "colab": {
          "base_uri": "https://localhost:8080/"
        },
        "id": "OKa45KEPXBU3",
        "outputId": "eb5bd6b4-5f31-4b85-e075-79ff0e113829"
      },
      "outputs": [
        {
          "output_type": "execute_result",
          "data": {
            "text/plain": [
              "[Lemma('हात.noun.491.हात'),\n",
              " Lemma('हात.noun.491.भुज'),\n",
              " Lemma('हात.noun.491.बाहू'),\n",
              " Lemma('हात.noun.491.हस्त'),\n",
              " Lemma('हात.noun.491.कर')]"
            ]
          },
          "metadata": {},
          "execution_count": 115
        }
      ],
      "source": [
        "# list of Lemma type in the synset\n",
        "aam.lemmas()"
      ]
    },
    {
      "cell_type": "code",
      "execution_count": null,
      "metadata": {
        "colab": {
          "base_uri": "https://localhost:8080/",
          "height": 35
        },
        "id": "e0x8dp11XBU3",
        "outputId": "7c0d3d93-3d8d-48fc-bba0-1852b994b5ce"
      },
      "outputs": [
        {
          "output_type": "execute_result",
          "data": {
            "text/plain": [
              "'noun'"
            ],
            "application/vnd.google.colaboratory.intrinsic+json": {
              "type": "string"
            }
          },
          "metadata": {},
          "execution_count": 116
        }
      ],
      "source": [
        "# POS tag of the synset\n",
        "aam.pos()"
      ]
    },
    {
      "cell_type": "code",
      "execution_count": null,
      "metadata": {
        "colab": {
          "base_uri": "https://localhost:8080/",
          "height": 35
        },
        "id": "iGYxedj_XBU4",
        "outputId": "34d8d970-45f1-4aa4-cc5e-b06713b5d90f"
      },
      "outputs": [
        {
          "output_type": "execute_result",
          "data": {
            "text/plain": [
              "'मनुष्याच्या शरीरातील खांद्यापासून पंजापर्यंतचा भाग'"
            ],
            "application/vnd.google.colaboratory.intrinsic+json": {
              "type": "string"
            }
          },
          "metadata": {},
          "execution_count": 117
        }
      ],
      "source": [
        "# gloss / definition of the synset\n",
        "aam.gloss()"
      ]
    },
    {
      "cell_type": "code",
      "execution_count": null,
      "metadata": {
        "colab": {
          "base_uri": "https://localhost:8080/"
        },
        "id": "Tip9kg4WXBU4",
        "outputId": "7af821ab-a141-4980-d33f-714b7d626325"
      },
      "outputs": [
        {
          "output_type": "execute_result",
          "data": {
            "text/plain": [
              "['रावणाला दहा तोंडे आणि वीस हात होते असे म्हणतात.']"
            ]
          },
          "metadata": {},
          "execution_count": 118
        }
      ],
      "source": [
        "# examples of the synset\n",
        "aam.examples()"
      ]
    },
    {
      "cell_type": "markdown",
      "metadata": {
        "id": "IwaFQgfpXBU4"
      },
      "source": [
        "### Lemma"
      ]
    },
    {
      "cell_type": "code",
      "execution_count": null,
      "metadata": {
        "id": "8WIqttvlXBU5"
      },
      "outputs": [],
      "source": [
        "# let's select first lemma of the 'aam' synset\n",
        "aam_lemma = aam.lemmas()[0]"
      ]
    },
    {
      "cell_type": "code",
      "execution_count": null,
      "metadata": {
        "colab": {
          "base_uri": "https://localhost:8080/"
        },
        "id": "H-tcdKCwXBU6",
        "outputId": "f2009890-16e8-4972-b12d-e48922006815"
      },
      "outputs": [
        {
          "output_type": "execute_result",
          "data": {
            "text/plain": [
              "Lemma('हात.noun.491.हात')"
            ]
          },
          "metadata": {},
          "execution_count": 120
        }
      ],
      "source": [
        "aam_lemma"
      ]
    },
    {
      "cell_type": "code",
      "execution_count": null,
      "metadata": {
        "colab": {
          "base_uri": "https://localhost:8080/",
          "height": 35
        },
        "id": "eN21o7N2XBU6",
        "outputId": "50d1e51a-3a5b-4774-8b31-3daca283770b"
      },
      "outputs": [
        {
          "output_type": "execute_result",
          "data": {
            "text/plain": [
              "'हात'"
            ],
            "application/vnd.google.colaboratory.intrinsic+json": {
              "type": "string"
            }
          },
          "metadata": {},
          "execution_count": 121
        }
      ],
      "source": [
        "aam_lemma.name()"
      ]
    },
    {
      "cell_type": "code",
      "execution_count": null,
      "metadata": {
        "colab": {
          "base_uri": "https://localhost:8080/"
        },
        "id": "KvvQFWzwXBU7",
        "outputId": "e31e78f6-dcea-4943-c411-9406cd21f751"
      },
      "outputs": [
        {
          "output_type": "execute_result",
          "data": {
            "text/plain": [
              "Synset('हात.noun.491')"
            ]
          },
          "metadata": {},
          "execution_count": 122
        }
      ],
      "source": [
        "aam_lemma.synset()"
      ]
    },
    {
      "cell_type": "markdown",
      "metadata": {
        "id": "3UKjfepGXBU7"
      },
      "source": [
        "### All synsets"
      ]
    },
    {
      "cell_type": "code",
      "execution_count": null,
      "metadata": {
        "id": "YUKcfKOJXBU8"
      },
      "outputs": [],
      "source": [
        "synsets = iwn.all_synsets()"
      ]
    },
    {
      "cell_type": "code",
      "execution_count": null,
      "metadata": {
        "colab": {
          "base_uri": "https://localhost:8080/"
        },
        "id": "DzqKOvtzXBU8",
        "outputId": "06a57cd0-b09b-4893-9d11-316e60f44cb1"
      },
      "outputs": [
        {
          "output_type": "execute_result",
          "data": {
            "text/plain": [
              "32200"
            ]
          },
          "metadata": {},
          "execution_count": 124
        }
      ],
      "source": [
        "len(synsets)"
      ]
    },
    {
      "cell_type": "code",
      "execution_count": null,
      "metadata": {
        "colab": {
          "base_uri": "https://localhost:8080/"
        },
        "id": "qLuzTBuwXBU8",
        "outputId": "548d9581-c6d7-41ba-ce72-157558df5aef"
      },
      "outputs": [
        {
          "output_type": "execute_result",
          "data": {
            "text/plain": [
              "[Synset('शिवालय.noun.5'),\n",
              " Synset('अजन्मा.adjective.1'),\n",
              " Synset('आलेला.adjective.7'),\n",
              " Synset('अशुभ.adjective.2'),\n",
              " Synset('उत्पादित.adjective.10')]"
            ]
          },
          "metadata": {},
          "execution_count": 125
        }
      ],
      "source": [
        "synsets[:5]"
      ]
    },
    {
      "cell_type": "markdown",
      "metadata": {
        "id": "zQ4F7zrWXBU8"
      },
      "source": [
        "### All synsets filtered with POS tag"
      ]
    },
    {
      "cell_type": "code",
      "execution_count": null,
      "metadata": {
        "id": "1NLta6yZXBU9"
      },
      "outputs": [],
      "source": [
        "noun_synsets = iwn.all_synsets(pos=pyiwn.PosTag.NOUN)"
      ]
    },
    {
      "cell_type": "code",
      "execution_count": null,
      "metadata": {
        "colab": {
          "base_uri": "https://localhost:8080/"
        },
        "id": "xM2VIyitXBU9",
        "outputId": "5f935c23-5fd1-4024-e323-38e95cd27d51"
      },
      "outputs": [
        {
          "output_type": "execute_result",
          "data": {
            "text/plain": [
              "23249"
            ]
          },
          "metadata": {},
          "execution_count": 127
        }
      ],
      "source": [
        "len(noun_synsets)"
      ]
    },
    {
      "cell_type": "code",
      "execution_count": null,
      "metadata": {
        "colab": {
          "base_uri": "https://localhost:8080/"
        },
        "id": "oWbEXasIXBU9",
        "outputId": "e2ac6318-5250-4b40-9b16-107f96a75345"
      },
      "outputs": [
        {
          "output_type": "execute_result",
          "data": {
            "text/plain": [
              "[Synset('शिवालय.noun.5'),\n",
              " Synset('शिष्टपणा.noun.12'),\n",
              " Synset('अत्याचार.noun.13'),\n",
              " Synset('घोटाळा.noun.14'),\n",
              " Synset('जीवनसत्त्व.noun.15')]"
            ]
          },
          "metadata": {},
          "execution_count": 128
        }
      ],
      "source": [
        "noun_synsets[:5]"
      ]
    },
    {
      "cell_type": "markdown",
      "metadata": {
        "id": "5s5oiuL9XBU9"
      },
      "source": [
        "### Words in a language's WordNet"
      ]
    },
    {
      "cell_type": "code",
      "execution_count": null,
      "metadata": {
        "id": "H26j4bsjXBU9"
      },
      "outputs": [],
      "source": [
        "words = iwn.all_words()"
      ]
    },
    {
      "cell_type": "code",
      "execution_count": null,
      "metadata": {
        "colab": {
          "base_uri": "https://localhost:8080/"
        },
        "id": "UnSr0JMDXBU-",
        "outputId": "6d6c2c3a-1b68-4d57-9e29-215175caae48"
      },
      "outputs": [
        {
          "output_type": "execute_result",
          "data": {
            "text/plain": [
              "43872"
            ]
          },
          "metadata": {},
          "execution_count": 94
        }
      ],
      "source": [
        "len(words)"
      ]
    },
    {
      "cell_type": "code",
      "execution_count": null,
      "metadata": {
        "colab": {
          "base_uri": "https://localhost:8080/"
        },
        "id": "-FNPnvksXBU-",
        "outputId": "2cbf379a-b949-4a99-d2d3-af57e5d5e38b"
      },
      "outputs": [
        {
          "output_type": "execute_result",
          "data": {
            "text/plain": [
              "['शिवालय', 'शिवमंदिर', 'अजन्मा', 'आलेला', 'आगत']"
            ]
          },
          "metadata": {},
          "execution_count": 95
        }
      ],
      "source": [
        "words[:5]"
      ]
    },
    {
      "cell_type": "markdown",
      "metadata": {
        "id": "BKTxbgkrXBU-"
      },
      "source": [
        "### Words filtered by POS Tag"
      ]
    },
    {
      "cell_type": "code",
      "execution_count": null,
      "metadata": {
        "id": "IBR1Q53WXBU-"
      },
      "outputs": [],
      "source": [
        "noun_words = iwn.all_words(pos=pyiwn.PosTag.NOUN)"
      ]
    },
    {
      "cell_type": "code",
      "execution_count": null,
      "metadata": {
        "colab": {
          "base_uri": "https://localhost:8080/"
        },
        "id": "eT-UJHGYXBU_",
        "outputId": "38882bd6-9c59-4a39-f65c-8d2ef2b46236"
      },
      "outputs": [
        {
          "output_type": "execute_result",
          "data": {
            "text/plain": [
              "32294"
            ]
          },
          "metadata": {},
          "execution_count": 56
        }
      ],
      "source": [
        "len(noun_words)"
      ]
    },
    {
      "cell_type": "code",
      "execution_count": null,
      "metadata": {
        "colab": {
          "base_uri": "https://localhost:8080/"
        },
        "id": "R1zt3xFaXBU_",
        "outputId": "61ed277f-54b7-4a1e-e058-a552e3e4ccbc"
      },
      "outputs": [
        {
          "output_type": "execute_result",
          "data": {
            "text/plain": [
              "['जनक', 'असवान', 'विरोधी_फळ', 'श्रीनगर शहर', 'शैक्षणिक योग्यता']"
            ]
          },
          "metadata": {},
          "execution_count": 97
        }
      ],
      "source": [
        "noun_words[:5]"
      ]
    },
    {
      "cell_type": "markdown",
      "metadata": {
        "id": "8AisWnNvXBU_"
      },
      "source": [
        "### Synset Relations"
      ]
    },
    {
      "cell_type": "code",
      "execution_count": null,
      "metadata": {
        "id": "QCtV29N3XBU_"
      },
      "outputs": [],
      "source": [
        "hyponyms = iwn.synset_relation(aam, pyiwn.SynsetRelations.HYPONYMY)"
      ]
    },
    {
      "cell_type": "code",
      "execution_count": null,
      "metadata": {
        "colab": {
          "base_uri": "https://localhost:8080/"
        },
        "id": "ASONYEBlXBU_",
        "outputId": "2a04b160-8a4c-4d9f-fe51-25a72c9ef9ac"
      },
      "outputs": [
        {
          "output_type": "execute_result",
          "data": {
            "text/plain": [
              "0"
            ]
          },
          "metadata": {},
          "execution_count": 99
        }
      ],
      "source": [
        "len(hyponyms)"
      ]
    },
    {
      "cell_type": "code",
      "execution_count": null,
      "metadata": {
        "colab": {
          "base_uri": "https://localhost:8080/"
        },
        "id": "zpeys8AmXBU_",
        "outputId": "2171a30b-01ff-470d-cb68-ae4ec42dcc24"
      },
      "outputs": [
        {
          "output_type": "execute_result",
          "data": {
            "text/plain": [
              "[]"
            ]
          },
          "metadata": {},
          "execution_count": 100
        }
      ],
      "source": [
        "hyponyms"
      ]
    },
    {
      "cell_type": "markdown",
      "metadata": {
        "id": "enThUQjHXBVA"
      },
      "source": [
        "### Supported Synset Relations"
      ]
    },
    {
      "cell_type": "code",
      "execution_count": null,
      "metadata": {
        "colab": {
          "base_uri": "https://localhost:8080/"
        },
        "id": "sp_C_Z8HXBVA",
        "outputId": "89007a39-ee6e-4b4a-c8b4-8a127b33dce2"
      },
      "outputs": [
        {
          "output_type": "execute_result",
          "data": {
            "text/plain": [
              "['SynsetRelations.MERO_MEMBER_COLLECTION',\n",
              " 'SynsetRelations.ABILITY_VERB',\n",
              " 'SynsetRelations.CAUSATIVE',\n",
              " 'SynsetRelations.CAPABILITY_VERB',\n",
              " 'SynsetRelations.MERO_COMPONENT_OBJECT',\n",
              " 'SynsetRelations.HOLO_PORTION_MASS',\n",
              " 'SynsetRelations.FUNCTION_VERB',\n",
              " 'SynsetRelations.HOLO_COMPONENT_OBJECT',\n",
              " 'SynsetRelations.HYPERNYMY',\n",
              " 'SynsetRelations.ENTAILMENT',\n",
              " 'SynsetRelations.ALSO_SEE',\n",
              " 'SynsetRelations.MERO_FEATURE_ACTIVITY',\n",
              " 'SynsetRelations.HOLO_PLACE_AREA',\n",
              " 'SynsetRelations.MODIFIES_VERB',\n",
              " 'SynsetRelations.ATTRIBUTES',\n",
              " 'SynsetRelations.MERO_PORTION_MASS',\n",
              " 'SynsetRelations.MODIFIES_NOUN',\n",
              " 'SynsetRelations.HOLO_FEATURE_ACTIVITY',\n",
              " 'SynsetRelations.MERO_STUFF_OBJECT',\n",
              " 'SynsetRelations.TROPONYMY',\n",
              " 'SynsetRelations.MERO_PLACE_AREA',\n",
              " 'SynsetRelations.HOLO_MEMBER_COLLECTION',\n",
              " 'SynsetRelations.HYPONYMY',\n",
              " 'SynsetRelations.SIMILAR',\n",
              " 'SynsetRelations.MERO_POSITION_AREA',\n",
              " 'SynsetRelations.HOLO_POSITION_AREA',\n",
              " 'SynsetRelations.HOLO_STUFF_OBJECT']"
            ]
          },
          "metadata": {},
          "execution_count": 64
        }
      ],
      "source": [
        "list(map(str, pyiwn.SynsetRelations))"
      ]
    },
    {
      "cell_type": "markdown",
      "metadata": {
        "id": "tXs8jFAJXBVA"
      },
      "source": [
        "### Other language WordNet"
      ]
    },
    {
      "cell_type": "code",
      "execution_count": null,
      "metadata": {
        "colab": {
          "base_uri": "https://localhost:8080/"
        },
        "id": "csodxnVsXBVA",
        "outputId": "0241cc13-5cc1-41aa-864c-6bd53383324a"
      },
      "outputs": [
        {
          "output_type": "stream",
          "name": "stderr",
          "text": [
            "2022-03-30:05:59:35,734 INFO     [iwn.py:43] Loading kannada language synsets...\n"
          ]
        }
      ],
      "source": [
        "kannada_iwn = pyiwn.IndoWordNet(lang=pyiwn.Language.KANNADA)"
      ]
    },
    {
      "cell_type": "code",
      "execution_count": null,
      "metadata": {
        "colab": {
          "base_uri": "https://localhost:8080/"
        },
        "id": "kmHwKed5XBVB",
        "outputId": "fd837eec-3e3b-4278-ad84-0b1a31ee8718"
      },
      "outputs": [
        {
          "output_type": "stream",
          "name": "stdout",
          "text": [
            "[Synset('ಮನುಷ್ಯ.noun.196'), Synset('ಮಾನವ.noun.858'), Synset('ಮಾನವ.noun.3389'), Synset('ಮನುಷ್ಯ.noun.22862')]\n"
          ]
        }
      ],
      "source": [
        "print(kannada_iwn.synsets('ಮಾನವ'))"
      ]
    },
    {
      "cell_type": "code",
      "execution_count": null,
      "metadata": {
        "colab": {
          "base_uri": "https://localhost:8080/"
        },
        "id": "cazvo66iXBVB",
        "outputId": "a41b7808-8d67-4c59-8ae8-02b155e3049b"
      },
      "outputs": [
        {
          "output_type": "stream",
          "name": "stdout",
          "text": [
            "[Synset('ಗುಡುಗುಡು.noun.37371')]\n"
          ]
        }
      ],
      "source": [
        "print(kannada_iwn.synsets('ಗುಡುಗುಡು'))"
      ]
    },
    {
      "cell_type": "code",
      "source": [
        ""
      ],
      "metadata": {
        "id": "WOZMzeGNaICL"
      },
      "execution_count": null,
      "outputs": []
    }
  ],
  "metadata": {
    "kernelspec": {
      "display_name": "Python 3",
      "language": "python",
      "name": "python3"
    },
    "language_info": {
      "codemirror_mode": {
        "name": "ipython",
        "version": 3
      },
      "file_extension": ".py",
      "mimetype": "text/x-python",
      "name": "python",
      "nbconvert_exporter": "python",
      "pygments_lexer": "ipython3",
      "version": "3.7.4"
    },
    "colab": {
      "name": "Copy of example.ipynb",
      "provenance": []
    }
  },
  "nbformat": 4,
  "nbformat_minor": 0
}