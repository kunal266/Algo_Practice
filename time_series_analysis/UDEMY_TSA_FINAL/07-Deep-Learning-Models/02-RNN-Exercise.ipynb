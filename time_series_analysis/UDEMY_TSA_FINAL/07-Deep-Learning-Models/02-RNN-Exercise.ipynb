{
  "cells": [
    {
      "cell_type": "markdown",
      "metadata": {
        "id": "YTFTA6jgYtws"
      },
      "source": [
        "___\n",
        "\n",
        "<a href='http://www.pieriandata.com'><img src='https://github.com/kunal266/Algo_Practice/blob/main/time_series_analysis/UDEMY_TSA_FINAL/Pierian_Data_Logo.png?raw=1'/></a>\n",
        "___\n",
        "<center><em>Copyright Pierian Data</em></center>\n",
        "<center><em>For more information, visit us at <a href='http://www.pieriandata.com'>www.pieriandata.com</a></em></center>\n",
        "# RNN Example for Time Series"
      ]
    },
    {
      "cell_type": "markdown",
      "metadata": {
        "id": "tPERt5-_YtxD"
      },
      "source": [
        "**TASK: IMPORT THE BASIC LIBRARIES YOU THINK YOU WILL USE**"
      ]
    },
    {
      "cell_type": "code",
      "execution_count": 1,
      "metadata": {
        "collapsed": true,
        "id": "iyXh8TTtYtxH"
      },
      "outputs": [],
      "source": [
        "# IMPORTS HERE\n",
        "import pandas as pd\n",
        "import numpy as np\n",
        "import matplotlib.pyplot as plt\n"
      ]
    },
    {
      "cell_type": "code",
      "source": [
        "from google.colab import drive\n",
        "drive.mount('/content/drive')"
      ],
      "metadata": {
        "colab": {
          "base_uri": "https://localhost:8080/"
        },
        "id": "YGx2Mrc8ZCoB",
        "outputId": "8dd4c0c1-e060-4a93-c31a-2b21f9d815cf"
      },
      "execution_count": 2,
      "outputs": [
        {
          "output_type": "stream",
          "name": "stdout",
          "text": [
            "Mounted at /content/drive\n"
          ]
        }
      ]
    },
    {
      "cell_type": "markdown",
      "metadata": {
        "id": "mynziJdTYtxO"
      },
      "source": [
        "## Data\n",
        "\n",
        "Info about this data set: https://fred.stlouisfed.org/series/TRFVOLUSM227NFWA\n",
        "\n",
        "Read in the data set \"Miles_Traveled.csv\" from the Data folder. Figure out how to set the date to a datetime index columns"
      ]
    },
    {
      "cell_type": "code",
      "execution_count": 3,
      "metadata": {
        "collapsed": true,
        "id": "zXCr0vN-YtxR"
      },
      "outputs": [],
      "source": [
        "# CODE HERE\n",
        "df = pd.read_csv('/content/drive/MyDrive/UDEMY_TSA_FINAL/Data/Miles_Traveled.csv',index_col='DATE',parse_dates = True)"
      ]
    },
    {
      "cell_type": "code",
      "execution_count": 4,
      "metadata": {
        "collapsed": true,
        "colab": {
          "base_uri": "https://localhost:8080/",
          "height": 238
        },
        "id": "QN9WMiFeYtxT",
        "outputId": "e2aeac46-dd16-4201-c139-374e00d46217"
      },
      "outputs": [
        {
          "output_type": "execute_result",
          "data": {
            "text/html": [
              "\n",
              "  <div id=\"df-2dbec987-9229-48e6-bbc1-02ca6958056a\">\n",
              "    <div class=\"colab-df-container\">\n",
              "      <div>\n",
              "<style scoped>\n",
              "    .dataframe tbody tr th:only-of-type {\n",
              "        vertical-align: middle;\n",
              "    }\n",
              "\n",
              "    .dataframe tbody tr th {\n",
              "        vertical-align: top;\n",
              "    }\n",
              "\n",
              "    .dataframe thead th {\n",
              "        text-align: right;\n",
              "    }\n",
              "</style>\n",
              "<table border=\"1\" class=\"dataframe\">\n",
              "  <thead>\n",
              "    <tr style=\"text-align: right;\">\n",
              "      <th></th>\n",
              "      <th>TRFVOLUSM227NFWA</th>\n",
              "    </tr>\n",
              "    <tr>\n",
              "      <th>DATE</th>\n",
              "      <th></th>\n",
              "    </tr>\n",
              "  </thead>\n",
              "  <tbody>\n",
              "    <tr>\n",
              "      <th>1970-01-01</th>\n",
              "      <td>80173.0</td>\n",
              "    </tr>\n",
              "    <tr>\n",
              "      <th>1970-02-01</th>\n",
              "      <td>77442.0</td>\n",
              "    </tr>\n",
              "    <tr>\n",
              "      <th>1970-03-01</th>\n",
              "      <td>90223.0</td>\n",
              "    </tr>\n",
              "    <tr>\n",
              "      <th>1970-04-01</th>\n",
              "      <td>89956.0</td>\n",
              "    </tr>\n",
              "    <tr>\n",
              "      <th>1970-05-01</th>\n",
              "      <td>97972.0</td>\n",
              "    </tr>\n",
              "  </tbody>\n",
              "</table>\n",
              "</div>\n",
              "      <button class=\"colab-df-convert\" onclick=\"convertToInteractive('df-2dbec987-9229-48e6-bbc1-02ca6958056a')\"\n",
              "              title=\"Convert this dataframe to an interactive table.\"\n",
              "              style=\"display:none;\">\n",
              "        \n",
              "  <svg xmlns=\"http://www.w3.org/2000/svg\" height=\"24px\"viewBox=\"0 0 24 24\"\n",
              "       width=\"24px\">\n",
              "    <path d=\"M0 0h24v24H0V0z\" fill=\"none\"/>\n",
              "    <path d=\"M18.56 5.44l.94 2.06.94-2.06 2.06-.94-2.06-.94-.94-2.06-.94 2.06-2.06.94zm-11 1L8.5 8.5l.94-2.06 2.06-.94-2.06-.94L8.5 2.5l-.94 2.06-2.06.94zm10 10l.94 2.06.94-2.06 2.06-.94-2.06-.94-.94-2.06-.94 2.06-2.06.94z\"/><path d=\"M17.41 7.96l-1.37-1.37c-.4-.4-.92-.59-1.43-.59-.52 0-1.04.2-1.43.59L10.3 9.45l-7.72 7.72c-.78.78-.78 2.05 0 2.83L4 21.41c.39.39.9.59 1.41.59.51 0 1.02-.2 1.41-.59l7.78-7.78 2.81-2.81c.8-.78.8-2.07 0-2.86zM5.41 20L4 18.59l7.72-7.72 1.47 1.35L5.41 20z\"/>\n",
              "  </svg>\n",
              "      </button>\n",
              "      \n",
              "  <style>\n",
              "    .colab-df-container {\n",
              "      display:flex;\n",
              "      flex-wrap:wrap;\n",
              "      gap: 12px;\n",
              "    }\n",
              "\n",
              "    .colab-df-convert {\n",
              "      background-color: #E8F0FE;\n",
              "      border: none;\n",
              "      border-radius: 50%;\n",
              "      cursor: pointer;\n",
              "      display: none;\n",
              "      fill: #1967D2;\n",
              "      height: 32px;\n",
              "      padding: 0 0 0 0;\n",
              "      width: 32px;\n",
              "    }\n",
              "\n",
              "    .colab-df-convert:hover {\n",
              "      background-color: #E2EBFA;\n",
              "      box-shadow: 0px 1px 2px rgba(60, 64, 67, 0.3), 0px 1px 3px 1px rgba(60, 64, 67, 0.15);\n",
              "      fill: #174EA6;\n",
              "    }\n",
              "\n",
              "    [theme=dark] .colab-df-convert {\n",
              "      background-color: #3B4455;\n",
              "      fill: #D2E3FC;\n",
              "    }\n",
              "\n",
              "    [theme=dark] .colab-df-convert:hover {\n",
              "      background-color: #434B5C;\n",
              "      box-shadow: 0px 1px 3px 1px rgba(0, 0, 0, 0.15);\n",
              "      filter: drop-shadow(0px 1px 2px rgba(0, 0, 0, 0.3));\n",
              "      fill: #FFFFFF;\n",
              "    }\n",
              "  </style>\n",
              "\n",
              "      <script>\n",
              "        const buttonEl =\n",
              "          document.querySelector('#df-2dbec987-9229-48e6-bbc1-02ca6958056a button.colab-df-convert');\n",
              "        buttonEl.style.display =\n",
              "          google.colab.kernel.accessAllowed ? 'block' : 'none';\n",
              "\n",
              "        async function convertToInteractive(key) {\n",
              "          const element = document.querySelector('#df-2dbec987-9229-48e6-bbc1-02ca6958056a');\n",
              "          const dataTable =\n",
              "            await google.colab.kernel.invokeFunction('convertToInteractive',\n",
              "                                                     [key], {});\n",
              "          if (!dataTable) return;\n",
              "\n",
              "          const docLinkHtml = 'Like what you see? Visit the ' +\n",
              "            '<a target=\"_blank\" href=https://colab.research.google.com/notebooks/data_table.ipynb>data table notebook</a>'\n",
              "            + ' to learn more about interactive tables.';\n",
              "          element.innerHTML = '';\n",
              "          dataTable['output_type'] = 'display_data';\n",
              "          await google.colab.output.renderOutput(dataTable, element);\n",
              "          const docLink = document.createElement('div');\n",
              "          docLink.innerHTML = docLinkHtml;\n",
              "          element.appendChild(docLink);\n",
              "        }\n",
              "      </script>\n",
              "    </div>\n",
              "  </div>\n",
              "  "
            ],
            "text/plain": [
              "            TRFVOLUSM227NFWA\n",
              "DATE                        \n",
              "1970-01-01           80173.0\n",
              "1970-02-01           77442.0\n",
              "1970-03-01           90223.0\n",
              "1970-04-01           89956.0\n",
              "1970-05-01           97972.0"
            ]
          },
          "metadata": {},
          "execution_count": 4
        }
      ],
      "source": [
        "df.head()"
      ]
    },
    {
      "cell_type": "code",
      "execution_count": null,
      "metadata": {
        "id": "zudBhDvWYtxV",
        "outputId": "32836199-e0d8-47ab-e943-42070e8f84e6"
      },
      "outputs": [
        {
          "data": {
            "text/html": [
              "<div>\n",
              "<style scoped>\n",
              "    .dataframe tbody tr th:only-of-type {\n",
              "        vertical-align: middle;\n",
              "    }\n",
              "\n",
              "    .dataframe tbody tr th {\n",
              "        vertical-align: top;\n",
              "    }\n",
              "\n",
              "    .dataframe thead th {\n",
              "        text-align: right;\n",
              "    }\n",
              "</style>\n",
              "<table border=\"1\" class=\"dataframe\">\n",
              "  <thead>\n",
              "    <tr style=\"text-align: right;\">\n",
              "      <th></th>\n",
              "      <th>TRFVOLUSM227NFWA</th>\n",
              "    </tr>\n",
              "    <tr>\n",
              "      <th>DATE</th>\n",
              "      <th></th>\n",
              "    </tr>\n",
              "  </thead>\n",
              "  <tbody>\n",
              "    <tr>\n",
              "      <th>1970-01-01</th>\n",
              "      <td>80173.0</td>\n",
              "    </tr>\n",
              "    <tr>\n",
              "      <th>1970-02-01</th>\n",
              "      <td>77442.0</td>\n",
              "    </tr>\n",
              "    <tr>\n",
              "      <th>1970-03-01</th>\n",
              "      <td>90223.0</td>\n",
              "    </tr>\n",
              "    <tr>\n",
              "      <th>1970-04-01</th>\n",
              "      <td>89956.0</td>\n",
              "    </tr>\n",
              "    <tr>\n",
              "      <th>1970-05-01</th>\n",
              "      <td>97972.0</td>\n",
              "    </tr>\n",
              "  </tbody>\n",
              "</table>\n",
              "</div>"
            ],
            "text/plain": [
              "            TRFVOLUSM227NFWA\n",
              "DATE                        \n",
              "1970-01-01           80173.0\n",
              "1970-02-01           77442.0\n",
              "1970-03-01           90223.0\n",
              "1970-04-01           89956.0\n",
              "1970-05-01           97972.0"
            ]
          },
          "execution_count": 4,
          "metadata": {},
          "output_type": "execute_result"
        }
      ],
      "source": [
        ""
      ]
    },
    {
      "cell_type": "markdown",
      "metadata": {
        "id": "DDBpDmCYYtxc"
      },
      "source": [
        "**Task: Change the column names to Value**"
      ]
    },
    {
      "cell_type": "code",
      "execution_count": 5,
      "metadata": {
        "collapsed": true,
        "id": "ks_-QDElYtxg"
      },
      "outputs": [],
      "source": [
        "# CODE HERE\n",
        "df.columns = ['Value']"
      ]
    },
    {
      "cell_type": "code",
      "execution_count": 6,
      "metadata": {
        "collapsed": true,
        "colab": {
          "base_uri": "https://localhost:8080/",
          "height": 238
        },
        "id": "lyy4_jmmYtxk",
        "outputId": "1f5478b4-d99d-4c25-cbbd-cc14ec4202ff"
      },
      "outputs": [
        {
          "output_type": "execute_result",
          "data": {
            "text/html": [
              "\n",
              "  <div id=\"df-30bc3d68-c14b-441b-bdae-69ba5373ae0c\">\n",
              "    <div class=\"colab-df-container\">\n",
              "      <div>\n",
              "<style scoped>\n",
              "    .dataframe tbody tr th:only-of-type {\n",
              "        vertical-align: middle;\n",
              "    }\n",
              "\n",
              "    .dataframe tbody tr th {\n",
              "        vertical-align: top;\n",
              "    }\n",
              "\n",
              "    .dataframe thead th {\n",
              "        text-align: right;\n",
              "    }\n",
              "</style>\n",
              "<table border=\"1\" class=\"dataframe\">\n",
              "  <thead>\n",
              "    <tr style=\"text-align: right;\">\n",
              "      <th></th>\n",
              "      <th>Value</th>\n",
              "    </tr>\n",
              "    <tr>\n",
              "      <th>DATE</th>\n",
              "      <th></th>\n",
              "    </tr>\n",
              "  </thead>\n",
              "  <tbody>\n",
              "    <tr>\n",
              "      <th>1970-01-01</th>\n",
              "      <td>80173.0</td>\n",
              "    </tr>\n",
              "    <tr>\n",
              "      <th>1970-02-01</th>\n",
              "      <td>77442.0</td>\n",
              "    </tr>\n",
              "    <tr>\n",
              "      <th>1970-03-01</th>\n",
              "      <td>90223.0</td>\n",
              "    </tr>\n",
              "    <tr>\n",
              "      <th>1970-04-01</th>\n",
              "      <td>89956.0</td>\n",
              "    </tr>\n",
              "    <tr>\n",
              "      <th>1970-05-01</th>\n",
              "      <td>97972.0</td>\n",
              "    </tr>\n",
              "  </tbody>\n",
              "</table>\n",
              "</div>\n",
              "      <button class=\"colab-df-convert\" onclick=\"convertToInteractive('df-30bc3d68-c14b-441b-bdae-69ba5373ae0c')\"\n",
              "              title=\"Convert this dataframe to an interactive table.\"\n",
              "              style=\"display:none;\">\n",
              "        \n",
              "  <svg xmlns=\"http://www.w3.org/2000/svg\" height=\"24px\"viewBox=\"0 0 24 24\"\n",
              "       width=\"24px\">\n",
              "    <path d=\"M0 0h24v24H0V0z\" fill=\"none\"/>\n",
              "    <path d=\"M18.56 5.44l.94 2.06.94-2.06 2.06-.94-2.06-.94-.94-2.06-.94 2.06-2.06.94zm-11 1L8.5 8.5l.94-2.06 2.06-.94-2.06-.94L8.5 2.5l-.94 2.06-2.06.94zm10 10l.94 2.06.94-2.06 2.06-.94-2.06-.94-.94-2.06-.94 2.06-2.06.94z\"/><path d=\"M17.41 7.96l-1.37-1.37c-.4-.4-.92-.59-1.43-.59-.52 0-1.04.2-1.43.59L10.3 9.45l-7.72 7.72c-.78.78-.78 2.05 0 2.83L4 21.41c.39.39.9.59 1.41.59.51 0 1.02-.2 1.41-.59l7.78-7.78 2.81-2.81c.8-.78.8-2.07 0-2.86zM5.41 20L4 18.59l7.72-7.72 1.47 1.35L5.41 20z\"/>\n",
              "  </svg>\n",
              "      </button>\n",
              "      \n",
              "  <style>\n",
              "    .colab-df-container {\n",
              "      display:flex;\n",
              "      flex-wrap:wrap;\n",
              "      gap: 12px;\n",
              "    }\n",
              "\n",
              "    .colab-df-convert {\n",
              "      background-color: #E8F0FE;\n",
              "      border: none;\n",
              "      border-radius: 50%;\n",
              "      cursor: pointer;\n",
              "      display: none;\n",
              "      fill: #1967D2;\n",
              "      height: 32px;\n",
              "      padding: 0 0 0 0;\n",
              "      width: 32px;\n",
              "    }\n",
              "\n",
              "    .colab-df-convert:hover {\n",
              "      background-color: #E2EBFA;\n",
              "      box-shadow: 0px 1px 2px rgba(60, 64, 67, 0.3), 0px 1px 3px 1px rgba(60, 64, 67, 0.15);\n",
              "      fill: #174EA6;\n",
              "    }\n",
              "\n",
              "    [theme=dark] .colab-df-convert {\n",
              "      background-color: #3B4455;\n",
              "      fill: #D2E3FC;\n",
              "    }\n",
              "\n",
              "    [theme=dark] .colab-df-convert:hover {\n",
              "      background-color: #434B5C;\n",
              "      box-shadow: 0px 1px 3px 1px rgba(0, 0, 0, 0.15);\n",
              "      filter: drop-shadow(0px 1px 2px rgba(0, 0, 0, 0.3));\n",
              "      fill: #FFFFFF;\n",
              "    }\n",
              "  </style>\n",
              "\n",
              "      <script>\n",
              "        const buttonEl =\n",
              "          document.querySelector('#df-30bc3d68-c14b-441b-bdae-69ba5373ae0c button.colab-df-convert');\n",
              "        buttonEl.style.display =\n",
              "          google.colab.kernel.accessAllowed ? 'block' : 'none';\n",
              "\n",
              "        async function convertToInteractive(key) {\n",
              "          const element = document.querySelector('#df-30bc3d68-c14b-441b-bdae-69ba5373ae0c');\n",
              "          const dataTable =\n",
              "            await google.colab.kernel.invokeFunction('convertToInteractive',\n",
              "                                                     [key], {});\n",
              "          if (!dataTable) return;\n",
              "\n",
              "          const docLinkHtml = 'Like what you see? Visit the ' +\n",
              "            '<a target=\"_blank\" href=https://colab.research.google.com/notebooks/data_table.ipynb>data table notebook</a>'\n",
              "            + ' to learn more about interactive tables.';\n",
              "          element.innerHTML = '';\n",
              "          dataTable['output_type'] = 'display_data';\n",
              "          await google.colab.output.renderOutput(dataTable, element);\n",
              "          const docLink = document.createElement('div');\n",
              "          docLink.innerHTML = docLinkHtml;\n",
              "          element.appendChild(docLink);\n",
              "        }\n",
              "      </script>\n",
              "    </div>\n",
              "  </div>\n",
              "  "
            ],
            "text/plain": [
              "              Value\n",
              "DATE               \n",
              "1970-01-01  80173.0\n",
              "1970-02-01  77442.0\n",
              "1970-03-01  90223.0\n",
              "1970-04-01  89956.0\n",
              "1970-05-01  97972.0"
            ]
          },
          "metadata": {},
          "execution_count": 6
        }
      ],
      "source": [
        "df.head()"
      ]
    },
    {
      "cell_type": "markdown",
      "metadata": {
        "id": "3uSfgtMzYtxm"
      },
      "source": [
        "**TASK: Plot out the time series**"
      ]
    },
    {
      "cell_type": "code",
      "execution_count": 10,
      "metadata": {
        "collapsed": true,
        "colab": {
          "base_uri": "https://localhost:8080/",
          "height": 514
        },
        "id": "2XzmaTEoYtxo",
        "outputId": "564a203e-c2f1-4b02-d545-f33348b8c32a"
      },
      "outputs": [
        {
          "output_type": "execute_result",
          "data": {
            "text/plain": [
              "<matplotlib.axes._subplots.AxesSubplot at 0x7fc9ba4b7390>"
            ]
          },
          "metadata": {},
          "execution_count": 10
        },
        {
          "output_type": "display_data",
          "data": {
            "image/png": "[encoded data removed]",
            "text/plain": [
              "<Figure size 864x576 with 1 Axes>"
            ]
          },
          "metadata": {
            "needs_background": "light"
          }
        }
      ],
      "source": [
        "# CODE HERE\n",
        "df.plot(figsize=(12,8))"
      ]
    },
    {
      "cell_type": "code",
      "execution_count": null,
      "metadata": {
        "id": "v3nekyWcYtxs",
        "outputId": "6e428bf6-9df2-4d80-b2cd-a4e1e8dc08f8"
      },
      "outputs": [
        {
          "data": {
            "text/plain": [
              "<matplotlib.axes._subplots.AxesSubplot at 0x12cc3a4d2e8>"
            ]
          },
          "execution_count": 6,
          "metadata": {},
          "output_type": "execute_result"
        },
        {
          "data": {
            "image/png": "[encoded data removed]",
            "text/plain": [
              "<Figure size 864x576 with 1 Axes>"
            ]
          },
          "metadata": {},
          "output_type": "display_data"
        }
      ],
      "source": [
        ""
      ]
    },
    {
      "cell_type": "markdown",
      "metadata": {
        "id": "dSwhDmw8Ytxu"
      },
      "source": [
        "**TASK: Perform a Seasonal Decomposition on the model and plot out the ETS components**"
      ]
    },
    {
      "cell_type": "code",
      "execution_count": 11,
      "metadata": {
        "collapsed": true,
        "colab": {
          "base_uri": "https://localhost:8080/"
        },
        "id": "3IBoCxV7Ytxx",
        "outputId": "dc10ad63-dde5-4c26-95ba-54c9e4cceaff"
      },
      "outputs": [
        {
          "output_type": "stream",
          "name": "stderr",
          "text": [
            "/usr/local/lib/python3.7/dist-packages/statsmodels/tools/_testing.py:19: FutureWarning: pandas.util.testing is deprecated. Use the functions in the public API at pandas.testing instead.\n",
            "  import pandas.util.testing as tm\n"
          ]
        }
      ],
      "source": [
        "# CODE HERE\n",
        "from statsmodels.tsa.seasonal import seasonal_decompose\n"
      ]
    },
    {
      "cell_type": "code",
      "execution_count": 15,
      "metadata": {
        "collapsed": true,
        "colab": {
          "base_uri": "https://localhost:8080/",
          "height": 329
        },
        "id": "owylI0mVYtxy",
        "outputId": "24887839-a623-4f70-e430-aa0b7c481a61"
      },
      "outputs": [
        {
          "output_type": "execute_result",
          "data": {
            "text/plain": [
              "<matplotlib.axes._subplots.AxesSubplot at 0x7fc9a9496710>"
            ]
          },
          "metadata": {},
          "execution_count": 15
        },
        {
          "output_type": "display_data",
          "data": {
            "image/png": "[encoded data removed]",
            "text/plain": [
              "<Figure size 1080x360 with 1 Axes>"
            ]
          },
          "metadata": {
            "needs_background": "light"
          }
        }
      ],
      "source": [
        "results = seasonal_decompose(df['Value'])\n",
        "results.seasonal.plot(figsize=(15,5))"
      ]
    },
    {
      "cell_type": "code",
      "execution_count": null,
      "metadata": {
        "id": "t1pAPNOwYtxz",
        "outputId": "d3e5bd0c-30cd-4d98-85b0-abaea41e76dd"
      },
      "outputs": [
        {
          "data": {
            "text/plain": [
              "<matplotlib.axes._subplots.AxesSubplot at 0x12cc5b5d588>"
            ]
          },
          "execution_count": 9,
          "metadata": {},
          "output_type": "execute_result"
        },
        {
          "data": {
            "image/png": "[encoded data removed]",
            "text/plain": [
              "<Figure size 864x144 with 1 Axes>"
            ]
          },
          "metadata": {},
          "output_type": "display_data"
        }
      ],
      "source": [
        ""
      ]
    },
    {
      "cell_type": "code",
      "execution_count": null,
      "metadata": {
        "id": "7hf4D_HRYtx1",
        "outputId": "7aba9c4d-fd39-4430-8ac3-8430c5039ada"
      },
      "outputs": [
        {
          "data": {
            "text/plain": [
              "<matplotlib.axes._subplots.AxesSubplot at 0x12cc5b89588>"
            ]
          },
          "execution_count": 10,
          "metadata": {},
          "output_type": "execute_result"
        },
        {
          "data": {
            "image/png": "[encoded data removed]",
            "text/plain": [
              "<Figure size 864x144 with 1 Axes>"
            ]
          },
          "metadata": {},
          "output_type": "display_data"
        }
      ],
      "source": [
        ""
      ]
    },
    {
      "cell_type": "code",
      "execution_count": null,
      "metadata": {
        "id": "Fr3LOv_kYtx3",
        "outputId": "5a7d119a-3f46-4616-c257-1f0a9d4b99ec"
      },
      "outputs": [
        {
          "data": {
            "text/plain": [
              "<matplotlib.axes._subplots.AxesSubplot at 0x12cc3fe6e80>"
            ]
          },
          "execution_count": 11,
          "metadata": {},
          "output_type": "execute_result"
        },
        {
          "data": {
            "image/png": "[encoded data removed]",
            "text/plain": [
              "<Figure size 864x144 with 1 Axes>"
            ]
          },
          "metadata": {},
          "output_type": "display_data"
        }
      ],
      "source": [
        ""
      ]
    },
    {
      "cell_type": "code",
      "execution_count": null,
      "metadata": {
        "id": "HGz5Y648Ytx4",
        "outputId": "f2ceef5d-b193-49ef-bdb9-c6672800b30e"
      },
      "outputs": [
        {
          "data": {
            "text/plain": [
              "<matplotlib.axes._subplots.AxesSubplot at 0x12cc5def780>"
            ]
          },
          "execution_count": 12,
          "metadata": {},
          "output_type": "execute_result"
        },
        {
          "data": {
            "image/png": "[encoded data removed]",
            "text/plain": [
              "<Figure size 864x144 with 1 Axes>"
            ]
          },
          "metadata": {},
          "output_type": "display_data"
        }
      ],
      "source": [
        ""
      ]
    },
    {
      "cell_type": "markdown",
      "metadata": {
        "id": "uRHZFMxQYtx6"
      },
      "source": [
        "## Train Test Split"
      ]
    },
    {
      "cell_type": "markdown",
      "metadata": {
        "id": "T0hOW5E9Ytx7"
      },
      "source": [
        "**TASK: Figure out the length of the data set**"
      ]
    },
    {
      "cell_type": "code",
      "execution_count": 16,
      "metadata": {
        "collapsed": true,
        "colab": {
          "base_uri": "https://localhost:8080/"
        },
        "id": "8MfbOp8RYtx8",
        "outputId": "514e695c-305a-4eaf-d9eb-98bce7f58fe4"
      },
      "outputs": [
        {
          "output_type": "execute_result",
          "data": {
            "text/plain": [
              "588"
            ]
          },
          "metadata": {},
          "execution_count": 16
        }
      ],
      "source": [
        "# CODE HERE\n",
        "len(df)"
      ]
    },
    {
      "cell_type": "code",
      "execution_count": null,
      "metadata": {
        "id": "cObwpG5xYtx-",
        "outputId": "1a909b24-dfc5-4e0a-b155-6f6199006a6a"
      },
      "outputs": [
        {
          "data": {
            "text/plain": [
              "588"
            ]
          },
          "execution_count": 13,
          "metadata": {},
          "output_type": "execute_result"
        }
      ],
      "source": [
        ""
      ]
    },
    {
      "cell_type": "code",
      "execution_count": 17,
      "metadata": {
        "collapsed": true,
        "id": "DSdd08MRYtx_"
      },
      "outputs": [],
      "source": [
        "train = df.iloc[:-12]\n",
        "test  = df.iloc[-12:]"
      ]
    },
    {
      "cell_type": "markdown",
      "metadata": {
        "id": "iDpZWgmoYtyA"
      },
      "source": [
        "**TASK: Split the data into a train/test split where the test set is the last 12 months of data.**"
      ]
    },
    {
      "cell_type": "code",
      "execution_count": null,
      "metadata": {
        "collapsed": true,
        "id": "DyvYD2dyYtyA"
      },
      "outputs": [],
      "source": [
        "# CODE HERE\n"
      ]
    },
    {
      "cell_type": "code",
      "execution_count": 18,
      "metadata": {
        "colab": {
          "base_uri": "https://localhost:8080/"
        },
        "id": "8fTnohZzYtyC",
        "outputId": "95a0eb07-ff9b-49d4-fab7-8cbebbf3e4ff"
      },
      "outputs": [
        {
          "output_type": "execute_result",
          "data": {
            "text/plain": [
              "12"
            ]
          },
          "metadata": {},
          "execution_count": 18
        }
      ],
      "source": [
        "len(test)"
      ]
    },
    {
      "cell_type": "markdown",
      "metadata": {
        "id": "IDASZAgUYtyD"
      },
      "source": [
        "## Scale Data"
      ]
    },
    {
      "cell_type": "markdown",
      "metadata": {
        "id": "52WDG15hYtyE"
      },
      "source": [
        "**TASK: Use a MinMaxScaler to scale the train and test sets into scaled versions.**"
      ]
    },
    {
      "cell_type": "code",
      "execution_count": 19,
      "metadata": {
        "collapsed": true,
        "id": "byaU1jMjYtyF"
      },
      "outputs": [],
      "source": [
        "# CODE HERE\n",
        "from sklearn.preprocessing import MinMaxScaler\n"
      ]
    },
    {
      "cell_type": "code",
      "execution_count": 20,
      "metadata": {
        "collapsed": true,
        "id": "1ffMR2THYtyH"
      },
      "outputs": [],
      "source": [
        "scaler = MinMaxScaler()"
      ]
    },
    {
      "cell_type": "code",
      "execution_count": 21,
      "metadata": {
        "collapsed": true,
        "colab": {
          "base_uri": "https://localhost:8080/"
        },
        "id": "YTQ4hcFUYtyH",
        "outputId": "0a3499bf-ca26-40a4-b0db-63772c06d8ba"
      },
      "outputs": [
        {
          "output_type": "execute_result",
          "data": {
            "text/plain": [
              "MinMaxScaler()"
            ]
          },
          "metadata": {},
          "execution_count": 21
        }
      ],
      "source": [
        "scaler.fit(train)"
      ]
    },
    {
      "cell_type": "code",
      "source": [
        ""
      ],
      "metadata": {
        "colab": {
          "base_uri": "https://localhost:8080/",
          "height": 35
        },
        "id": "fVumWHFOawF9",
        "outputId": "8580ab6b-cb5d-46cf-b86d-5a7473cbc15c"
      },
      "execution_count": 25,
      "outputs": [
        {
          "output_type": "execute_result",
          "data": {
            "application/vnd.google.colaboratory.intrinsic+json": {
              "type": "string"
            },
            "text/plain": [
              "'Value'"
            ]
          },
          "metadata": {},
          "execution_count": 25
        }
      ]
    },
    {
      "cell_type": "code",
      "source": [
        "scaled_train = scaler.transform(train)\n"
      ],
      "metadata": {
        "id": "E-RAoBy3amk8"
      },
      "execution_count": 22,
      "outputs": []
    },
    {
      "cell_type": "code",
      "source": [
        "scaled_train"
      ],
      "metadata": {
        "colab": {
          "base_uri": "https://localhost:8080/"
        },
        "id": "QXdZun9vasdn",
        "outputId": "1344c9dd-082a-46a2-b51a-5992c239cea0"
      },
      "execution_count": 23,
      "outputs": [
        {
          "output_type": "execute_result",
          "data": {
            "text/plain": [
              "array([[0.0130109 ],\n",
              "       [0.        ],\n",
              "       [0.06089061],\n",
              "       [0.05961858],\n",
              "       [0.09780801],\n",
              "       [0.10763646],\n",
              "       [0.13792216],\n",
              "       [0.14067108],\n",
              "       [0.08485905],\n",
              "       [0.08992334],\n",
              "       [0.05832273],\n",
              "       [0.0594042 ],\n",
              "       [0.03760821],\n",
              "       [0.01274887],\n",
              "       [0.07399679],\n",
              "       [0.09844641],\n",
              "       [0.12488268],\n",
              "       [0.13335334],\n",
              "       [0.16685961],\n",
              "       [0.16769811],\n",
              "       [0.11361547],\n",
              "       [0.11949919],\n",
              "       [0.08629306],\n",
              "       [0.0861025 ],\n",
              "       [0.07157184],\n",
              "       [0.05159575],\n",
              "       [0.12140962],\n",
              "       [0.12289603],\n",
              "       [0.15961334],\n",
              "       [0.17066617],\n",
              "       [0.19605433],\n",
              "       [0.20233825],\n",
              "       [0.14592594],\n",
              "       [0.14958957],\n",
              "       [0.11123816],\n",
              "       [0.11242443],\n",
              "       [0.09157651],\n",
              "       [0.07205778],\n",
              "       [0.1431532 ],\n",
              "       [0.14615462],\n",
              "       [0.17806966],\n",
              "       [0.18302438],\n",
              "       [0.21078032],\n",
              "       [0.22383886],\n",
              "       [0.15669292],\n",
              "       [0.16982768],\n",
              "       [0.12834146],\n",
              "       [0.10201952],\n",
              "       [0.08379188],\n",
              "       [0.04280113],\n",
              "       [0.11097613],\n",
              "       [0.12928476],\n",
              "       [0.16543513],\n",
              "       [0.17363424],\n",
              "       [0.20699282],\n",
              "       [0.22214282],\n",
              "       [0.15094259],\n",
              "       [0.16736461],\n",
              "       [0.13166683],\n",
              "       [0.13168589],\n",
              "       [0.09957075],\n",
              "       [0.06603589],\n",
              "       [0.13638811],\n",
              "       [0.1414524 ],\n",
              "       [0.1868357 ],\n",
              "       [0.19507292],\n",
              "       [0.22415806],\n",
              "       [0.23182834],\n",
              "       [0.16177627],\n",
              "       [0.18012301],\n",
              "       [0.14077113],\n",
              "       [0.14532089],\n",
              "       [0.11918952],\n",
              "       [0.10045688],\n",
              "       [0.17552084],\n",
              "       [0.18852697],\n",
              "       [0.21836961],\n",
              "       [0.22241914],\n",
              "       [0.25463909],\n",
              "       [0.25950805],\n",
              "       [0.20004192],\n",
              "       [0.20851735],\n",
              "       [0.16938461],\n",
              "       [0.1695466 ],\n",
              "       [0.11911806],\n",
              "       [0.1189799 ],\n",
              "       [0.20256216],\n",
              "       [0.20996089],\n",
              "       [0.24507744],\n",
              "       [0.24715938],\n",
              "       [0.2799272 ],\n",
              "       [0.28058466],\n",
              "       [0.22277645],\n",
              "       [0.23795027],\n",
              "       [0.1955398 ],\n",
              "       [0.18492051],\n",
              "       [0.15433943],\n",
              "       [0.14090452],\n",
              "       [0.22674023],\n",
              "       [0.21581126],\n",
              "       [0.27148513],\n",
              "       [0.29271418],\n",
              "       [0.33714465],\n",
              "       [0.34310937],\n",
              "       [0.25699258],\n",
              "       [0.2643532 ],\n",
              "       [0.22033244],\n",
              "       [0.224644  ],\n",
              "       [0.17585433],\n",
              "       [0.15344377],\n",
              "       [0.25709263],\n",
              "       [0.24819796],\n",
              "       [0.26179961],\n",
              "       [0.2560731 ],\n",
              "       [0.27351466],\n",
              "       [0.29775942],\n",
              "       [0.23884593],\n",
              "       [0.25810739],\n",
              "       [0.21886032],\n",
              "       [0.21812188],\n",
              "       [0.18589716],\n",
              "       [0.14242905],\n",
              "       [0.22742626],\n",
              "       [0.22989886],\n",
              "       [0.25643994],\n",
              "       [0.25839324],\n",
              "       [0.28017018],\n",
              "       [0.29168036],\n",
              "       [0.2383981 ],\n",
              "       [0.26285249],\n",
              "       [0.21904612],\n",
              "       [0.22561112],\n",
              "       [0.18392957],\n",
              "       [0.15399164],\n",
              "       [0.23990357],\n",
              "       [0.24308126],\n",
              "       [0.2709039 ],\n",
              "       [0.27681145],\n",
              "       [0.30400522],\n",
              "       [0.31453876],\n",
              "       [0.25603975],\n",
              "       [0.26571574],\n",
              "       [0.22563971],\n",
              "       [0.22381504],\n",
              "       [0.15395353],\n",
              "       [0.14325801],\n",
              "       [0.24173301],\n",
              "       [0.24965579],\n",
              "       [0.299384  ],\n",
              "       [0.30809286],\n",
              "       [0.35615838],\n",
              "       [0.36139895],\n",
              "       [0.28046079],\n",
              "       [0.29222348],\n",
              "       [0.23639239],\n",
              "       [0.236764  ],\n",
              "       [0.20006575],\n",
              "       [0.16382009],\n",
              "       [0.26380055],\n",
              "       [0.26345277],\n",
              "       [0.3152772 ],\n",
              "       [0.33013659],\n",
              "       [0.37818305],\n",
              "       [0.38211824],\n",
              "       [0.29774036],\n",
              "       [0.31730197],\n",
              "       [0.26802159],\n",
              "       [0.24932706],\n",
              "       [0.21480126],\n",
              "       [0.19076136],\n",
              "       [0.28520588],\n",
              "       [0.30435777],\n",
              "       [0.35066055],\n",
              "       [0.36188965],\n",
              "       [0.40142734],\n",
              "       [0.41675838],\n",
              "       [0.32697319],\n",
              "       [0.33429093],\n",
              "       [0.28503914],\n",
              "       [0.27943173],\n",
              "       [0.22239056],\n",
              "       [0.19973702],\n",
              "       [0.31911234],\n",
              "       [0.33441003],\n",
              "       [0.37772093],\n",
              "       [0.38713965],\n",
              "       [0.42610088],\n",
              "       [0.43827805],\n",
              "       [0.34769725],\n",
              "       [0.36753041],\n",
              "       [0.30219008],\n",
              "       [0.30558216],\n",
              "       [0.26467716],\n",
              "       [0.21955112],\n",
              "       [0.35131324],\n",
              "       [0.34699692],\n",
              "       [0.3955055 ],\n",
              "       [0.40460979],\n",
              "       [0.44626753],\n",
              "       [0.45990729],\n",
              "       [0.37169904],\n",
              "       [0.39062225],\n",
              "       [0.33525805],\n",
              "       [0.34390498],\n",
              "       [0.29764508],\n",
              "       [0.27896008],\n",
              "       [0.38175616],\n",
              "       [0.39237069],\n",
              "       [0.43036479],\n",
              "       [0.430603  ],\n",
              "       [0.46851135],\n",
              "       [0.47611017],\n",
              "       [0.41325196],\n",
              "       [0.42588649],\n",
              "       [0.37271857],\n",
              "       [0.37226121],\n",
              "       [0.34033663],\n",
              "       [0.30636348],\n",
              "       [0.43065064],\n",
              "       [0.42573404],\n",
              "       [0.47927356],\n",
              "       [0.48236073],\n",
              "       [0.51136965],\n",
              "       [0.51005474],\n",
              "       [0.44606743],\n",
              "       [0.46705828],\n",
              "       [0.40740635],\n",
              "       [0.41617715],\n",
              "       [0.39212772],\n",
              "       [0.330108  ],\n",
              "       [0.46473337],\n",
              "       [0.46154139],\n",
              "       [0.51157927],\n",
              "       [0.5081062 ],\n",
              "       [0.54093597],\n",
              "       [0.55611931],\n",
              "       [0.47586243],\n",
              "       [0.50090757],\n",
              "       [0.43969776],\n",
              "       [0.42919281],\n",
              "       [0.4104697 ],\n",
              "       [0.36263286],\n",
              "       [0.48274663],\n",
              "       [0.48399484],\n",
              "       [0.53265587],\n",
              "       [0.53399936],\n",
              "       [0.56230318],\n",
              "       [0.56986389],\n",
              "       [0.48105059],\n",
              "       [0.50115054],\n",
              "       [0.44841616],\n",
              "       [0.4343905 ],\n",
              "       [0.38326163],\n",
              "       [0.36164192],\n",
              "       [0.48419969],\n",
              "       [0.48640073],\n",
              "       [0.54543332],\n",
              "       [0.55276059],\n",
              "       [0.57620021],\n",
              "       [0.60324153],\n",
              "       [0.50572413],\n",
              "       [0.52883502],\n",
              "       [0.43949767],\n",
              "       [0.45421413],\n",
              "       [0.42977404],\n",
              "       [0.39429064],\n",
              "       [0.50660073],\n",
              "       [0.5175154 ],\n",
              "       [0.56828219],\n",
              "       [0.57069761],\n",
              "       [0.6154044 ],\n",
              "       [0.60652879],\n",
              "       [0.54056913],\n",
              "       [0.55928271],\n",
              "       [0.47611969],\n",
              "       [0.49336116],\n",
              "       [0.44896404],\n",
              "       [0.406868  ],\n",
              "       [0.52609087],\n",
              "       [0.53022615],\n",
              "       [0.61237917],\n",
              "       [0.58109299],\n",
              "       [0.6307545 ],\n",
              "       [0.62978261],\n",
              "       [0.5541803 ],\n",
              "       [0.5733703 ],\n",
              "       [0.49966413],\n",
              "       [0.52113139],\n",
              "       [0.43769205],\n",
              "       [0.42401894],\n",
              "       [0.56573337],\n",
              "       [0.56200304],\n",
              "       [0.61529959],\n",
              "       [0.6185678 ],\n",
              "       [0.6542894 ],\n",
              "       [0.65556143],\n",
              "       [0.58631926],\n",
              "       [0.59752931],\n",
              "       [0.53659582],\n",
              "       [0.55095021],\n",
              "       [0.55452809],\n",
              "       [0.44597691],\n",
              "       [0.5897304 ],\n",
              "       [0.57537125],\n",
              "       [0.64384638],\n",
              "       [0.63805318],\n",
              "       [0.66577101],\n",
              "       [0.6754327 ],\n",
              "       [0.60230299],\n",
              "       [0.61601898],\n",
              "       [0.55592398],\n",
              "       [0.5521603 ],\n",
              "       [0.50510955],\n",
              "       [0.47222262],\n",
              "       [0.60376082],\n",
              "       [0.60891087],\n",
              "       [0.67286006],\n",
              "       [0.65797209],\n",
              "       [0.70350784],\n",
              "       [0.72228336],\n",
              "       [0.62011139],\n",
              "       [0.6584628 ],\n",
              "       [0.58218398],\n",
              "       [0.59084997],\n",
              "       [0.53684356],\n",
              "       [0.50742016],\n",
              "       [0.64082591],\n",
              "       [0.63767205],\n",
              "       [0.70814336],\n",
              "       [0.68990619],\n",
              "       [0.75879105],\n",
              "       [0.74346478],\n",
              "       [0.64842473],\n",
              "       [0.6849753 ],\n",
              "       [0.59542356],\n",
              "       [0.6187679 ],\n",
              "       [0.56897299],\n",
              "       [0.52274644],\n",
              "       [0.65164054],\n",
              "       [0.66926313],\n",
              "       [0.71679982],\n",
              "       [0.72077313],\n",
              "       [0.77418402],\n",
              "       [0.76083963],\n",
              "       [0.67659992],\n",
              "       [0.71977265],\n",
              "       [0.63713846],\n",
              "       [0.66155473],\n",
              "       [0.5533037 ],\n",
              "       [0.54331804],\n",
              "       [0.68280285],\n",
              "       [0.68391289],\n",
              "       [0.73055393],\n",
              "       [0.75525129],\n",
              "       [0.78929591],\n",
              "       [0.78161133],\n",
              "       [0.69968223],\n",
              "       [0.74410794],\n",
              "       [0.68801006],\n",
              "       [0.68614728],\n",
              "       [0.60028299],\n",
              "       [0.58036408],\n",
              "       [0.73867204],\n",
              "       [0.71584223],\n",
              "       [0.78636595],\n",
              "       [0.78856699],\n",
              "       [0.79893855],\n",
              "       [0.81176364],\n",
              "       [0.71679982],\n",
              "       [0.75773341],\n",
              "       [0.69259794],\n",
              "       [0.67149752],\n",
              "       [0.63002558],\n",
              "       [0.58805818],\n",
              "       [0.73913416],\n",
              "       [0.73878162],\n",
              "       [0.79997237],\n",
              "       [0.79111581],\n",
              "       [0.82382171],\n",
              "       [0.83769015],\n",
              "       [0.70923912],\n",
              "       [0.77945317],\n",
              "       [0.72924379],\n",
              "       [0.72482742],\n",
              "       [0.65637134],\n",
              "       [0.62312709],\n",
              "       [0.7557277 ],\n",
              "       [0.76123506],\n",
              "       [0.83041053],\n",
              "       [0.81193515],\n",
              "       [0.85254477],\n",
              "       [0.86337845],\n",
              "       [0.74407935],\n",
              "       [0.80092043],\n",
              "       [0.72989648],\n",
              "       [0.74710459],\n",
              "       [0.67218355],\n",
              "       [0.60140257],\n",
              "       [0.75862907],\n",
              "       [0.77166378],\n",
              "       [0.83754722],\n",
              "       [0.83231142],\n",
              "       [0.87976236],\n",
              "       [0.8730068 ],\n",
              "       [0.76230699],\n",
              "       [0.8413776 ],\n",
              "       [0.74442713],\n",
              "       [0.76748562],\n",
              "       [0.69083997],\n",
              "       [0.64919653],\n",
              "       [0.82877642],\n",
              "       [0.82670402],\n",
              "       [0.85656095],\n",
              "       [0.85726604],\n",
              "       [0.89817104],\n",
              "       [0.88324496],\n",
              "       [0.7911968 ],\n",
              "       [0.84351194],\n",
              "       [0.77347893],\n",
              "       [0.79840973],\n",
              "       [0.69856742],\n",
              "       [0.67902487],\n",
              "       [0.83725185],\n",
              "       [0.82618949],\n",
              "       [0.88249222],\n",
              "       [0.88791383],\n",
              "       [0.90320199],\n",
              "       [0.8950934 ],\n",
              "       [0.78512251],\n",
              "       [0.82885265],\n",
              "       [0.78901006],\n",
              "       [0.80202095],\n",
              "       [0.74244525],\n",
              "       [0.68255511],\n",
              "       [0.85364529],\n",
              "       [0.82516043],\n",
              "       [0.88578901],\n",
              "       [0.88775184],\n",
              "       [0.88603199],\n",
              "       [0.894536  ],\n",
              "       [0.80115388],\n",
              "       [0.85991491],\n",
              "       [0.79991996],\n",
              "       [0.81345491],\n",
              "       [0.7440603 ],\n",
              "       [0.67550893],\n",
              "       [0.8680092 ],\n",
              "       [0.83445529],\n",
              "       [0.9058175 ],\n",
              "       [0.89533637],\n",
              "       [0.90358788],\n",
              "       [0.92321142],\n",
              "       [0.80286897],\n",
              "       [0.87651321],\n",
              "       [0.80202095],\n",
              "       [0.77578954],\n",
              "       [0.74072063],\n",
              "       [0.6855327 ],\n",
              "       [0.83325472],\n",
              "       [0.83203987],\n",
              "       [0.87671807],\n",
              "       [0.85774722],\n",
              "       [0.87735647],\n",
              "       [0.87263519],\n",
              "       [0.7725785 ],\n",
              "       [0.84995307],\n",
              "       [0.75760954],\n",
              "       [0.78274996],\n",
              "       [0.70550879],\n",
              "       [0.66793869],\n",
              "       [0.8208584 ],\n",
              "       [0.82863826],\n",
              "       [0.86152043],\n",
              "       [0.86208736],\n",
              "       [0.89103911],\n",
              "       [0.87114878],\n",
              "       [0.78383619],\n",
              "       [0.83261633],\n",
              "       [0.7614161 ],\n",
              "       [0.7725118 ],\n",
              "       [0.68316492],\n",
              "       [0.63455153],\n",
              "       [0.84228279],\n",
              "       [0.84084402],\n",
              "       [0.85509359],\n",
              "       [0.87012925],\n",
              "       [0.89505529],\n",
              "       [0.88801387],\n",
              "       [0.79675657],\n",
              "       [0.85255906],\n",
              "       [0.77244511],\n",
              "       [0.77826213],\n",
              "       [0.69722393],\n",
              "       [0.64802454],\n",
              "       [0.83697553],\n",
              "       [0.82008185],\n",
              "       [0.84154435],\n",
              "       [0.86187298],\n",
              "       [0.87056755],\n",
              "       [0.87223977],\n",
              "       [0.78427449],\n",
              "       [0.83117279],\n",
              "       [0.76747133],\n",
              "       [0.79736638],\n",
              "       [0.71502756],\n",
              "       [0.67057327],\n",
              "       [0.85146807],\n",
              "       [0.81920524],\n",
              "       [0.87342128],\n",
              "       [0.87152515],\n",
              "       [0.87089628],\n",
              "       [0.89059604],\n",
              "       [0.76905303],\n",
              "       [0.83911939],\n",
              "       [0.77617067],\n",
              "       [0.76830029],\n",
              "       [0.72404133],\n",
              "       [0.65917266],\n",
              "       [0.83650864],\n",
              "       [0.83192553],\n",
              "       [0.88596052],\n",
              "       [0.86963854],\n",
              "       [0.88853317],\n",
              "       [0.90813765],\n",
              "       [0.7865327 ],\n",
              "       [0.86376911],\n",
              "       [0.77471284],\n",
              "       [0.78034407],\n",
              "       [0.7097203 ],\n",
              "       [0.65033992],\n",
              "       [0.83840477],\n",
              "       [0.85418364],\n",
              "       [0.89944783],\n",
              "       [0.88621302],\n",
              "       [0.91762783],\n",
              "       [0.91180604],\n",
              "       [0.8110776 ],\n",
              "       [0.89424062],\n",
              "       [0.7813636 ],\n",
              "       [0.83291171],\n",
              "       [0.7434743 ],\n",
              "       [0.66592346],\n",
              "       [0.86028652],\n",
              "       [0.88315444],\n",
              "       [0.92137246],\n",
              "       [0.92010996],\n",
              "       [0.9572608 ],\n",
              "       [0.92789934],\n",
              "       [0.84634185],\n",
              "       [0.91008142],\n",
              "       [0.8165802 ],\n",
              "       [0.86698968],\n",
              "       [0.77292152],\n",
              "       [0.69351266],\n",
              "       [0.89425491],\n",
              "       [0.91572217],\n",
              "       [0.95535514],\n",
              "       [0.95068151],\n",
              "       [0.98959986],\n",
              "       [0.96126745],\n",
              "       [0.87944793],\n",
              "       [0.94410222],\n",
              "       [0.84664675],\n",
              "       [0.89249694],\n",
              "       [0.79630397],\n",
              "       [0.71226435],\n",
              "       [0.90477416],\n",
              "       [0.93121043],\n",
              "       [0.98386382],\n",
              "       [0.96757519],\n",
              "       [1.        ],\n",
              "       [0.9801859 ],\n",
              "       [0.8824684 ],\n",
              "       [0.95995255],\n",
              "       [0.85883345],\n",
              "       [0.90086755]])"
            ]
          },
          "metadata": {},
          "execution_count": 23
        }
      ]
    },
    {
      "cell_type": "code",
      "execution_count": 26,
      "metadata": {
        "id": "NXFe-_zvYtyI"
      },
      "outputs": [],
      "source": [
        "scaled_test = scaler.transform(test)\n"
      ]
    },
    {
      "cell_type": "code",
      "source": [
        "scaled_test"
      ],
      "metadata": {
        "colab": {
          "base_uri": "https://localhost:8080/"
        },
        "id": "X0IZG8HBa-v_",
        "outputId": "de31b18c-5fe4-436d-85bf-ca5798a96ea2"
      },
      "execution_count": 27,
      "outputs": [
        {
          "output_type": "execute_result",
          "data": {
            "text/plain": [
              "array([[0.80158265],\n",
              "       [0.71089704],\n",
              "       [0.91013382],\n",
              "       [0.92916661],\n",
              "       [0.99438307],\n",
              "       [0.969195  ],\n",
              "       [1.00382085],\n",
              "       [0.99649835],\n",
              "       [0.8725685 ],\n",
              "       [0.9753741 ],\n",
              "       [0.86301637],\n",
              "       [0.90981463]])"
            ]
          },
          "metadata": {},
          "execution_count": 27
        }
      ]
    },
    {
      "cell_type": "code",
      "execution_count": null,
      "metadata": {
        "collapsed": true,
        "id": "0bCXTO7DYtyJ"
      },
      "outputs": [],
      "source": [
        ""
      ]
    },
    {
      "cell_type": "markdown",
      "metadata": {
        "id": "Wu4AG8CMYtyK"
      },
      "source": [
        "# Time Series Generator\n",
        "\n",
        "**TASK: Create a TimeSeriesGenerator object based off the scaled_train data. The n_input is up to you, but at a minimum it should be at least 12.**"
      ]
    },
    {
      "cell_type": "code",
      "execution_count": 28,
      "metadata": {
        "collapsed": true,
        "id": "G2j2BVbuYtyL"
      },
      "outputs": [],
      "source": [
        "#CODE HERE\n",
        "from keras.preprocessing.sequence import TimeseriesGenerator\n"
      ]
    },
    {
      "cell_type": "code",
      "source": [
        "n_input= 12\n",
        "n_features = 1\n",
        "\n",
        "train_generator = TimeseriesGenerator(scaled_train,scaled_train,length=n_input,batch_size=1)"
      ],
      "metadata": {
        "id": "8Qq8xjvkbBLx"
      },
      "execution_count": 29,
      "outputs": []
    },
    {
      "cell_type": "code",
      "execution_count": 30,
      "metadata": {
        "colab": {
          "base_uri": "https://localhost:8080/"
        },
        "id": "1eQocYEhYtyN",
        "outputId": "1fce2b8a-255a-429c-da16-bba2f8a18c1f"
      },
      "outputs": [
        {
          "output_type": "execute_result",
          "data": {
            "text/plain": [
              "<keras.preprocessing.sequence.TimeseriesGenerator at 0x7fc9a6173210>"
            ]
          },
          "metadata": {},
          "execution_count": 30
        }
      ],
      "source": [
        "train_generator"
      ]
    },
    {
      "cell_type": "code",
      "execution_count": 31,
      "metadata": {
        "collapsed": true,
        "id": "9MD1uKG5YtyO"
      },
      "outputs": [],
      "source": [
        "X,y=  train_generator[0]\n"
      ]
    },
    {
      "cell_type": "code",
      "source": [
        "X"
      ],
      "metadata": {
        "colab": {
          "base_uri": "https://localhost:8080/"
        },
        "id": "ZVJJcivubVPA",
        "outputId": "531dd5e7-01f8-407f-b58b-8369e07e594c"
      },
      "execution_count": 32,
      "outputs": [
        {
          "output_type": "execute_result",
          "data": {
            "text/plain": [
              "array([[[0.0130109 ],\n",
              "        [0.        ],\n",
              "        [0.06089061],\n",
              "        [0.05961858],\n",
              "        [0.09780801],\n",
              "        [0.10763646],\n",
              "        [0.13792216],\n",
              "        [0.14067108],\n",
              "        [0.08485905],\n",
              "        [0.08992334],\n",
              "        [0.05832273],\n",
              "        [0.0594042 ]]])"
            ]
          },
          "metadata": {},
          "execution_count": 32
        }
      ]
    },
    {
      "cell_type": "code",
      "source": [
        "y"
      ],
      "metadata": {
        "colab": {
          "base_uri": "https://localhost:8080/"
        },
        "id": "7i9dYAJebV_8",
        "outputId": "39978129-e33f-46af-8b0e-805eb37932c2"
      },
      "execution_count": 33,
      "outputs": [
        {
          "output_type": "execute_result",
          "data": {
            "text/plain": [
              "array([[0.03760821]])"
            ]
          },
          "metadata": {},
          "execution_count": 33
        }
      ]
    },
    {
      "cell_type": "markdown",
      "metadata": {
        "id": "-ZmMgVofYtyP"
      },
      "source": [
        "### Create the Model\n",
        "\n",
        "**TASK: Create a Keras Sequential Model with as many LSTAM units you want and a final Dense Layer.**"
      ]
    },
    {
      "cell_type": "code",
      "execution_count": 34,
      "metadata": {
        "collapsed": true,
        "id": "weYKOgA5YtyR"
      },
      "outputs": [],
      "source": [
        "from keras.models import Sequential\n",
        "from keras.layers import Dense\n",
        "from keras.layers import LSTM"
      ]
    },
    {
      "cell_type": "code",
      "execution_count": 74,
      "metadata": {
        "collapsed": true,
        "colab": {
          "base_uri": "https://localhost:8080/"
        },
        "id": "d96CxICMYtyS",
        "outputId": "3a5ef199-bb99-4c54-a717-d9830e8b3914"
      },
      "outputs": [
        {
          "output_type": "stream",
          "name": "stdout",
          "text": [
            "Model: \"sequential_3\"\n",
            "_________________________________________________________________\n",
            " Layer (type)                Output Shape              Param #   \n",
            "=================================================================\n",
            " lstm_2 (LSTM)               (None, 160)               103680    \n",
            "                                                                 \n",
            " dense_2 (Dense)             (None, 1)                 161       \n",
            "                                                                 \n",
            "=================================================================\n",
            "Total params: 103,841\n",
            "Trainable params: 103,841\n",
            "Non-trainable params: 0\n",
            "_________________________________________________________________\n"
          ]
        }
      ],
      "source": [
        "model = Sequential()\n",
        "model.add(LSTM(160,activation='relu',input_shape=(n_input,n_features)))\n",
        "model.add(Dense(1))\n",
        "model.compile(optimizer='adam',loss='mse')\n",
        "model.summary()"
      ]
    },
    {
      "cell_type": "code",
      "execution_count": 74,
      "metadata": {
        "id": "xOtMeQy-YtyS"
      },
      "outputs": [],
      "source": [
        ""
      ]
    },
    {
      "cell_type": "markdown",
      "metadata": {
        "id": "QUNxFyOtYtyT"
      },
      "source": [
        "**TASK: Fit the model to the generator (it should be a lot of epochs, but do as many as you have the patience for! :)**"
      ]
    },
    {
      "cell_type": "code",
      "execution_count": 75,
      "metadata": {
        "collapsed": true,
        "colab": {
          "base_uri": "https://localhost:8080/"
        },
        "id": "MNIGV420YtyU",
        "outputId": "4200ebf2-7823-4f14-cac4-0bc173cdec18"
      },
      "outputs": [
        {
          "output_type": "stream",
          "name": "stdout",
          "text": [
            "Epoch 1/25\n",
            "564/564 [==============================] - 6s 9ms/step - loss: 0.0130\n",
            "Epoch 2/25\n",
            "564/564 [==============================] - 5s 9ms/step - loss: 0.0060\n",
            "Epoch 3/25\n",
            "564/564 [==============================] - 5s 9ms/step - loss: 0.0048\n",
            "Epoch 4/25\n",
            "564/564 [==============================] - 5s 9ms/step - loss: 0.0033\n",
            "Epoch 5/25\n",
            "564/564 [==============================] - 5s 9ms/step - loss: 0.0025\n",
            "Epoch 6/25\n",
            "564/564 [==============================] - 5s 9ms/step - loss: 0.0014\n",
            "Epoch 7/25\n",
            "564/564 [==============================] - 5s 9ms/step - loss: 0.0012\n",
            "Epoch 8/25\n",
            "564/564 [==============================] - 5s 9ms/step - loss: 9.8921e-04\n",
            "Epoch 9/25\n",
            "564/564 [==============================] - 5s 9ms/step - loss: 8.7609e-04\n",
            "Epoch 10/25\n",
            "564/564 [==============================] - 5s 9ms/step - loss: 8.9428e-04\n",
            "Epoch 11/25\n",
            "564/564 [==============================] - 5s 9ms/step - loss: 7.9576e-04\n",
            "Epoch 12/25\n",
            "564/564 [==============================] - 5s 9ms/step - loss: 7.7273e-04\n",
            "Epoch 13/25\n",
            "564/564 [==============================] - 5s 9ms/step - loss: 7.1532e-04\n",
            "Epoch 14/25\n",
            "564/564 [==============================] - 7s 12ms/step - loss: 6.2812e-04\n",
            "Epoch 15/25\n",
            "564/564 [==============================] - 5s 9ms/step - loss: 6.9144e-04\n",
            "Epoch 16/25\n",
            "564/564 [==============================] - 5s 9ms/step - loss: 5.8898e-04\n",
            "Epoch 17/25\n",
            "564/564 [==============================] - 5s 9ms/step - loss: 6.3526e-04\n",
            "Epoch 18/25\n",
            "564/564 [==============================] - 5s 9ms/step - loss: 6.3910e-04\n",
            "Epoch 19/25\n",
            "564/564 [==============================] - 5s 9ms/step - loss: 6.3157e-04\n",
            "Epoch 20/25\n",
            "564/564 [==============================] - 5s 9ms/step - loss: 6.1715e-04\n",
            "Epoch 21/25\n",
            "564/564 [==============================] - 5s 9ms/step - loss: 6.0813e-04\n",
            "Epoch 22/25\n",
            "564/564 [==============================] - 5s 9ms/step - loss: 5.4703e-04\n",
            "Epoch 23/25\n",
            "564/564 [==============================] - 5s 9ms/step - loss: 6.1166e-04\n",
            "Epoch 24/25\n",
            "564/564 [==============================] - 5s 9ms/step - loss: 5.4649e-04\n",
            "Epoch 25/25\n",
            "564/564 [==============================] - 5s 9ms/step - loss: 5.6765e-04\n"
          ]
        },
        {
          "output_type": "execute_result",
          "data": {
            "text/plain": [
              "<keras.callbacks.History at 0x7fc938c27410>"
            ]
          },
          "metadata": {},
          "execution_count": 75
        }
      ],
      "source": [
        "# CODE HERE\n",
        "model.fit(train_generator,epochs=25)"
      ]
    },
    {
      "cell_type": "code",
      "execution_count": null,
      "metadata": {
        "id": "J8nN6GtrYtyV",
        "outputId": "7c8497b3-6dc7-44d3-e761-9c890bae72e3"
      },
      "outputs": [
        {
          "name": "stdout",
          "output_type": "stream",
          "text": [
            "Epoch 1/10\n",
            "552/552 [==============================] - 17s 30ms/step - loss: 0.0010\n",
            "Epoch 2/10\n",
            "552/552 [==============================] - 17s 30ms/step - loss: 0.0011\n",
            "Epoch 3/10\n",
            "552/552 [==============================] - 16s 30ms/step - loss: 9.5115e-04\n",
            "Epoch 4/10\n",
            "552/552 [==============================] - 17s 30ms/step - loss: 8.8495e-04\n",
            "Epoch 5/10\n",
            "552/552 [==============================] - 17s 30ms/step - loss: 8.4229e-04\n",
            "Epoch 6/10\n",
            "552/552 [==============================] - 16s 30ms/step - loss: 0.0012\n",
            "Epoch 7/10\n",
            "552/552 [==============================] - 17s 30ms/step - loss: 8.6496e-04\n",
            "Epoch 8/10\n",
            "552/552 [==============================] - 17s 30ms/step - loss: 7.5506e-04\n",
            "Epoch 9/10\n",
            "552/552 [==============================] - 17s 30ms/step - loss: 0.0010\n",
            "Epoch 10/10\n",
            "552/552 [==============================] - 16s 30ms/step - loss: 0.0010\n"
          ]
        },
        {
          "data": {
            "text/plain": [
              "<keras.callbacks.History at 0x12ef492b128>"
            ]
          },
          "execution_count": 46,
          "metadata": {},
          "output_type": "execute_result"
        }
      ],
      "source": [
        ""
      ]
    },
    {
      "cell_type": "markdown",
      "metadata": {
        "id": "5FHT1niRYtyV"
      },
      "source": [
        "**TASK: Plot the history of the loss that occured during training.**"
      ]
    },
    {
      "cell_type": "code",
      "execution_count": 76,
      "metadata": {
        "collapsed": true,
        "colab": {
          "base_uri": "https://localhost:8080/"
        },
        "id": "ePpb-cr5YtyW",
        "outputId": "dddde2cc-bfa8-4b8f-e66b-da6fbb29ae93"
      },
      "outputs": [
        {
          "output_type": "execute_result",
          "data": {
            "text/plain": [
              "[0.012993287295103073,\n",
              " 0.005985698662698269,\n",
              " 0.004800187423825264,\n",
              " 0.0033272095024585724,\n",
              " 0.0024626837112009525,\n",
              " 0.0014430901501327753,\n",
              " 0.0011677310103550553,\n",
              " 0.0009892084635794163,\n",
              " 0.0008760886266827583,\n",
              " 0.000894280499778688,\n",
              " 0.0007957612397149205,\n",
              " 0.0007727257907390594,\n",
              " 0.000715316622518003,\n",
              " 0.0006281191017478704,\n",
              " 0.0006914371042512357,\n",
              " 0.0005889826570637524,\n",
              " 0.0006352646742016077,\n",
              " 0.0006391027709469199,\n",
              " 0.0006315721548162401,\n",
              " 0.0006171464337967336,\n",
              " 0.0006081336177885532,\n",
              " 0.0005470308824442327,\n",
              " 0.0006116559379734099,\n",
              " 0.0005464885616675019,\n",
              " 0.0005676497821696103]"
            ]
          },
          "metadata": {},
          "execution_count": 76
        }
      ],
      "source": [
        "# CODE HERE\n",
        "model.history.history['loss']"
      ]
    },
    {
      "cell_type": "code",
      "source": [
        "plt.plot(range(len(model.history.history['loss'])),model.history.history['loss'])"
      ],
      "metadata": {
        "colab": {
          "base_uri": "https://localhost:8080/",
          "height": 282
        },
        "id": "VRSM1kFbcW0m",
        "outputId": "46ab290f-3172-4bbf-8552-807cd084a75e"
      },
      "execution_count": 77,
      "outputs": [
        {
          "output_type": "execute_result",
          "data": {
            "text/plain": [
              "[<matplotlib.lines.Line2D at 0x7fc937f8d290>]"
            ]
          },
          "metadata": {},
          "execution_count": 77
        },
        {
          "output_type": "display_data",
          "data": {
            "image/png": "[encoded data removed]",
            "text/plain": [
              "<Figure size 432x288 with 1 Axes>"
            ]
          },
          "metadata": {
            "needs_background": "light"
          }
        }
      ]
    },
    {
      "cell_type": "code",
      "execution_count": null,
      "metadata": {
        "id": "WX2mjzTYYtyX",
        "outputId": "889b46a4-45c8-47e2-9130-afe003c62930"
      },
      "outputs": [
        {
          "data": {
            "text/plain": [
              "dict_keys(['loss'])"
            ]
          },
          "execution_count": 48,
          "metadata": {},
          "output_type": "execute_result"
        }
      ],
      "source": [
        ""
      ]
    },
    {
      "cell_type": "code",
      "execution_count": null,
      "metadata": {
        "id": "VKZrwL1xYtyY"
      },
      "outputs": [],
      "source": [
        ""
      ]
    },
    {
      "cell_type": "markdown",
      "metadata": {
        "id": "6sraArmjYtyY"
      },
      "source": [
        "## Evaluate on Test Data\n",
        "\n",
        "**TASK: Based on your test data and input size, create an appropriate;y sized \"first evaluation batch\" like we did in the lecture.**"
      ]
    },
    {
      "cell_type": "code",
      "execution_count": 78,
      "metadata": {
        "collapsed": true,
        "colab": {
          "base_uri": "https://localhost:8080/"
        },
        "id": "hLYevRtUYtyZ",
        "outputId": "13fcfb80-4681-4966-b1e0-a9938a8746c5"
      },
      "outputs": [
        {
          "output_type": "execute_result",
          "data": {
            "text/plain": [
              "array([[0.79630397],\n",
              "       [0.71226435],\n",
              "       [0.90477416],\n",
              "       [0.93121043],\n",
              "       [0.98386382],\n",
              "       [0.96757519],\n",
              "       [1.        ],\n",
              "       [0.9801859 ],\n",
              "       [0.8824684 ],\n",
              "       [0.95995255],\n",
              "       [0.85883345],\n",
              "       [0.90086755]])"
            ]
          },
          "metadata": {},
          "execution_count": 78
        }
      ],
      "source": [
        "# CODE HERE\n",
        "first_eval_batch = scaled_train[-n_input:]\n",
        "first_eval_batch"
      ]
    },
    {
      "cell_type": "code",
      "execution_count": null,
      "metadata": {
        "id": "0hnmva_jYtya",
        "outputId": "0e318f73-797f-4bb4-f75a-ff13ca7426f8"
      },
      "outputs": [
        {
          "data": {
            "text/plain": [
              "array([[0.79630397],\n",
              "       [0.71226435],\n",
              "       [0.90477416],\n",
              "       [0.93121043],\n",
              "       [0.98386382],\n",
              "       [0.96757519],\n",
              "       [1.        ],\n",
              "       [0.9801859 ],\n",
              "       [0.8824684 ],\n",
              "       [0.95995255],\n",
              "       [0.85883345],\n",
              "       [0.90086755]])"
            ]
          },
          "execution_count": 51,
          "metadata": {},
          "output_type": "execute_result"
        }
      ],
      "source": [
        ""
      ]
    },
    {
      "cell_type": "code",
      "execution_count": 79,
      "metadata": {
        "collapsed": true,
        "id": "WLppCwc7Ytya"
      },
      "outputs": [],
      "source": [
        "current_batch = first_eval_batch.reshape(1,n_input,n_features)"
      ]
    },
    {
      "cell_type": "code",
      "source": [
        "current_batch.shape"
      ],
      "metadata": {
        "colab": {
          "base_uri": "https://localhost:8080/"
        },
        "id": "z-D_BcILdZiN",
        "outputId": "08a2208e-2c96-4841-f88d-6fcfd6a53954"
      },
      "execution_count": 80,
      "outputs": [
        {
          "output_type": "execute_result",
          "data": {
            "text/plain": [
              "(1, 12, 1)"
            ]
          },
          "metadata": {},
          "execution_count": 80
        }
      ]
    },
    {
      "cell_type": "markdown",
      "metadata": {
        "id": "xpjAWC1EYtyb"
      },
      "source": [
        "**TASK: Generate predictions into the same time stamps as the test set**"
      ]
    },
    {
      "cell_type": "code",
      "execution_count": 81,
      "metadata": {
        "collapsed": true,
        "id": "7YWRDmMPYtyc"
      },
      "outputs": [],
      "source": [
        "# CODE HERE\n",
        "test_prediction = []\n",
        "for i in range(12):\n",
        "    current_pred = model.predict(current_batch)[0]\n",
        "    test_prediction.append(current_pred)\n",
        "    current_batch = np.append(current_batch[:,1:,:],[[current_pred]],axis=1)"
      ]
    },
    {
      "cell_type": "code",
      "execution_count": 82,
      "metadata": {
        "collapsed": true,
        "colab": {
          "base_uri": "https://localhost:8080/"
        },
        "id": "LL9_YRd3Ytyc",
        "outputId": "8bc46bfb-e7a4-47c2-ead0-f8da138b8f3c"
      },
      "outputs": [
        {
          "output_type": "execute_result",
          "data": {
            "text/plain": [
              "[array([0.8058737], dtype=float32),\n",
              " array([0.7334083], dtype=float32),\n",
              " array([0.89790833], dtype=float32),\n",
              " array([0.9331682], dtype=float32),\n",
              " array([0.98290485], dtype=float32),\n",
              " array([0.9721708], dtype=float32),\n",
              " array([0.9988556], dtype=float32),\n",
              " array([0.9799058], dtype=float32),\n",
              " array([0.8956696], dtype=float32),\n",
              " array([0.9540999], dtype=float32),\n",
              " array([0.8683596], dtype=float32),\n",
              " array([0.89945847], dtype=float32)]"
            ]
          },
          "metadata": {},
          "execution_count": 82
        }
      ],
      "source": [
        "test_prediction"
      ]
    },
    {
      "cell_type": "markdown",
      "metadata": {
        "id": "KqkMgYRzYtyd"
      },
      "source": [
        "## Inverse Transformations and Compare\n",
        "\n",
        "**TASK: Inverse Transform your new forecasted predictions.**"
      ]
    },
    {
      "cell_type": "code",
      "execution_count": 83,
      "metadata": {
        "collapsed": true,
        "id": "E2qEuf8_Ytye"
      },
      "outputs": [],
      "source": [
        "#CODE HERE\n",
        "predictions = scaler.inverse_transform(test_prediction)"
      ]
    },
    {
      "cell_type": "code",
      "execution_count": 84,
      "metadata": {
        "collapsed": true,
        "colab": {
          "base_uri": "https://localhost:8080/"
        },
        "id": "D3PhZOP5Ytyf",
        "outputId": "6dd6fd95-8894-465e-95e3-a8a6be1e0248"
      },
      "outputs": [
        {
          "output_type": "execute_result",
          "data": {
            "text/plain": [
              "array([[246595.69383198],\n",
              "       [231385.12975699],\n",
              "       [265913.85636771],\n",
              "       [273314.93264651],\n",
              "       [283754.7112214 ],\n",
              "       [281501.62934017],\n",
              "       [287102.78736877],\n",
              "       [283125.20399469],\n",
              "       [265443.94040787],\n",
              "       [277708.52176023],\n",
              "       [259711.55371839],\n",
              "       [266239.23188335]])"
            ]
          },
          "metadata": {},
          "execution_count": 84
        }
      ],
      "source": [
        "predictions"
      ]
    },
    {
      "cell_type": "code",
      "execution_count": null,
      "metadata": {
        "id": "6D52RKcEYtyf",
        "outputId": "9b092cf5-c0ee-40fe-8fdf-3079215d1379"
      },
      "outputs": [
        {
          "data": {
            "text/plain": [
              "array([[246787.65124869],\n",
              "       [235267.94174141],\n",
              "       [258981.00705367],\n",
              "       [269320.52187717],\n",
              "       [280305.23281485],\n",
              "       [283555.27218211],\n",
              "       [288203.31152987],\n",
              "       [283559.36330348],\n",
              "       [271973.99567699],\n",
              "       [276999.53167695],\n",
              "       [261872.87937891],\n",
              "       [264047.44175631]])"
            ]
          },
          "execution_count": 57,
          "metadata": {},
          "output_type": "execute_result"
        }
      ],
      "source": [
        ""
      ]
    },
    {
      "cell_type": "markdown",
      "metadata": {
        "id": "k8JtXTioYtyg"
      },
      "source": [
        "**TASK: Create a new dataframe that has both the original test values and your predictions for them.**"
      ]
    },
    {
      "cell_type": "code",
      "execution_count": 85,
      "metadata": {
        "colab": {
          "base_uri": "https://localhost:8080/"
        },
        "id": "a0zvbEGpYtyh",
        "outputId": "56efa42c-e9c6-4d49-c08c-185856fe9091"
      },
      "outputs": [
        {
          "output_type": "stream",
          "name": "stderr",
          "text": [
            "/usr/local/lib/python3.7/dist-packages/ipykernel_launcher.py:2: SettingWithCopyWarning: \n",
            "A value is trying to be set on a copy of a slice from a DataFrame.\n",
            "Try using .loc[row_indexer,col_indexer] = value instead\n",
            "\n",
            "See the caveats in the documentation: https://pandas.pydata.org/pandas-docs/stable/user_guide/indexing.html#returning-a-view-versus-a-copy\n",
            "  \n"
          ]
        }
      ],
      "source": [
        "# CODE HERE\n",
        "test['Predictions'] = predictions"
      ]
    },
    {
      "cell_type": "code",
      "source": [
        "test"
      ],
      "metadata": {
        "colab": {
          "base_uri": "https://localhost:8080/",
          "height": 457
        },
        "id": "pf_nlWI6exTH",
        "outputId": "3f2eb754-e662-40ee-be7e-1c2e285aa5ed"
      },
      "execution_count": 86,
      "outputs": [
        {
          "output_type": "execute_result",
          "data": {
            "text/html": [
              "\n",
              "  <div id=\"df-adab41c4-5b85-4013-8df2-7753f7384f3b\">\n",
              "    <div class=\"colab-df-container\">\n",
              "      <div>\n",
              "<style scoped>\n",
              "    .dataframe tbody tr th:only-of-type {\n",
              "        vertical-align: middle;\n",
              "    }\n",
              "\n",
              "    .dataframe tbody tr th {\n",
              "        vertical-align: top;\n",
              "    }\n",
              "\n",
              "    .dataframe thead th {\n",
              "        text-align: right;\n",
              "    }\n",
              "</style>\n",
              "<table border=\"1\" class=\"dataframe\">\n",
              "  <thead>\n",
              "    <tr style=\"text-align: right;\">\n",
              "      <th></th>\n",
              "      <th>Value</th>\n",
              "      <th>Predictions</th>\n",
              "    </tr>\n",
              "    <tr>\n",
              "      <th>DATE</th>\n",
              "      <th></th>\n",
              "      <th></th>\n",
              "    </tr>\n",
              "  </thead>\n",
              "  <tbody>\n",
              "    <tr>\n",
              "      <th>2018-01-01</th>\n",
              "      <td>245695.0</td>\n",
              "      <td>246595.693832</td>\n",
              "    </tr>\n",
              "    <tr>\n",
              "      <th>2018-02-01</th>\n",
              "      <td>226660.0</td>\n",
              "      <td>231385.129757</td>\n",
              "    </tr>\n",
              "    <tr>\n",
              "      <th>2018-03-01</th>\n",
              "      <td>268480.0</td>\n",
              "      <td>265913.856368</td>\n",
              "    </tr>\n",
              "    <tr>\n",
              "      <th>2018-04-01</th>\n",
              "      <td>272475.0</td>\n",
              "      <td>273314.932647</td>\n",
              "    </tr>\n",
              "    <tr>\n",
              "      <th>2018-05-01</th>\n",
              "      <td>286164.0</td>\n",
              "      <td>283754.711221</td>\n",
              "    </tr>\n",
              "    <tr>\n",
              "      <th>2018-06-01</th>\n",
              "      <td>280877.0</td>\n",
              "      <td>281501.629340</td>\n",
              "    </tr>\n",
              "    <tr>\n",
              "      <th>2018-07-01</th>\n",
              "      <td>288145.0</td>\n",
              "      <td>287102.787369</td>\n",
              "    </tr>\n",
              "    <tr>\n",
              "      <th>2018-08-01</th>\n",
              "      <td>286608.0</td>\n",
              "      <td>283125.203995</td>\n",
              "    </tr>\n",
              "    <tr>\n",
              "      <th>2018-09-01</th>\n",
              "      <td>260595.0</td>\n",
              "      <td>265443.940408</td>\n",
              "    </tr>\n",
              "    <tr>\n",
              "      <th>2018-10-01</th>\n",
              "      <td>282174.0</td>\n",
              "      <td>277708.521760</td>\n",
              "    </tr>\n",
              "    <tr>\n",
              "      <th>2018-11-01</th>\n",
              "      <td>258590.0</td>\n",
              "      <td>259711.553718</td>\n",
              "    </tr>\n",
              "    <tr>\n",
              "      <th>2018-12-01</th>\n",
              "      <td>268413.0</td>\n",
              "      <td>266239.231883</td>\n",
              "    </tr>\n",
              "  </tbody>\n",
              "</table>\n",
              "</div>\n",
              "      <button class=\"colab-df-convert\" onclick=\"convertToInteractive('df-adab41c4-5b85-4013-8df2-7753f7384f3b')\"\n",
              "              title=\"Convert this dataframe to an interactive table.\"\n",
              "              style=\"display:none;\">\n",
              "        \n",
              "  <svg xmlns=\"http://www.w3.org/2000/svg\" height=\"24px\"viewBox=\"0 0 24 24\"\n",
              "       width=\"24px\">\n",
              "    <path d=\"M0 0h24v24H0V0z\" fill=\"none\"/>\n",
              "    <path d=\"M18.56 5.44l.94 2.06.94-2.06 2.06-.94-2.06-.94-.94-2.06-.94 2.06-2.06.94zm-11 1L8.5 8.5l.94-2.06 2.06-.94-2.06-.94L8.5 2.5l-.94 2.06-2.06.94zm10 10l.94 2.06.94-2.06 2.06-.94-2.06-.94-.94-2.06-.94 2.06-2.06.94z\"/><path d=\"M17.41 7.96l-1.37-1.37c-.4-.4-.92-.59-1.43-.59-.52 0-1.04.2-1.43.59L10.3 9.45l-7.72 7.72c-.78.78-.78 2.05 0 2.83L4 21.41c.39.39.9.59 1.41.59.51 0 1.02-.2 1.41-.59l7.78-7.78 2.81-2.81c.8-.78.8-2.07 0-2.86zM5.41 20L4 18.59l7.72-7.72 1.47 1.35L5.41 20z\"/>\n",
              "  </svg>\n",
              "      </button>\n",
              "      \n",
              "  <style>\n",
              "    .colab-df-container {\n",
              "      display:flex;\n",
              "      flex-wrap:wrap;\n",
              "      gap: 12px;\n",
              "    }\n",
              "\n",
              "    .colab-df-convert {\n",
              "      background-color: #E8F0FE;\n",
              "      border: none;\n",
              "      border-radius: 50%;\n",
              "      cursor: pointer;\n",
              "      display: none;\n",
              "      fill: #1967D2;\n",
              "      height: 32px;\n",
              "      padding: 0 0 0 0;\n",
              "      width: 32px;\n",
              "    }\n",
              "\n",
              "    .colab-df-convert:hover {\n",
              "      background-color: #E2EBFA;\n",
              "      box-shadow: 0px 1px 2px rgba(60, 64, 67, 0.3), 0px 1px 3px 1px rgba(60, 64, 67, 0.15);\n",
              "      fill: #174EA6;\n",
              "    }\n",
              "\n",
              "    [theme=dark] .colab-df-convert {\n",
              "      background-color: #3B4455;\n",
              "      fill: #D2E3FC;\n",
              "    }\n",
              "\n",
              "    [theme=dark] .colab-df-convert:hover {\n",
              "      background-color: #434B5C;\n",
              "      box-shadow: 0px 1px 3px 1px rgba(0, 0, 0, 0.15);\n",
              "      filter: drop-shadow(0px 1px 2px rgba(0, 0, 0, 0.3));\n",
              "      fill: #FFFFFF;\n",
              "    }\n",
              "  </style>\n",
              "\n",
              "      <script>\n",
              "        const buttonEl =\n",
              "          document.querySelector('#df-adab41c4-5b85-4013-8df2-7753f7384f3b button.colab-df-convert');\n",
              "        buttonEl.style.display =\n",
              "          google.colab.kernel.accessAllowed ? 'block' : 'none';\n",
              "\n",
              "        async function convertToInteractive(key) {\n",
              "          const element = document.querySelector('#df-adab41c4-5b85-4013-8df2-7753f7384f3b');\n",
              "          const dataTable =\n",
              "            await google.colab.kernel.invokeFunction('convertToInteractive',\n",
              "                                                     [key], {});\n",
              "          if (!dataTable) return;\n",
              "\n",
              "          const docLinkHtml = 'Like what you see? Visit the ' +\n",
              "            '<a target=\"_blank\" href=https://colab.research.google.com/notebooks/data_table.ipynb>data table notebook</a>'\n",
              "            + ' to learn more about interactive tables.';\n",
              "          element.innerHTML = '';\n",
              "          dataTable['output_type'] = 'display_data';\n",
              "          await google.colab.output.renderOutput(dataTable, element);\n",
              "          const docLink = document.createElement('div');\n",
              "          docLink.innerHTML = docLinkHtml;\n",
              "          element.appendChild(docLink);\n",
              "        }\n",
              "      </script>\n",
              "    </div>\n",
              "  </div>\n",
              "  "
            ],
            "text/plain": [
              "               Value    Predictions\n",
              "DATE                               \n",
              "2018-01-01  245695.0  246595.693832\n",
              "2018-02-01  226660.0  231385.129757\n",
              "2018-03-01  268480.0  265913.856368\n",
              "2018-04-01  272475.0  273314.932647\n",
              "2018-05-01  286164.0  283754.711221\n",
              "2018-06-01  280877.0  281501.629340\n",
              "2018-07-01  288145.0  287102.787369\n",
              "2018-08-01  286608.0  283125.203995\n",
              "2018-09-01  260595.0  265443.940408\n",
              "2018-10-01  282174.0  277708.521760\n",
              "2018-11-01  258590.0  259711.553718\n",
              "2018-12-01  268413.0  266239.231883"
            ]
          },
          "metadata": {},
          "execution_count": 86
        }
      ]
    },
    {
      "cell_type": "code",
      "execution_count": null,
      "metadata": {
        "id": "__3v5e-RYtyh",
        "outputId": "a95c822a-5517-4c8e-d326-7cac2f72cffa"
      },
      "outputs": [
        {
          "data": {
            "text/html": [
              "<div>\n",
              "<style scoped>\n",
              "    .dataframe tbody tr th:only-of-type {\n",
              "        vertical-align: middle;\n",
              "    }\n",
              "\n",
              "    .dataframe tbody tr th {\n",
              "        vertical-align: top;\n",
              "    }\n",
              "\n",
              "    .dataframe thead th {\n",
              "        text-align: right;\n",
              "    }\n",
              "</style>\n",
              "<table border=\"1\" class=\"dataframe\">\n",
              "  <thead>\n",
              "    <tr style=\"text-align: right;\">\n",
              "      <th></th>\n",
              "      <th>Value</th>\n",
              "      <th>Predictions</th>\n",
              "    </tr>\n",
              "    <tr>\n",
              "      <th>DATE</th>\n",
              "      <th></th>\n",
              "      <th></th>\n",
              "    </tr>\n",
              "  </thead>\n",
              "  <tbody>\n",
              "    <tr>\n",
              "      <th>2018-01-01</th>\n",
              "      <td>245695.0</td>\n",
              "      <td>246787.651249</td>\n",
              "    </tr>\n",
              "    <tr>\n",
              "      <th>2018-02-01</th>\n",
              "      <td>226660.0</td>\n",
              "      <td>235267.941741</td>\n",
              "    </tr>\n",
              "    <tr>\n",
              "      <th>2018-03-01</th>\n",
              "      <td>268480.0</td>\n",
              "      <td>258981.007054</td>\n",
              "    </tr>\n",
              "    <tr>\n",
              "      <th>2018-04-01</th>\n",
              "      <td>272475.0</td>\n",
              "      <td>269320.521877</td>\n",
              "    </tr>\n",
              "    <tr>\n",
              "      <th>2018-05-01</th>\n",
              "      <td>286164.0</td>\n",
              "      <td>280305.232815</td>\n",
              "    </tr>\n",
              "    <tr>\n",
              "      <th>2018-06-01</th>\n",
              "      <td>280877.0</td>\n",
              "      <td>283555.272182</td>\n",
              "    </tr>\n",
              "    <tr>\n",
              "      <th>2018-07-01</th>\n",
              "      <td>288145.0</td>\n",
              "      <td>288203.311530</td>\n",
              "    </tr>\n",
              "    <tr>\n",
              "      <th>2018-08-01</th>\n",
              "      <td>286608.0</td>\n",
              "      <td>283559.363303</td>\n",
              "    </tr>\n",
              "    <tr>\n",
              "      <th>2018-09-01</th>\n",
              "      <td>260595.0</td>\n",
              "      <td>271973.995677</td>\n",
              "    </tr>\n",
              "    <tr>\n",
              "      <th>2018-10-01</th>\n",
              "      <td>282174.0</td>\n",
              "      <td>276999.531677</td>\n",
              "    </tr>\n",
              "    <tr>\n",
              "      <th>2018-11-01</th>\n",
              "      <td>258590.0</td>\n",
              "      <td>261872.879379</td>\n",
              "    </tr>\n",
              "    <tr>\n",
              "      <th>2018-12-01</th>\n",
              "      <td>268413.0</td>\n",
              "      <td>264047.441756</td>\n",
              "    </tr>\n",
              "  </tbody>\n",
              "</table>\n",
              "</div>"
            ],
            "text/plain": [
              "               Value    Predictions\n",
              "DATE                               \n",
              "2018-01-01  245695.0  246787.651249\n",
              "2018-02-01  226660.0  235267.941741\n",
              "2018-03-01  268480.0  258981.007054\n",
              "2018-04-01  272475.0  269320.521877\n",
              "2018-05-01  286164.0  280305.232815\n",
              "2018-06-01  280877.0  283555.272182\n",
              "2018-07-01  288145.0  288203.311530\n",
              "2018-08-01  286608.0  283559.363303\n",
              "2018-09-01  260595.0  271973.995677\n",
              "2018-10-01  282174.0  276999.531677\n",
              "2018-11-01  258590.0  261872.879379\n",
              "2018-12-01  268413.0  264047.441756"
            ]
          },
          "execution_count": 59,
          "metadata": {},
          "output_type": "execute_result"
        }
      ],
      "source": [
        ""
      ]
    },
    {
      "cell_type": "markdown",
      "metadata": {
        "id": "DDd4EbMaYtyi"
      },
      "source": [
        "**TASK: Plot out the test set against your own predicted values.**"
      ]
    },
    {
      "cell_type": "code",
      "execution_count": 87,
      "metadata": {
        "collapsed": true,
        "colab": {
          "base_uri": "https://localhost:8080/",
          "height": 525
        },
        "id": "4qZzbGn_Ytyj",
        "outputId": "ad72242f-4c63-47b7-e13c-e405701e2636"
      },
      "outputs": [
        {
          "output_type": "execute_result",
          "data": {
            "text/plain": [
              "<matplotlib.axes._subplots.AxesSubplot at 0x7fc937ed2d10>"
            ]
          },
          "metadata": {},
          "execution_count": 87
        },
        {
          "output_type": "display_data",
          "data": {
            "image/png": "[encoded data removed]",
            "text/plain": [
              "<Figure size 864x576 with 1 Axes>"
            ]
          },
          "metadata": {
            "needs_background": "light"
          }
        }
      ],
      "source": [
        "# CODE HERE\n",
        "test.plot(figsize=(12,8))"
      ]
    },
    {
      "cell_type": "code",
      "execution_count": null,
      "metadata": {
        "id": "-5VtNBytYtyj",
        "outputId": "9f562b16-39ce-4ad7-b573-0d5445c685b3"
      },
      "outputs": [
        {
          "data": {
            "text/plain": [
              "<matplotlib.axes._subplots.AxesSubplot at 0x12ef97a50f0>"
            ]
          },
          "execution_count": 60,
          "metadata": {},
          "output_type": "execute_result"
        },
        {
          "data": {
            "image/png": "[encoded data removed]",
            "text/plain": [
              "<Figure size 864x576 with 1 Axes>"
            ]
          },
          "metadata": {},
          "output_type": "display_data"
        }
      ],
      "source": [
        ""
      ]
    },
    {
      "cell_type": "markdown",
      "metadata": {
        "id": "X6hlCjLQYtyk"
      },
      "source": [
        "# Saving Models\n",
        "\n",
        "**TASK: Optional, Save your model!**"
      ]
    },
    {
      "cell_type": "code",
      "execution_count": 88,
      "metadata": {
        "collapsed": true,
        "id": "6JeNmY26Ytyl"
      },
      "outputs": [],
      "source": [
        "model.save('boothang.h5')"
      ]
    },
    {
      "cell_type": "code",
      "source": [
        ""
      ],
      "metadata": {
        "id": "FASFK4xTf1Ev"
      },
      "execution_count": null,
      "outputs": []
    }
  ],
  "metadata": {
    "kernelspec": {
      "display_name": "Python 3",
      "language": "python",
      "name": "python3"
    },
    "language_info": {
      "codemirror_mode": {
        "name": "ipython",
        "version": 3
      },
      "file_extension": ".py",
      "mimetype": "text/x-python",
      "name": "python",
      "nbconvert_exporter": "python",
      "pygments_lexer": "ipython3",
      "version": "3.6.6"
    },
    "colab": {
      "name": "02-RNN-Exercise.ipynb",
      "provenance": []
    }
  },
  "nbformat": 4,
  "nbformat_minor": 0
}