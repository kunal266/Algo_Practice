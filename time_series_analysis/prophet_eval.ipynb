{
  "nbformat": 4,
  "nbformat_minor": 0,
  "metadata": {
    "colab": {
      "name": "prophet_eval.ipynb",
      "provenance": [],
      "collapsed_sections": [],
      "mount_file_id": "1ADfjrJsnmDetriBp3cxeW2myddCK3Pxj",
      "authorship_tag": "ABX9TyNhMiGTPgiZY/y01kuapVzm",
      "include_colab_link": true
    },
    "kernelspec": {
      "name": "python3",
      "display_name": "Python 3"
    },
    "language_info": {
      "name": "python"
    },
    "widgets": {
      "application/vnd.jupyter.widget-state+json": {
        "404280d3e3be4b52a587e3f76268a788": {
          "model_module": "@jupyter-widgets/controls",
          "model_name": "HBoxModel",
          "model_module_version": "1.5.0",
          "state": {
            "_dom_classes": [],
            "_model_module": "@jupyter-widgets/controls",
            "_model_module_version": "1.5.0",
            "_model_name": "HBoxModel",
            "_view_count": null,
            "_view_module": "@jupyter-widgets/controls",
            "_view_module_version": "1.5.0",
            "_view_name": "HBoxView",
            "box_style": "",
            "children": [
              "IPY_MODEL_ab84aac0cb164d88897bb1e7e5344a88",
              "IPY_MODEL_2c5e25113cc74bd9a572ce5ca6159c9a",
              "IPY_MODEL_03de4cb7ece24c35bd309a52bca93223"
            ],
            "layout": "IPY_MODEL_520918d50aed48ad9c92bb4db78d2f36"
          }
        },
        "ab84aac0cb164d88897bb1e7e5344a88": {
          "model_module": "@jupyter-widgets/controls",
          "model_name": "HTMLModel",
          "model_module_version": "1.5.0",
          "state": {
            "_dom_classes": [],
            "_model_module": "@jupyter-widgets/controls",
            "_model_module_version": "1.5.0",
            "_model_name": "HTMLModel",
            "_view_count": null,
            "_view_module": "@jupyter-widgets/controls",
            "_view_module_version": "1.5.0",
            "_view_name": "HTMLView",
            "description": "",
            "description_tooltip": null,
            "layout": "IPY_MODEL_3210e2c2a8b644358424d4d72c44817c",
            "placeholder": "​",
            "style": "IPY_MODEL_3efd434f1654493dbbc4de77036b1b6f",
            "value": "100%"
          }
        },
        "2c5e25113cc74bd9a572ce5ca6159c9a": {
          "model_module": "@jupyter-widgets/controls",
          "model_name": "FloatProgressModel",
          "model_module_version": "1.5.0",
          "state": {
            "_dom_classes": [],
            "_model_module": "@jupyter-widgets/controls",
            "_model_module_version": "1.5.0",
            "_model_name": "FloatProgressModel",
            "_view_count": null,
            "_view_module": "@jupyter-widgets/controls",
            "_view_module_version": "1.5.0",
            "_view_name": "ProgressView",
            "bar_style": "success",
            "description": "",
            "description_tooltip": null,
            "layout": "IPY_MODEL_2e472d886f8b4e32855c2d7420160596",
            "max": 9,
            "min": 0,
            "orientation": "horizontal",
            "style": "IPY_MODEL_75a599186f4e4c3e8ba2f37e1fe47a48",
            "value": 9
          }
        },
        "03de4cb7ece24c35bd309a52bca93223": {
          "model_module": "@jupyter-widgets/controls",
          "model_name": "HTMLModel",
          "model_module_version": "1.5.0",
          "state": {
            "_dom_classes": [],
            "_model_module": "@jupyter-widgets/controls",
            "_model_module_version": "1.5.0",
            "_model_name": "HTMLModel",
            "_view_count": null,
            "_view_module": "@jupyter-widgets/controls",
            "_view_module_version": "1.5.0",
            "_view_name": "HTMLView",
            "description": "",
            "description_tooltip": null,
            "layout": "IPY_MODEL_30d0c0b551644d2493ccd9f5c83953f5",
            "placeholder": "​",
            "style": "IPY_MODEL_12257387cf234c58abbe3c4104eb8c14",
            "value": " 9/9 [00:21&lt;00:00,  1.94s/it]"
          }
        },
        "520918d50aed48ad9c92bb4db78d2f36": {
          "model_module": "@jupyter-widgets/base",
          "model_name": "LayoutModel",
          "model_module_version": "1.2.0",
          "state": {
            "_model_module": "@jupyter-widgets/base",
            "_model_module_version": "1.2.0",
            "_model_name": "LayoutModel",
            "_view_count": null,
            "_view_module": "@jupyter-widgets/base",
            "_view_module_version": "1.2.0",
            "_view_name": "LayoutView",
            "align_content": null,
            "align_items": null,
            "align_self": null,
            "border": null,
            "bottom": null,
            "display": null,
            "flex": null,
            "flex_flow": null,
            "grid_area": null,
            "grid_auto_columns": null,
            "grid_auto_flow": null,
            "grid_auto_rows": null,
            "grid_column": null,
            "grid_gap": null,
            "grid_row": null,
            "grid_template_areas": null,
            "grid_template_columns": null,
            "grid_template_rows": null,
            "height": null,
            "justify_content": null,
            "justify_items": null,
            "left": null,
            "margin": null,
            "max_height": null,
            "max_width": null,
            "min_height": null,
            "min_width": null,
            "object_fit": null,
            "object_position": null,
            "order": null,
            "overflow": null,
            "overflow_x": null,
            "overflow_y": null,
            "padding": null,
            "right": null,
            "top": null,
            "visibility": null,
            "width": null
          }
        },
        "3210e2c2a8b644358424d4d72c44817c": {
          "model_module": "@jupyter-widgets/base",
          "model_name": "LayoutModel",
          "model_module_version": "1.2.0",
          "state": {
            "_model_module": "@jupyter-widgets/base",
            "_model_module_version": "1.2.0",
            "_model_name": "LayoutModel",
            "_view_count": null,
            "_view_module": "@jupyter-widgets/base",
            "_view_module_version": "1.2.0",
            "_view_name": "LayoutView",
            "align_content": null,
            "align_items": null,
            "align_self": null,
            "border": null,
            "bottom": null,
            "display": null,
            "flex": null,
            "flex_flow": null,
            "grid_area": null,
            "grid_auto_columns": null,
            "grid_auto_flow": null,
            "grid_auto_rows": null,
            "grid_column": null,
            "grid_gap": null,
            "grid_row": null,
            "grid_template_areas": null,
            "grid_template_columns": null,
            "grid_template_rows": null,
            "height": null,
            "justify_content": null,
            "justify_items": null,
            "left": null,
            "margin": null,
            "max_height": null,
            "max_width": null,
            "min_height": null,
            "min_width": null,
            "object_fit": null,
            "object_position": null,
            "order": null,
            "overflow": null,
            "overflow_x": null,
            "overflow_y": null,
            "padding": null,
            "right": null,
            "top": null,
            "visibility": null,
            "width": null
          }
        },
        "3efd434f1654493dbbc4de77036b1b6f": {
          "model_module": "@jupyter-widgets/controls",
          "model_name": "DescriptionStyleModel",
          "model_module_version": "1.5.0",
          "state": {
            "_model_module": "@jupyter-widgets/controls",
            "_model_module_version": "1.5.0",
            "_model_name": "DescriptionStyleModel",
            "_view_count": null,
            "_view_module": "@jupyter-widgets/base",
            "_view_module_version": "1.2.0",
            "_view_name": "StyleView",
            "description_width": ""
          }
        },
        "2e472d886f8b4e32855c2d7420160596": {
          "model_module": "@jupyter-widgets/base",
          "model_name": "LayoutModel",
          "model_module_version": "1.2.0",
          "state": {
            "_model_module": "@jupyter-widgets/base",
            "_model_module_version": "1.2.0",
            "_model_name": "LayoutModel",
            "_view_count": null,
            "_view_module": "@jupyter-widgets/base",
            "_view_module_version": "1.2.0",
            "_view_name": "LayoutView",
            "align_content": null,
            "align_items": null,
            "align_self": null,
            "border": null,
            "bottom": null,
            "display": null,
            "flex": null,
            "flex_flow": null,
            "grid_area": null,
            "grid_auto_columns": null,
            "grid_auto_flow": null,
            "grid_auto_rows": null,
            "grid_column": null,
            "grid_gap": null,
            "grid_row": null,
            "grid_template_areas": null,
            "grid_template_columns": null,
            "grid_template_rows": null,
            "height": null,
            "justify_content": null,
            "justify_items": null,
            "left": null,
            "margin": null,
            "max_height": null,
            "max_width": null,
            "min_height": null,
            "min_width": null,
            "object_fit": null,
            "object_position": null,
            "order": null,
            "overflow": null,
            "overflow_x": null,
            "overflow_y": null,
            "padding": null,
            "right": null,
            "top": null,
            "visibility": null,
            "width": null
          }
        },
        "75a599186f4e4c3e8ba2f37e1fe47a48": {
          "model_module": "@jupyter-widgets/controls",
          "model_name": "ProgressStyleModel",
          "model_module_version": "1.5.0",
          "state": {
            "_model_module": "@jupyter-widgets/controls",
            "_model_module_version": "1.5.0",
            "_model_name": "ProgressStyleModel",
            "_view_count": null,
            "_view_module": "@jupyter-widgets/base",
            "_view_module_version": "1.2.0",
            "_view_name": "StyleView",
            "bar_color": null,
            "description_width": ""
          }
        },
        "30d0c0b551644d2493ccd9f5c83953f5": {
          "model_module": "@jupyter-widgets/base",
          "model_name": "LayoutModel",
          "model_module_version": "1.2.0",
          "state": {
            "_model_module": "@jupyter-widgets/base",
            "_model_module_version": "1.2.0",
            "_model_name": "LayoutModel",
            "_view_count": null,
            "_view_module": "@jupyter-widgets/base",
            "_view_module_version": "1.2.0",
            "_view_name": "LayoutView",
            "align_content": null,
            "align_items": null,
            "align_self": null,
            "border": null,
            "bottom": null,
            "display": null,
            "flex": null,
            "flex_flow": null,
            "grid_area": null,
            "grid_auto_columns": null,
            "grid_auto_flow": null,
            "grid_auto_rows": null,
            "grid_column": null,
            "grid_gap": null,
            "grid_row": null,
            "grid_template_areas": null,
            "grid_template_columns": null,
            "grid_template_rows": null,
            "height": null,
            "justify_content": null,
            "justify_items": null,
            "left": null,
            "margin": null,
            "max_height": null,
            "max_width": null,
            "min_height": null,
            "min_width": null,
            "object_fit": null,
            "object_position": null,
            "order": null,
            "overflow": null,
            "overflow_x": null,
            "overflow_y": null,
            "padding": null,
            "right": null,
            "top": null,
            "visibility": null,
            "width": null
          }
        },
        "12257387cf234c58abbe3c4104eb8c14": {
          "model_module": "@jupyter-widgets/controls",
          "model_name": "DescriptionStyleModel",
          "model_module_version": "1.5.0",
          "state": {
            "_model_module": "@jupyter-widgets/controls",
            "_model_module_version": "1.5.0",
            "_model_name": "DescriptionStyleModel",
            "_view_count": null,
            "_view_module": "@jupyter-widgets/base",
            "_view_module_version": "1.2.0",
            "_view_name": "StyleView",
            "description_width": ""
          }
        }
      }
    }
  },
  "cells": [
    {
      "cell_type": "markdown",
      "metadata": {
        "id": "view-in-github",
        "colab_type": "text"
      },
      "source": [
        "<a href=\"https://colab.research.google.com/github/kunal266/Algo_Practice/blob/main/time_series_analysis/prophet_eval.ipynb\" target=\"_parent\"><img src=\"https://colab.research.google.com/assets/colab-badge.svg\" alt=\"Open In Colab\"/></a>"
      ]
    },
    {
      "cell_type": "code",
      "execution_count": 1,
      "metadata": {
        "id": "8YeaJbINhKHj"
      },
      "outputs": [],
      "source": [
        "import pandas as pd\n",
        "from fbprophet import Prophet\n"
      ]
    },
    {
      "cell_type": "code",
      "source": [
        "df = pd.read_csv('/content/drive/MyDrive/UDEMY_TSA_FINAL/Data/Miles_Traveled.csv')"
      ],
      "metadata": {
        "id": "NRClLve6hv7H"
      },
      "execution_count": 2,
      "outputs": []
    },
    {
      "cell_type": "code",
      "source": [
        "df.info()"
      ],
      "metadata": {
        "colab": {
          "base_uri": "https://localhost:8080/"
        },
        "id": "xR16pE_giSTi",
        "outputId": "f45b9f29-e76c-413a-d64f-6c44faeb212a"
      },
      "execution_count": 3,
      "outputs": [
        {
          "output_type": "stream",
          "name": "stdout",
          "text": [
            "<class 'pandas.core.frame.DataFrame'>\n",
            "RangeIndex: 588 entries, 0 to 587\n",
            "Data columns (total 2 columns):\n",
            " #   Column            Non-Null Count  Dtype  \n",
            "---  ------            --------------  -----  \n",
            " 0   DATE              588 non-null    object \n",
            " 1   TRFVOLUSM227NFWA  588 non-null    float64\n",
            "dtypes: float64(1), object(1)\n",
            "memory usage: 9.3+ KB\n"
          ]
        }
      ]
    },
    {
      "cell_type": "code",
      "source": [
        "df.columns =['ds','y']\n",
        "df['ds'] = pd.to_datetime(df['ds'])"
      ],
      "metadata": {
        "id": "GIy5Ea2ZiTY0"
      },
      "execution_count": 4,
      "outputs": []
    },
    {
      "cell_type": "code",
      "source": [
        "df.head()"
      ],
      "metadata": {
        "colab": {
          "base_uri": "https://localhost:8080/",
          "height": 206
        },
        "id": "eyfYxbGqiZCu",
        "outputId": "9c29021e-d4d8-431a-97c5-4cf7b6bdca86"
      },
      "execution_count": 5,
      "outputs": [
        {
          "output_type": "execute_result",
          "data": {
            "text/plain": [
              "          ds        y\n",
              "0 1970-01-01  80173.0\n",
              "1 1970-02-01  77442.0\n",
              "2 1970-03-01  90223.0\n",
              "3 1970-04-01  89956.0\n",
              "4 1970-05-01  97972.0"
            ],
            "text/html": [
              "\n",
              "  <div id=\"df-73f2f223-40f0-4d70-b0da-2e4b86d03a57\">\n",
              "    <div class=\"colab-df-container\">\n",
              "      <div>\n",
              "<style scoped>\n",
              "    .dataframe tbody tr th:only-of-type {\n",
              "        vertical-align: middle;\n",
              "    }\n",
              "\n",
              "    .dataframe tbody tr th {\n",
              "        vertical-align: top;\n",
              "    }\n",
              "\n",
              "    .dataframe thead th {\n",
              "        text-align: right;\n",
              "    }\n",
              "</style>\n",
              "<table border=\"1\" class=\"dataframe\">\n",
              "  <thead>\n",
              "    <tr style=\"text-align: right;\">\n",
              "      <th></th>\n",
              "      <th>ds</th>\n",
              "      <th>y</th>\n",
              "    </tr>\n",
              "  </thead>\n",
              "  <tbody>\n",
              "    <tr>\n",
              "      <th>0</th>\n",
              "      <td>1970-01-01</td>\n",
              "      <td>80173.0</td>\n",
              "    </tr>\n",
              "    <tr>\n",
              "      <th>1</th>\n",
              "      <td>1970-02-01</td>\n",
              "      <td>77442.0</td>\n",
              "    </tr>\n",
              "    <tr>\n",
              "      <th>2</th>\n",
              "      <td>1970-03-01</td>\n",
              "      <td>90223.0</td>\n",
              "    </tr>\n",
              "    <tr>\n",
              "      <th>3</th>\n",
              "      <td>1970-04-01</td>\n",
              "      <td>89956.0</td>\n",
              "    </tr>\n",
              "    <tr>\n",
              "      <th>4</th>\n",
              "      <td>1970-05-01</td>\n",
              "      <td>97972.0</td>\n",
              "    </tr>\n",
              "  </tbody>\n",
              "</table>\n",
              "</div>\n",
              "      <button class=\"colab-df-convert\" onclick=\"convertToInteractive('df-73f2f223-40f0-4d70-b0da-2e4b86d03a57')\"\n",
              "              title=\"Convert this dataframe to an interactive table.\"\n",
              "              style=\"display:none;\">\n",
              "        \n",
              "  <svg xmlns=\"http://www.w3.org/2000/svg\" height=\"24px\"viewBox=\"0 0 24 24\"\n",
              "       width=\"24px\">\n",
              "    <path d=\"M0 0h24v24H0V0z\" fill=\"none\"/>\n",
              "    <path d=\"M18.56 5.44l.94 2.06.94-2.06 2.06-.94-2.06-.94-.94-2.06-.94 2.06-2.06.94zm-11 1L8.5 8.5l.94-2.06 2.06-.94-2.06-.94L8.5 2.5l-.94 2.06-2.06.94zm10 10l.94 2.06.94-2.06 2.06-.94-2.06-.94-.94-2.06-.94 2.06-2.06.94z\"/><path d=\"M17.41 7.96l-1.37-1.37c-.4-.4-.92-.59-1.43-.59-.52 0-1.04.2-1.43.59L10.3 9.45l-7.72 7.72c-.78.78-.78 2.05 0 2.83L4 21.41c.39.39.9.59 1.41.59.51 0 1.02-.2 1.41-.59l7.78-7.78 2.81-2.81c.8-.78.8-2.07 0-2.86zM5.41 20L4 18.59l7.72-7.72 1.47 1.35L5.41 20z\"/>\n",
              "  </svg>\n",
              "      </button>\n",
              "      \n",
              "  <style>\n",
              "    .colab-df-container {\n",
              "      display:flex;\n",
              "      flex-wrap:wrap;\n",
              "      gap: 12px;\n",
              "    }\n",
              "\n",
              "    .colab-df-convert {\n",
              "      background-color: #E8F0FE;\n",
              "      border: none;\n",
              "      border-radius: 50%;\n",
              "      cursor: pointer;\n",
              "      display: none;\n",
              "      fill: #1967D2;\n",
              "      height: 32px;\n",
              "      padding: 0 0 0 0;\n",
              "      width: 32px;\n",
              "    }\n",
              "\n",
              "    .colab-df-convert:hover {\n",
              "      background-color: #E2EBFA;\n",
              "      box-shadow: 0px 1px 2px rgba(60, 64, 67, 0.3), 0px 1px 3px 1px rgba(60, 64, 67, 0.15);\n",
              "      fill: #174EA6;\n",
              "    }\n",
              "\n",
              "    [theme=dark] .colab-df-convert {\n",
              "      background-color: #3B4455;\n",
              "      fill: #D2E3FC;\n",
              "    }\n",
              "\n",
              "    [theme=dark] .colab-df-convert:hover {\n",
              "      background-color: #434B5C;\n",
              "      box-shadow: 0px 1px 3px 1px rgba(0, 0, 0, 0.15);\n",
              "      filter: drop-shadow(0px 1px 2px rgba(0, 0, 0, 0.3));\n",
              "      fill: #FFFFFF;\n",
              "    }\n",
              "  </style>\n",
              "\n",
              "      <script>\n",
              "        const buttonEl =\n",
              "          document.querySelector('#df-73f2f223-40f0-4d70-b0da-2e4b86d03a57 button.colab-df-convert');\n",
              "        buttonEl.style.display =\n",
              "          google.colab.kernel.accessAllowed ? 'block' : 'none';\n",
              "\n",
              "        async function convertToInteractive(key) {\n",
              "          const element = document.querySelector('#df-73f2f223-40f0-4d70-b0da-2e4b86d03a57');\n",
              "          const dataTable =\n",
              "            await google.colab.kernel.invokeFunction('convertToInteractive',\n",
              "                                                     [key], {});\n",
              "          if (!dataTable) return;\n",
              "\n",
              "          const docLinkHtml = 'Like what you see? Visit the ' +\n",
              "            '<a target=\"_blank\" href=https://colab.research.google.com/notebooks/data_table.ipynb>data table notebook</a>'\n",
              "            + ' to learn more about interactive tables.';\n",
              "          element.innerHTML = '';\n",
              "          dataTable['output_type'] = 'display_data';\n",
              "          await google.colab.output.renderOutput(dataTable, element);\n",
              "          const docLink = document.createElement('div');\n",
              "          docLink.innerHTML = docLinkHtml;\n",
              "          element.appendChild(docLink);\n",
              "        }\n",
              "      </script>\n",
              "    </div>\n",
              "  </div>\n",
              "  "
            ]
          },
          "metadata": {},
          "execution_count": 5
        }
      ]
    },
    {
      "cell_type": "code",
      "source": [
        "df.plot(x='ds',y='y')"
      ],
      "metadata": {
        "colab": {
          "base_uri": "https://localhost:8080/",
          "height": 296
        },
        "id": "IF9aqzgfijTf",
        "outputId": "4c024f1f-1468-424e-a5c5-b599ab646739"
      },
      "execution_count": 6,
      "outputs": [
        {
          "output_type": "execute_result",
          "data": {
            "text/plain": [
              "<matplotlib.axes._subplots.AxesSubplot at 0x7f2c9d8d4d90>"
            ]
          },
          "metadata": {},
          "execution_count": 6
        },
        {
          "output_type": "display_data",
          "data": {
            "text/plain": [
              "<Figure size 432x288 with 1 Axes>"
            ],
            "image/png": "[encoded data removed]"
          },
          "metadata": {
            "needs_background": "light"
          }
        }
      ]
    },
    {
      "cell_type": "code",
      "source": [
        "len(df)"
      ],
      "metadata": {
        "colab": {
          "base_uri": "https://localhost:8080/"
        },
        "id": "kEwrN4hGirkO",
        "outputId": "e5d1ee64-eb11-4097-9b3e-a6e715d1d482"
      },
      "execution_count": 7,
      "outputs": [
        {
          "output_type": "execute_result",
          "data": {
            "text/plain": [
              "588"
            ]
          },
          "metadata": {},
          "execution_count": 7
        }
      ]
    },
    {
      "cell_type": "code",
      "source": [
        "train = df.iloc[:576]\n",
        "test = df.iloc[576:]"
      ],
      "metadata": {
        "id": "_d9MsqX8iyMc"
      },
      "execution_count": 8,
      "outputs": []
    },
    {
      "cell_type": "code",
      "source": [
        "m = Prophet()\n",
        "m.fit(train)\n",
        "future = m.make_future_dataframe(periods=12,freq='MS')"
      ],
      "metadata": {
        "colab": {
          "base_uri": "https://localhost:8080/"
        },
        "id": "QYeElUmmi3U8",
        "outputId": "25b774de-c322-479e-fd8d-d337610e1cc8"
      },
      "execution_count": 9,
      "outputs": [
        {
          "output_type": "stream",
          "name": "stderr",
          "text": [
            "INFO:fbprophet:Disabling weekly seasonality. Run prophet with weekly_seasonality=True to override this.\n",
            "INFO:fbprophet:Disabling daily seasonality. Run prophet with daily_seasonality=True to override this.\n"
          ]
        }
      ]
    },
    {
      "cell_type": "code",
      "source": [
        "forecast = m.predict(future)\n"
      ],
      "metadata": {
        "id": "qMKpiJzqjBWJ"
      },
      "execution_count": 10,
      "outputs": []
    },
    {
      "cell_type": "code",
      "source": [
        "forecast.tail(12)"
      ],
      "metadata": {
        "id": "eV9S6h2LjOYi",
        "colab": {
          "base_uri": "https://localhost:8080/",
          "height": 698
        },
        "outputId": "e569af20-f354-4156-9ea3-d71fe23c2a83"
      },
      "execution_count": 12,
      "outputs": [
        {
          "output_type": "execute_result",
          "data": {
            "text/plain": [
              "            ds          trend     yhat_lower     yhat_upper    trend_lower  \\\n",
              "576 2018-01-01  262481.916811  238150.610569  249323.987871  262481.916811   \n",
              "577 2018-02-01  262624.605744  229481.233506  240890.495589  262624.605744   \n",
              "578 2018-03-01  262753.486072  257261.144103  268205.982421  262753.486072   \n",
              "579 2018-04-01  262896.175005  257210.821547  268540.831915  262896.175005   \n",
              "580 2018-05-01  263034.261070  267042.307304  278087.078469  263034.261070   \n",
              "581 2018-06-01  263176.950004  266929.813741  278698.042993  263175.769240   \n",
              "582 2018-07-01  263315.036068  273574.793229  285580.107779  263297.795888   \n",
              "583 2018-08-01  263457.725002  274262.107429  285996.528423  263413.528709   \n",
              "584 2018-09-01  263600.413936  256145.214464  268031.915032  263533.142783   \n",
              "585 2018-10-01  263738.500000  263411.896935  274885.953965  263639.874738   \n",
              "586 2018-11-01  263881.188934  249563.538916  261548.083257  263750.639566   \n",
              "587 2018-12-01  264019.274999  251452.823272  262826.233442  263863.100182   \n",
              "\n",
              "       trend_upper  additive_terms  additive_terms_lower  \\\n",
              "576  262481.916811   -18591.376116         -18591.376116   \n",
              "577  262624.605744   -27106.419824         -27106.419824   \n",
              "578  262753.486072      -32.441456            -32.441456   \n",
              "579  262896.175005       30.368471             30.368471   \n",
              "580  263034.261070     9619.702150           9619.702150   \n",
              "581  263179.136353     9727.851467           9727.851467   \n",
              "582  263336.264346    16050.336015          16050.336015   \n",
              "583  263503.539378    16443.644514          16443.644514   \n",
              "584  263669.410359    -1674.285262          -1674.285262   \n",
              "585  263844.913503     5300.999421           5300.999421   \n",
              "586  264038.785577    -8214.645301          -8214.645301   \n",
              "587  264220.133395    -6925.081926          -6925.081926   \n",
              "\n",
              "     additive_terms_upper        yearly  yearly_lower  yearly_upper  \\\n",
              "576         -18591.376116 -18591.376116 -18591.376116 -18591.376116   \n",
              "577         -27106.419824 -27106.419824 -27106.419824 -27106.419824   \n",
              "578            -32.441456    -32.441456    -32.441456    -32.441456   \n",
              "579             30.368471     30.368471     30.368471     30.368471   \n",
              "580           9619.702150   9619.702150   9619.702150   9619.702150   \n",
              "581           9727.851467   9727.851467   9727.851467   9727.851467   \n",
              "582          16050.336015  16050.336015  16050.336015  16050.336015   \n",
              "583          16443.644514  16443.644514  16443.644514  16443.644514   \n",
              "584          -1674.285262  -1674.285262  -1674.285262  -1674.285262   \n",
              "585           5300.999421   5300.999421   5300.999421   5300.999421   \n",
              "586          -8214.645301  -8214.645301  -8214.645301  -8214.645301   \n",
              "587          -6925.081926  -6925.081926  -6925.081926  -6925.081926   \n",
              "\n",
              "     multiplicative_terms  multiplicative_terms_lower  \\\n",
              "576                   0.0                         0.0   \n",
              "577                   0.0                         0.0   \n",
              "578                   0.0                         0.0   \n",
              "579                   0.0                         0.0   \n",
              "580                   0.0                         0.0   \n",
              "581                   0.0                         0.0   \n",
              "582                   0.0                         0.0   \n",
              "583                   0.0                         0.0   \n",
              "584                   0.0                         0.0   \n",
              "585                   0.0                         0.0   \n",
              "586                   0.0                         0.0   \n",
              "587                   0.0                         0.0   \n",
              "\n",
              "     multiplicative_terms_upper           yhat  \n",
              "576                         0.0  243890.540695  \n",
              "577                         0.0  235518.185920  \n",
              "578                         0.0  262721.044615  \n",
              "579                         0.0  262926.543476  \n",
              "580                         0.0  272653.963220  \n",
              "581                         0.0  272904.801470  \n",
              "582                         0.0  279365.372083  \n",
              "583                         0.0  279901.369516  \n",
              "584                         0.0  261926.128674  \n",
              "585                         0.0  269039.499421  \n",
              "586                         0.0  255666.543633  \n",
              "587                         0.0  257094.193073  "
            ],
            "text/html": [
              "\n",
              "  <div id=\"df-57198d67-168b-4602-9245-76bc994f717d\">\n",
              "    <div class=\"colab-df-container\">\n",
              "      <div>\n",
              "<style scoped>\n",
              "    .dataframe tbody tr th:only-of-type {\n",
              "        vertical-align: middle;\n",
              "    }\n",
              "\n",
              "    .dataframe tbody tr th {\n",
              "        vertical-align: top;\n",
              "    }\n",
              "\n",
              "    .dataframe thead th {\n",
              "        text-align: right;\n",
              "    }\n",
              "</style>\n",
              "<table border=\"1\" class=\"dataframe\">\n",
              "  <thead>\n",
              "    <tr style=\"text-align: right;\">\n",
              "      <th></th>\n",
              "      <th>ds</th>\n",
              "      <th>trend</th>\n",
              "      <th>yhat_lower</th>\n",
              "      <th>yhat_upper</th>\n",
              "      <th>trend_lower</th>\n",
              "      <th>trend_upper</th>\n",
              "      <th>additive_terms</th>\n",
              "      <th>additive_terms_lower</th>\n",
              "      <th>additive_terms_upper</th>\n",
              "      <th>yearly</th>\n",
              "      <th>yearly_lower</th>\n",
              "      <th>yearly_upper</th>\n",
              "      <th>multiplicative_terms</th>\n",
              "      <th>multiplicative_terms_lower</th>\n",
              "      <th>multiplicative_terms_upper</th>\n",
              "      <th>yhat</th>\n",
              "    </tr>\n",
              "  </thead>\n",
              "  <tbody>\n",
              "    <tr>\n",
              "      <th>576</th>\n",
              "      <td>2018-01-01</td>\n",
              "      <td>262481.916811</td>\n",
              "      <td>238150.610569</td>\n",
              "      <td>249323.987871</td>\n",
              "      <td>262481.916811</td>\n",
              "      <td>262481.916811</td>\n",
              "      <td>-18591.376116</td>\n",
              "      <td>-18591.376116</td>\n",
              "      <td>-18591.376116</td>\n",
              "      <td>-18591.376116</td>\n",
              "      <td>-18591.376116</td>\n",
              "      <td>-18591.376116</td>\n",
              "      <td>0.0</td>\n",
              "      <td>0.0</td>\n",
              "      <td>0.0</td>\n",
              "      <td>243890.540695</td>\n",
              "    </tr>\n",
              "    <tr>\n",
              "      <th>577</th>\n",
              "      <td>2018-02-01</td>\n",
              "      <td>262624.605744</td>\n",
              "      <td>229481.233506</td>\n",
              "      <td>240890.495589</td>\n",
              "      <td>262624.605744</td>\n",
              "      <td>262624.605744</td>\n",
              "      <td>-27106.419824</td>\n",
              "      <td>-27106.419824</td>\n",
              "      <td>-27106.419824</td>\n",
              "      <td>-27106.419824</td>\n",
              "      <td>-27106.419824</td>\n",
              "      <td>-27106.419824</td>\n",
              "      <td>0.0</td>\n",
              "      <td>0.0</td>\n",
              "      <td>0.0</td>\n",
              "      <td>235518.185920</td>\n",
              "    </tr>\n",
              "    <tr>\n",
              "      <th>578</th>\n",
              "      <td>2018-03-01</td>\n",
              "      <td>262753.486072</td>\n",
              "      <td>257261.144103</td>\n",
              "      <td>268205.982421</td>\n",
              "      <td>262753.486072</td>\n",
              "      <td>262753.486072</td>\n",
              "      <td>-32.441456</td>\n",
              "      <td>-32.441456</td>\n",
              "      <td>-32.441456</td>\n",
              "      <td>-32.441456</td>\n",
              "      <td>-32.441456</td>\n",
              "      <td>-32.441456</td>\n",
              "      <td>0.0</td>\n",
              "      <td>0.0</td>\n",
              "      <td>0.0</td>\n",
              "      <td>262721.044615</td>\n",
              "    </tr>\n",
              "    <tr>\n",
              "      <th>579</th>\n",
              "      <td>2018-04-01</td>\n",
              "      <td>262896.175005</td>\n",
              "      <td>257210.821547</td>\n",
              "      <td>268540.831915</td>\n",
              "      <td>262896.175005</td>\n",
              "      <td>262896.175005</td>\n",
              "      <td>30.368471</td>\n",
              "      <td>30.368471</td>\n",
              "      <td>30.368471</td>\n",
              "      <td>30.368471</td>\n",
              "      <td>30.368471</td>\n",
              "      <td>30.368471</td>\n",
              "      <td>0.0</td>\n",
              "      <td>0.0</td>\n",
              "      <td>0.0</td>\n",
              "      <td>262926.543476</td>\n",
              "    </tr>\n",
              "    <tr>\n",
              "      <th>580</th>\n",
              "      <td>2018-05-01</td>\n",
              "      <td>263034.261070</td>\n",
              "      <td>267042.307304</td>\n",
              "      <td>278087.078469</td>\n",
              "      <td>263034.261070</td>\n",
              "      <td>263034.261070</td>\n",
              "      <td>9619.702150</td>\n",
              "      <td>9619.702150</td>\n",
              "      <td>9619.702150</td>\n",
              "      <td>9619.702150</td>\n",
              "      <td>9619.702150</td>\n",
              "      <td>9619.702150</td>\n",
              "      <td>0.0</td>\n",
              "      <td>0.0</td>\n",
              "      <td>0.0</td>\n",
              "      <td>272653.963220</td>\n",
              "    </tr>\n",
              "    <tr>\n",
              "      <th>581</th>\n",
              "      <td>2018-06-01</td>\n",
              "      <td>263176.950004</td>\n",
              "      <td>266929.813741</td>\n",
              "      <td>278698.042993</td>\n",
              "      <td>263175.769240</td>\n",
              "      <td>263179.136353</td>\n",
              "      <td>9727.851467</td>\n",
              "      <td>9727.851467</td>\n",
              "      <td>9727.851467</td>\n",
              "      <td>9727.851467</td>\n",
              "      <td>9727.851467</td>\n",
              "      <td>9727.851467</td>\n",
              "      <td>0.0</td>\n",
              "      <td>0.0</td>\n",
              "      <td>0.0</td>\n",
              "      <td>272904.801470</td>\n",
              "    </tr>\n",
              "    <tr>\n",
              "      <th>582</th>\n",
              "      <td>2018-07-01</td>\n",
              "      <td>263315.036068</td>\n",
              "      <td>273574.793229</td>\n",
              "      <td>285580.107779</td>\n",
              "      <td>263297.795888</td>\n",
              "      <td>263336.264346</td>\n",
              "      <td>16050.336015</td>\n",
              "      <td>16050.336015</td>\n",
              "      <td>16050.336015</td>\n",
              "      <td>16050.336015</td>\n",
              "      <td>16050.336015</td>\n",
              "      <td>16050.336015</td>\n",
              "      <td>0.0</td>\n",
              "      <td>0.0</td>\n",
              "      <td>0.0</td>\n",
              "      <td>279365.372083</td>\n",
              "    </tr>\n",
              "    <tr>\n",
              "      <th>583</th>\n",
              "      <td>2018-08-01</td>\n",
              "      <td>263457.725002</td>\n",
              "      <td>274262.107429</td>\n",
              "      <td>285996.528423</td>\n",
              "      <td>263413.528709</td>\n",
              "      <td>263503.539378</td>\n",
              "      <td>16443.644514</td>\n",
              "      <td>16443.644514</td>\n",
              "      <td>16443.644514</td>\n",
              "      <td>16443.644514</td>\n",
              "      <td>16443.644514</td>\n",
              "      <td>16443.644514</td>\n",
              "      <td>0.0</td>\n",
              "      <td>0.0</td>\n",
              "      <td>0.0</td>\n",
              "      <td>279901.369516</td>\n",
              "    </tr>\n",
              "    <tr>\n",
              "      <th>584</th>\n",
              "      <td>2018-09-01</td>\n",
              "      <td>263600.413936</td>\n",
              "      <td>256145.214464</td>\n",
              "      <td>268031.915032</td>\n",
              "      <td>263533.142783</td>\n",
              "      <td>263669.410359</td>\n",
              "      <td>-1674.285262</td>\n",
              "      <td>-1674.285262</td>\n",
              "      <td>-1674.285262</td>\n",
              "      <td>-1674.285262</td>\n",
              "      <td>-1674.285262</td>\n",
              "      <td>-1674.285262</td>\n",
              "      <td>0.0</td>\n",
              "      <td>0.0</td>\n",
              "      <td>0.0</td>\n",
              "      <td>261926.128674</td>\n",
              "    </tr>\n",
              "    <tr>\n",
              "      <th>585</th>\n",
              "      <td>2018-10-01</td>\n",
              "      <td>263738.500000</td>\n",
              "      <td>263411.896935</td>\n",
              "      <td>274885.953965</td>\n",
              "      <td>263639.874738</td>\n",
              "      <td>263844.913503</td>\n",
              "      <td>5300.999421</td>\n",
              "      <td>5300.999421</td>\n",
              "      <td>5300.999421</td>\n",
              "      <td>5300.999421</td>\n",
              "      <td>5300.999421</td>\n",
              "      <td>5300.999421</td>\n",
              "      <td>0.0</td>\n",
              "      <td>0.0</td>\n",
              "      <td>0.0</td>\n",
              "      <td>269039.499421</td>\n",
              "    </tr>\n",
              "    <tr>\n",
              "      <th>586</th>\n",
              "      <td>2018-11-01</td>\n",
              "      <td>263881.188934</td>\n",
              "      <td>249563.538916</td>\n",
              "      <td>261548.083257</td>\n",
              "      <td>263750.639566</td>\n",
              "      <td>264038.785577</td>\n",
              "      <td>-8214.645301</td>\n",
              "      <td>-8214.645301</td>\n",
              "      <td>-8214.645301</td>\n",
              "      <td>-8214.645301</td>\n",
              "      <td>-8214.645301</td>\n",
              "      <td>-8214.645301</td>\n",
              "      <td>0.0</td>\n",
              "      <td>0.0</td>\n",
              "      <td>0.0</td>\n",
              "      <td>255666.543633</td>\n",
              "    </tr>\n",
              "    <tr>\n",
              "      <th>587</th>\n",
              "      <td>2018-12-01</td>\n",
              "      <td>264019.274999</td>\n",
              "      <td>251452.823272</td>\n",
              "      <td>262826.233442</td>\n",
              "      <td>263863.100182</td>\n",
              "      <td>264220.133395</td>\n",
              "      <td>-6925.081926</td>\n",
              "      <td>-6925.081926</td>\n",
              "      <td>-6925.081926</td>\n",
              "      <td>-6925.081926</td>\n",
              "      <td>-6925.081926</td>\n",
              "      <td>-6925.081926</td>\n",
              "      <td>0.0</td>\n",
              "      <td>0.0</td>\n",
              "      <td>0.0</td>\n",
              "      <td>257094.193073</td>\n",
              "    </tr>\n",
              "  </tbody>\n",
              "</table>\n",
              "</div>\n",
              "      <button class=\"colab-df-convert\" onclick=\"convertToInteractive('df-57198d67-168b-4602-9245-76bc994f717d')\"\n",
              "              title=\"Convert this dataframe to an interactive table.\"\n",
              "              style=\"display:none;\">\n",
              "        \n",
              "  <svg xmlns=\"http://www.w3.org/2000/svg\" height=\"24px\"viewBox=\"0 0 24 24\"\n",
              "       width=\"24px\">\n",
              "    <path d=\"M0 0h24v24H0V0z\" fill=\"none\"/>\n",
              "    <path d=\"M18.56 5.44l.94 2.06.94-2.06 2.06-.94-2.06-.94-.94-2.06-.94 2.06-2.06.94zm-11 1L8.5 8.5l.94-2.06 2.06-.94-2.06-.94L8.5 2.5l-.94 2.06-2.06.94zm10 10l.94 2.06.94-2.06 2.06-.94-2.06-.94-.94-2.06-.94 2.06-2.06.94z\"/><path d=\"M17.41 7.96l-1.37-1.37c-.4-.4-.92-.59-1.43-.59-.52 0-1.04.2-1.43.59L10.3 9.45l-7.72 7.72c-.78.78-.78 2.05 0 2.83L4 21.41c.39.39.9.59 1.41.59.51 0 1.02-.2 1.41-.59l7.78-7.78 2.81-2.81c.8-.78.8-2.07 0-2.86zM5.41 20L4 18.59l7.72-7.72 1.47 1.35L5.41 20z\"/>\n",
              "  </svg>\n",
              "      </button>\n",
              "      \n",
              "  <style>\n",
              "    .colab-df-container {\n",
              "      display:flex;\n",
              "      flex-wrap:wrap;\n",
              "      gap: 12px;\n",
              "    }\n",
              "\n",
              "    .colab-df-convert {\n",
              "      background-color: #E8F0FE;\n",
              "      border: none;\n",
              "      border-radius: 50%;\n",
              "      cursor: pointer;\n",
              "      display: none;\n",
              "      fill: #1967D2;\n",
              "      height: 32px;\n",
              "      padding: 0 0 0 0;\n",
              "      width: 32px;\n",
              "    }\n",
              "\n",
              "    .colab-df-convert:hover {\n",
              "      background-color: #E2EBFA;\n",
              "      box-shadow: 0px 1px 2px rgba(60, 64, 67, 0.3), 0px 1px 3px 1px rgba(60, 64, 67, 0.15);\n",
              "      fill: #174EA6;\n",
              "    }\n",
              "\n",
              "    [theme=dark] .colab-df-convert {\n",
              "      background-color: #3B4455;\n",
              "      fill: #D2E3FC;\n",
              "    }\n",
              "\n",
              "    [theme=dark] .colab-df-convert:hover {\n",
              "      background-color: #434B5C;\n",
              "      box-shadow: 0px 1px 3px 1px rgba(0, 0, 0, 0.15);\n",
              "      filter: drop-shadow(0px 1px 2px rgba(0, 0, 0, 0.3));\n",
              "      fill: #FFFFFF;\n",
              "    }\n",
              "  </style>\n",
              "\n",
              "      <script>\n",
              "        const buttonEl =\n",
              "          document.querySelector('#df-57198d67-168b-4602-9245-76bc994f717d button.colab-df-convert');\n",
              "        buttonEl.style.display =\n",
              "          google.colab.kernel.accessAllowed ? 'block' : 'none';\n",
              "\n",
              "        async function convertToInteractive(key) {\n",
              "          const element = document.querySelector('#df-57198d67-168b-4602-9245-76bc994f717d');\n",
              "          const dataTable =\n",
              "            await google.colab.kernel.invokeFunction('convertToInteractive',\n",
              "                                                     [key], {});\n",
              "          if (!dataTable) return;\n",
              "\n",
              "          const docLinkHtml = 'Like what you see? Visit the ' +\n",
              "            '<a target=\"_blank\" href=https://colab.research.google.com/notebooks/data_table.ipynb>data table notebook</a>'\n",
              "            + ' to learn more about interactive tables.';\n",
              "          element.innerHTML = '';\n",
              "          dataTable['output_type'] = 'display_data';\n",
              "          await google.colab.output.renderOutput(dataTable, element);\n",
              "          const docLink = document.createElement('div');\n",
              "          docLink.innerHTML = docLinkHtml;\n",
              "          element.appendChild(docLink);\n",
              "        }\n",
              "      </script>\n",
              "    </div>\n",
              "  </div>\n",
              "  "
            ]
          },
          "metadata": {},
          "execution_count": 12
        }
      ]
    },
    {
      "cell_type": "code",
      "source": [
        "ax = forecast.plot(x='ds',y='yhat',label='Predictions',legend=True,figsize=(12,8))\n",
        "test.plot(x='ds',y='y',label='True Test Data',legend=True,ax=ax,xlim=('2018-01-01','2019-01-01'))"
      ],
      "metadata": {
        "colab": {
          "base_uri": "https://localhost:8080/",
          "height": 525
        },
        "id": "uy3_n0iGSCPr",
        "outputId": "4f85ef18-10ed-44d8-cc83-b66ed43aab46"
      },
      "execution_count": 14,
      "outputs": [
        {
          "output_type": "execute_result",
          "data": {
            "text/plain": [
              "<matplotlib.axes._subplots.AxesSubplot at 0x7f2c7d603b50>"
            ]
          },
          "metadata": {},
          "execution_count": 14
        },
        {
          "output_type": "display_data",
          "data": {
            "text/plain": [
              "<Figure size 864x576 with 1 Axes>"
            ],
            "image/png": "[encoded data removed]"
          },
          "metadata": {
            "needs_background": "light"
          }
        }
      ]
    },
    {
      "cell_type": "code",
      "source": [
        "from statsmodels.tools.eval_measures import rmse"
      ],
      "metadata": {
        "id": "u2sVuM7hSPuu"
      },
      "execution_count": 16,
      "outputs": []
    },
    {
      "cell_type": "code",
      "source": [
        "predictions = forecast.iloc[-12:]['yhat']\n",
        "predictions"
      ],
      "metadata": {
        "colab": {
          "base_uri": "https://localhost:8080/"
        },
        "id": "g5_eOTBkTE_x",
        "outputId": "008f9069-d11f-46a3-ffe4-8326ca4a6d74"
      },
      "execution_count": 17,
      "outputs": [
        {
          "output_type": "execute_result",
          "data": {
            "text/plain": [
              "576    243890.540695\n",
              "577    235518.185920\n",
              "578    262721.044615\n",
              "579    262926.543476\n",
              "580    272653.963220\n",
              "581    272904.801470\n",
              "582    279365.372083\n",
              "583    279901.369516\n",
              "584    261926.128674\n",
              "585    269039.499421\n",
              "586    255666.543633\n",
              "587    257094.193073\n",
              "Name: yhat, dtype: float64"
            ]
          },
          "metadata": {},
          "execution_count": 17
        }
      ]
    },
    {
      "cell_type": "code",
      "source": [
        "rmse(predictions,test['y'])"
      ],
      "metadata": {
        "colab": {
          "base_uri": "https://localhost:8080/"
        },
        "id": "4Ihsrh6FTOcV",
        "outputId": "26e56e49-78ff-440a-8c3b-d37035c1073d"
      },
      "execution_count": 18,
      "outputs": [
        {
          "output_type": "execute_result",
          "data": {
            "text/plain": [
              "8588.50451989775"
            ]
          },
          "metadata": {},
          "execution_count": 18
        }
      ]
    },
    {
      "cell_type": "code",
      "source": [
        "test.mean()"
      ],
      "metadata": {
        "colab": {
          "base_uri": "https://localhost:8080/"
        },
        "id": "45dhG8V-TVtT",
        "outputId": "31022f7f-a0a8-48d7-8d94-e00b3d573fb6"
      },
      "execution_count": 19,
      "outputs": [
        {
          "output_type": "stream",
          "name": "stderr",
          "text": [
            "/usr/local/lib/python3.7/dist-packages/ipykernel_launcher.py:1: FutureWarning: DataFrame.mean and DataFrame.median with numeric_only=None will include datetime64 and datetime64tz columns in a future version.\n",
            "  \"\"\"Entry point for launching an IPython kernel.\n"
          ]
        },
        {
          "output_type": "execute_result",
          "data": {
            "text/plain": [
              "y    268739.666667\n",
              "dtype: float64"
            ]
          },
          "metadata": {},
          "execution_count": 19
        }
      ]
    },
    {
      "cell_type": "code",
      "source": [
        "from fbprophet.diagnostics import cross_validation,performance_metrics\n",
        "from fbprophet.plot import plot_cross_validation_metric"
      ],
      "metadata": {
        "id": "GmpgGrBvTYsP"
      },
      "execution_count": 21,
      "outputs": []
    },
    {
      "cell_type": "code",
      "source": [
        "#INITIAL\n",
        "initial = 5*365\n",
        "initial = str(initial) +' days'"
      ],
      "metadata": {
        "id": "-kEt0uPRTupQ"
      },
      "execution_count": 22,
      "outputs": []
    },
    {
      "cell_type": "code",
      "source": [
        "initial"
      ],
      "metadata": {
        "colab": {
          "base_uri": "https://localhost:8080/",
          "height": 35
        },
        "id": "863NlL_2UQcB",
        "outputId": "3f923e91-bae0-402d-833f-5c827569d774"
      },
      "execution_count": 23,
      "outputs": [
        {
          "output_type": "execute_result",
          "data": {
            "text/plain": [
              "'1825 days'"
            ],
            "application/vnd.google.colaboratory.intrinsic+json": {
              "type": "string"
            }
          },
          "metadata": {},
          "execution_count": 23
        }
      ]
    },
    {
      "cell_type": "code",
      "source": [
        "# PERIOD\n",
        "period= 5*365\n",
        "period = str(period) + ' days'\n"
      ],
      "metadata": {
        "id": "WugV5p2uURsx"
      },
      "execution_count": 24,
      "outputs": []
    },
    {
      "cell_type": "code",
      "source": [
        "horizon = 365\n",
        "horizon = str(horizon) + ' days'"
      ],
      "metadata": {
        "id": "lJkT-tFBUeZ8"
      },
      "execution_count": 25,
      "outputs": []
    },
    {
      "cell_type": "code",
      "source": [
        "df_cv  = cross_validation(m,initial=initial,period=period,horizon=horizon)"
      ],
      "metadata": {
        "colab": {
          "base_uri": "https://localhost:8080/",
          "height": 66,
          "referenced_widgets": [
            "404280d3e3be4b52a587e3f76268a788",
            "ab84aac0cb164d88897bb1e7e5344a88",
            "2c5e25113cc74bd9a572ce5ca6159c9a",
            "03de4cb7ece24c35bd309a52bca93223",
            "520918d50aed48ad9c92bb4db78d2f36",
            "3210e2c2a8b644358424d4d72c44817c",
            "3efd434f1654493dbbc4de77036b1b6f",
            "2e472d886f8b4e32855c2d7420160596",
            "75a599186f4e4c3e8ba2f37e1fe47a48",
            "30d0c0b551644d2493ccd9f5c83953f5",
            "12257387cf234c58abbe3c4104eb8c14"
          ]
        },
        "id": "-3t6gh1_UjGy",
        "outputId": "ac4ea866-abd2-41ae-e4b4-3f4a04946414"
      },
      "execution_count": 26,
      "outputs": [
        {
          "output_type": "stream",
          "name": "stderr",
          "text": [
            "INFO:fbprophet:Making 9 forecasts with cutoffs between 1976-12-11 00:00:00 and 2016-12-01 00:00:00\n"
          ]
        },
        {
          "output_type": "display_data",
          "data": {
            "text/plain": [
              "  0%|          | 0/9 [00:00<?, ?it/s]"
            ],
            "application/vnd.jupyter.widget-view+json": {
              "version_major": 2,
              "version_minor": 0,
              "model_id": "404280d3e3be4b52a587e3f76268a788"
            }
          },
          "metadata": {}
        }
      ]
    },
    {
      "cell_type": "code",
      "source": [
        "df_cv.head()"
      ],
      "metadata": {
        "colab": {
          "base_uri": "https://localhost:8080/",
          "height": 206
        },
        "id": "unUap8k4Usml",
        "outputId": "bad6d077-4644-425c-c2d2-cb37d5c567d9"
      },
      "execution_count": 27,
      "outputs": [
        {
          "output_type": "execute_result",
          "data": {
            "text/plain": [
              "          ds           yhat     yhat_lower     yhat_upper         y     cutoff\n",
              "0 1977-01-01  108479.087478  107052.332379  109956.941648  102445.0 1976-12-11\n",
              "1 1977-02-01  102996.111557  101582.249078  104561.655797  102416.0 1976-12-11\n",
              "2 1977-03-01  118973.318267  117540.653203  120471.306001  119960.0 1976-12-11\n",
              "3 1977-04-01  120612.923861  119187.654956  122158.956127  121513.0 1976-12-11\n",
              "4 1977-05-01  127883.031986  126440.629187  129332.136114  128884.0 1976-12-11"
            ],
            "text/html": [
              "\n",
              "  <div id=\"df-a1c152aa-b9e6-4d93-9728-265ca2a85f4e\">\n",
              "    <div class=\"colab-df-container\">\n",
              "      <div>\n",
              "<style scoped>\n",
              "    .dataframe tbody tr th:only-of-type {\n",
              "        vertical-align: middle;\n",
              "    }\n",
              "\n",
              "    .dataframe tbody tr th {\n",
              "        vertical-align: top;\n",
              "    }\n",
              "\n",
              "    .dataframe thead th {\n",
              "        text-align: right;\n",
              "    }\n",
              "</style>\n",
              "<table border=\"1\" class=\"dataframe\">\n",
              "  <thead>\n",
              "    <tr style=\"text-align: right;\">\n",
              "      <th></th>\n",
              "      <th>ds</th>\n",
              "      <th>yhat</th>\n",
              "      <th>yhat_lower</th>\n",
              "      <th>yhat_upper</th>\n",
              "      <th>y</th>\n",
              "      <th>cutoff</th>\n",
              "    </tr>\n",
              "  </thead>\n",
              "  <tbody>\n",
              "    <tr>\n",
              "      <th>0</th>\n",
              "      <td>1977-01-01</td>\n",
              "      <td>108479.087478</td>\n",
              "      <td>107052.332379</td>\n",
              "      <td>109956.941648</td>\n",
              "      <td>102445.0</td>\n",
              "      <td>1976-12-11</td>\n",
              "    </tr>\n",
              "    <tr>\n",
              "      <th>1</th>\n",
              "      <td>1977-02-01</td>\n",
              "      <td>102996.111557</td>\n",
              "      <td>101582.249078</td>\n",
              "      <td>104561.655797</td>\n",
              "      <td>102416.0</td>\n",
              "      <td>1976-12-11</td>\n",
              "    </tr>\n",
              "    <tr>\n",
              "      <th>2</th>\n",
              "      <td>1977-03-01</td>\n",
              "      <td>118973.318267</td>\n",
              "      <td>117540.653203</td>\n",
              "      <td>120471.306001</td>\n",
              "      <td>119960.0</td>\n",
              "      <td>1976-12-11</td>\n",
              "    </tr>\n",
              "    <tr>\n",
              "      <th>3</th>\n",
              "      <td>1977-04-01</td>\n",
              "      <td>120612.923861</td>\n",
              "      <td>119187.654956</td>\n",
              "      <td>122158.956127</td>\n",
              "      <td>121513.0</td>\n",
              "      <td>1976-12-11</td>\n",
              "    </tr>\n",
              "    <tr>\n",
              "      <th>4</th>\n",
              "      <td>1977-05-01</td>\n",
              "      <td>127883.031986</td>\n",
              "      <td>126440.629187</td>\n",
              "      <td>129332.136114</td>\n",
              "      <td>128884.0</td>\n",
              "      <td>1976-12-11</td>\n",
              "    </tr>\n",
              "  </tbody>\n",
              "</table>\n",
              "</div>\n",
              "      <button class=\"colab-df-convert\" onclick=\"convertToInteractive('df-a1c152aa-b9e6-4d93-9728-265ca2a85f4e')\"\n",
              "              title=\"Convert this dataframe to an interactive table.\"\n",
              "              style=\"display:none;\">\n",
              "        \n",
              "  <svg xmlns=\"http://www.w3.org/2000/svg\" height=\"24px\"viewBox=\"0 0 24 24\"\n",
              "       width=\"24px\">\n",
              "    <path d=\"M0 0h24v24H0V0z\" fill=\"none\"/>\n",
              "    <path d=\"M18.56 5.44l.94 2.06.94-2.06 2.06-.94-2.06-.94-.94-2.06-.94 2.06-2.06.94zm-11 1L8.5 8.5l.94-2.06 2.06-.94-2.06-.94L8.5 2.5l-.94 2.06-2.06.94zm10 10l.94 2.06.94-2.06 2.06-.94-2.06-.94-.94-2.06-.94 2.06-2.06.94z\"/><path d=\"M17.41 7.96l-1.37-1.37c-.4-.4-.92-.59-1.43-.59-.52 0-1.04.2-1.43.59L10.3 9.45l-7.72 7.72c-.78.78-.78 2.05 0 2.83L4 21.41c.39.39.9.59 1.41.59.51 0 1.02-.2 1.41-.59l7.78-7.78 2.81-2.81c.8-.78.8-2.07 0-2.86zM5.41 20L4 18.59l7.72-7.72 1.47 1.35L5.41 20z\"/>\n",
              "  </svg>\n",
              "      </button>\n",
              "      \n",
              "  <style>\n",
              "    .colab-df-container {\n",
              "      display:flex;\n",
              "      flex-wrap:wrap;\n",
              "      gap: 12px;\n",
              "    }\n",
              "\n",
              "    .colab-df-convert {\n",
              "      background-color: #E8F0FE;\n",
              "      border: none;\n",
              "      border-radius: 50%;\n",
              "      cursor: pointer;\n",
              "      display: none;\n",
              "      fill: #1967D2;\n",
              "      height: 32px;\n",
              "      padding: 0 0 0 0;\n",
              "      width: 32px;\n",
              "    }\n",
              "\n",
              "    .colab-df-convert:hover {\n",
              "      background-color: #E2EBFA;\n",
              "      box-shadow: 0px 1px 2px rgba(60, 64, 67, 0.3), 0px 1px 3px 1px rgba(60, 64, 67, 0.15);\n",
              "      fill: #174EA6;\n",
              "    }\n",
              "\n",
              "    [theme=dark] .colab-df-convert {\n",
              "      background-color: #3B4455;\n",
              "      fill: #D2E3FC;\n",
              "    }\n",
              "\n",
              "    [theme=dark] .colab-df-convert:hover {\n",
              "      background-color: #434B5C;\n",
              "      box-shadow: 0px 1px 3px 1px rgba(0, 0, 0, 0.15);\n",
              "      filter: drop-shadow(0px 1px 2px rgba(0, 0, 0, 0.3));\n",
              "      fill: #FFFFFF;\n",
              "    }\n",
              "  </style>\n",
              "\n",
              "      <script>\n",
              "        const buttonEl =\n",
              "          document.querySelector('#df-a1c152aa-b9e6-4d93-9728-265ca2a85f4e button.colab-df-convert');\n",
              "        buttonEl.style.display =\n",
              "          google.colab.kernel.accessAllowed ? 'block' : 'none';\n",
              "\n",
              "        async function convertToInteractive(key) {\n",
              "          const element = document.querySelector('#df-a1c152aa-b9e6-4d93-9728-265ca2a85f4e');\n",
              "          const dataTable =\n",
              "            await google.colab.kernel.invokeFunction('convertToInteractive',\n",
              "                                                     [key], {});\n",
              "          if (!dataTable) return;\n",
              "\n",
              "          const docLinkHtml = 'Like what you see? Visit the ' +\n",
              "            '<a target=\"_blank\" href=https://colab.research.google.com/notebooks/data_table.ipynb>data table notebook</a>'\n",
              "            + ' to learn more about interactive tables.';\n",
              "          element.innerHTML = '';\n",
              "          dataTable['output_type'] = 'display_data';\n",
              "          await google.colab.output.renderOutput(dataTable, element);\n",
              "          const docLink = document.createElement('div');\n",
              "          docLink.innerHTML = docLinkHtml;\n",
              "          element.appendChild(docLink);\n",
              "        }\n",
              "      </script>\n",
              "    </div>\n",
              "  </div>\n",
              "  "
            ]
          },
          "metadata": {},
          "execution_count": 27
        }
      ]
    },
    {
      "cell_type": "code",
      "source": [
        "len(df_cv)"
      ],
      "metadata": {
        "colab": {
          "base_uri": "https://localhost:8080/"
        },
        "id": "Gv_55Q-BU0IK",
        "outputId": "37d63638-aabf-4ae8-f689-fe780d68a731"
      },
      "execution_count": 28,
      "outputs": [
        {
          "output_type": "execute_result",
          "data": {
            "text/plain": [
              "108"
            ]
          },
          "metadata": {},
          "execution_count": 28
        }
      ]
    },
    {
      "cell_type": "code",
      "source": [
        "performance_metrics(df_cv)"
      ],
      "metadata": {
        "colab": {
          "base_uri": "https://localhost:8080/",
          "height": 424
        },
        "id": "PLc5KnJqU_Jc",
        "outputId": "931f6eb5-83a7-4f75-e2f4-1e8df7b5d142"
      },
      "execution_count": 29,
      "outputs": [
        {
          "output_type": "execute_result",
          "data": {
            "text/plain": [
              "    horizon           mse         rmse          mae      mape     mdape  \\\n",
              "0   52 days  2.430030e+07  4929.533140  4534.578066  0.027790  0.023419   \n",
              "1   53 days  2.180221e+07  4669.283718  4269.242480  0.025045  0.023419   \n",
              "2   54 days  1.835927e+07  4284.771500  3749.319270  0.020183  0.022331   \n",
              "3   55 days  2.318231e+07  4814.801050  4262.593972  0.023194  0.023419   \n",
              "4   57 days  2.101189e+07  4583.872792  4000.766561  0.021482  0.022331   \n",
              "..      ...           ...          ...          ...       ...       ...   \n",
              "94 360 days  1.833685e+07  4282.155252  3750.317263  0.019550  0.019595   \n",
              "95 361 days  1.744517e+07  4176.741529  3472.704963  0.018164  0.018940   \n",
              "96 362 days  3.175299e+07  5634.978870  4397.649029  0.021959  0.024754   \n",
              "97 364 days  3.001684e+07  5478.762932  4235.776363  0.021356  0.021737   \n",
              "98 365 days  5.523459e+07  7431.997545  5644.077514  0.026561  0.024754   \n",
              "\n",
              "    coverage  \n",
              "0        0.4  \n",
              "1        0.4  \n",
              "2        0.5  \n",
              "3        0.4  \n",
              "4        0.5  \n",
              "..       ...  \n",
              "94       0.5  \n",
              "95       0.5  \n",
              "96       0.4  \n",
              "97       0.5  \n",
              "98       0.4  \n",
              "\n",
              "[99 rows x 7 columns]"
            ],
            "text/html": [
              "\n",
              "  <div id=\"df-fe69ad15-ccc6-464d-ba59-58d685cedcf2\">\n",
              "    <div class=\"colab-df-container\">\n",
              "      <div>\n",
              "<style scoped>\n",
              "    .dataframe tbody tr th:only-of-type {\n",
              "        vertical-align: middle;\n",
              "    }\n",
              "\n",
              "    .dataframe tbody tr th {\n",
              "        vertical-align: top;\n",
              "    }\n",
              "\n",
              "    .dataframe thead th {\n",
              "        text-align: right;\n",
              "    }\n",
              "</style>\n",
              "<table border=\"1\" class=\"dataframe\">\n",
              "  <thead>\n",
              "    <tr style=\"text-align: right;\">\n",
              "      <th></th>\n",
              "      <th>horizon</th>\n",
              "      <th>mse</th>\n",
              "      <th>rmse</th>\n",
              "      <th>mae</th>\n",
              "      <th>mape</th>\n",
              "      <th>mdape</th>\n",
              "      <th>coverage</th>\n",
              "    </tr>\n",
              "  </thead>\n",
              "  <tbody>\n",
              "    <tr>\n",
              "      <th>0</th>\n",
              "      <td>52 days</td>\n",
              "      <td>2.430030e+07</td>\n",
              "      <td>4929.533140</td>\n",
              "      <td>4534.578066</td>\n",
              "      <td>0.027790</td>\n",
              "      <td>0.023419</td>\n",
              "      <td>0.4</td>\n",
              "    </tr>\n",
              "    <tr>\n",
              "      <th>1</th>\n",
              "      <td>53 days</td>\n",
              "      <td>2.180221e+07</td>\n",
              "      <td>4669.283718</td>\n",
              "      <td>4269.242480</td>\n",
              "      <td>0.025045</td>\n",
              "      <td>0.023419</td>\n",
              "      <td>0.4</td>\n",
              "    </tr>\n",
              "    <tr>\n",
              "      <th>2</th>\n",
              "      <td>54 days</td>\n",
              "      <td>1.835927e+07</td>\n",
              "      <td>4284.771500</td>\n",
              "      <td>3749.319270</td>\n",
              "      <td>0.020183</td>\n",
              "      <td>0.022331</td>\n",
              "      <td>0.5</td>\n",
              "    </tr>\n",
              "    <tr>\n",
              "      <th>3</th>\n",
              "      <td>55 days</td>\n",
              "      <td>2.318231e+07</td>\n",
              "      <td>4814.801050</td>\n",
              "      <td>4262.593972</td>\n",
              "      <td>0.023194</td>\n",
              "      <td>0.023419</td>\n",
              "      <td>0.4</td>\n",
              "    </tr>\n",
              "    <tr>\n",
              "      <th>4</th>\n",
              "      <td>57 days</td>\n",
              "      <td>2.101189e+07</td>\n",
              "      <td>4583.872792</td>\n",
              "      <td>4000.766561</td>\n",
              "      <td>0.021482</td>\n",
              "      <td>0.022331</td>\n",
              "      <td>0.5</td>\n",
              "    </tr>\n",
              "    <tr>\n",
              "      <th>...</th>\n",
              "      <td>...</td>\n",
              "      <td>...</td>\n",
              "      <td>...</td>\n",
              "      <td>...</td>\n",
              "      <td>...</td>\n",
              "      <td>...</td>\n",
              "      <td>...</td>\n",
              "    </tr>\n",
              "    <tr>\n",
              "      <th>94</th>\n",
              "      <td>360 days</td>\n",
              "      <td>1.833685e+07</td>\n",
              "      <td>4282.155252</td>\n",
              "      <td>3750.317263</td>\n",
              "      <td>0.019550</td>\n",
              "      <td>0.019595</td>\n",
              "      <td>0.5</td>\n",
              "    </tr>\n",
              "    <tr>\n",
              "      <th>95</th>\n",
              "      <td>361 days</td>\n",
              "      <td>1.744517e+07</td>\n",
              "      <td>4176.741529</td>\n",
              "      <td>3472.704963</td>\n",
              "      <td>0.018164</td>\n",
              "      <td>0.018940</td>\n",
              "      <td>0.5</td>\n",
              "    </tr>\n",
              "    <tr>\n",
              "      <th>96</th>\n",
              "      <td>362 days</td>\n",
              "      <td>3.175299e+07</td>\n",
              "      <td>5634.978870</td>\n",
              "      <td>4397.649029</td>\n",
              "      <td>0.021959</td>\n",
              "      <td>0.024754</td>\n",
              "      <td>0.4</td>\n",
              "    </tr>\n",
              "    <tr>\n",
              "      <th>97</th>\n",
              "      <td>364 days</td>\n",
              "      <td>3.001684e+07</td>\n",
              "      <td>5478.762932</td>\n",
              "      <td>4235.776363</td>\n",
              "      <td>0.021356</td>\n",
              "      <td>0.021737</td>\n",
              "      <td>0.5</td>\n",
              "    </tr>\n",
              "    <tr>\n",
              "      <th>98</th>\n",
              "      <td>365 days</td>\n",
              "      <td>5.523459e+07</td>\n",
              "      <td>7431.997545</td>\n",
              "      <td>5644.077514</td>\n",
              "      <td>0.026561</td>\n",
              "      <td>0.024754</td>\n",
              "      <td>0.4</td>\n",
              "    </tr>\n",
              "  </tbody>\n",
              "</table>\n",
              "<p>99 rows × 7 columns</p>\n",
              "</div>\n",
              "      <button class=\"colab-df-convert\" onclick=\"convertToInteractive('df-fe69ad15-ccc6-464d-ba59-58d685cedcf2')\"\n",
              "              title=\"Convert this dataframe to an interactive table.\"\n",
              "              style=\"display:none;\">\n",
              "        \n",
              "  <svg xmlns=\"http://www.w3.org/2000/svg\" height=\"24px\"viewBox=\"0 0 24 24\"\n",
              "       width=\"24px\">\n",
              "    <path d=\"M0 0h24v24H0V0z\" fill=\"none\"/>\n",
              "    <path d=\"M18.56 5.44l.94 2.06.94-2.06 2.06-.94-2.06-.94-.94-2.06-.94 2.06-2.06.94zm-11 1L8.5 8.5l.94-2.06 2.06-.94-2.06-.94L8.5 2.5l-.94 2.06-2.06.94zm10 10l.94 2.06.94-2.06 2.06-.94-2.06-.94-.94-2.06-.94 2.06-2.06.94z\"/><path d=\"M17.41 7.96l-1.37-1.37c-.4-.4-.92-.59-1.43-.59-.52 0-1.04.2-1.43.59L10.3 9.45l-7.72 7.72c-.78.78-.78 2.05 0 2.83L4 21.41c.39.39.9.59 1.41.59.51 0 1.02-.2 1.41-.59l7.78-7.78 2.81-2.81c.8-.78.8-2.07 0-2.86zM5.41 20L4 18.59l7.72-7.72 1.47 1.35L5.41 20z\"/>\n",
              "  </svg>\n",
              "      </button>\n",
              "      \n",
              "  <style>\n",
              "    .colab-df-container {\n",
              "      display:flex;\n",
              "      flex-wrap:wrap;\n",
              "      gap: 12px;\n",
              "    }\n",
              "\n",
              "    .colab-df-convert {\n",
              "      background-color: #E8F0FE;\n",
              "      border: none;\n",
              "      border-radius: 50%;\n",
              "      cursor: pointer;\n",
              "      display: none;\n",
              "      fill: #1967D2;\n",
              "      height: 32px;\n",
              "      padding: 0 0 0 0;\n",
              "      width: 32px;\n",
              "    }\n",
              "\n",
              "    .colab-df-convert:hover {\n",
              "      background-color: #E2EBFA;\n",
              "      box-shadow: 0px 1px 2px rgba(60, 64, 67, 0.3), 0px 1px 3px 1px rgba(60, 64, 67, 0.15);\n",
              "      fill: #174EA6;\n",
              "    }\n",
              "\n",
              "    [theme=dark] .colab-df-convert {\n",
              "      background-color: #3B4455;\n",
              "      fill: #D2E3FC;\n",
              "    }\n",
              "\n",
              "    [theme=dark] .colab-df-convert:hover {\n",
              "      background-color: #434B5C;\n",
              "      box-shadow: 0px 1px 3px 1px rgba(0, 0, 0, 0.15);\n",
              "      filter: drop-shadow(0px 1px 2px rgba(0, 0, 0, 0.3));\n",
              "      fill: #FFFFFF;\n",
              "    }\n",
              "  </style>\n",
              "\n",
              "      <script>\n",
              "        const buttonEl =\n",
              "          document.querySelector('#df-fe69ad15-ccc6-464d-ba59-58d685cedcf2 button.colab-df-convert');\n",
              "        buttonEl.style.display =\n",
              "          google.colab.kernel.accessAllowed ? 'block' : 'none';\n",
              "\n",
              "        async function convertToInteractive(key) {\n",
              "          const element = document.querySelector('#df-fe69ad15-ccc6-464d-ba59-58d685cedcf2');\n",
              "          const dataTable =\n",
              "            await google.colab.kernel.invokeFunction('convertToInteractive',\n",
              "                                                     [key], {});\n",
              "          if (!dataTable) return;\n",
              "\n",
              "          const docLinkHtml = 'Like what you see? Visit the ' +\n",
              "            '<a target=\"_blank\" href=https://colab.research.google.com/notebooks/data_table.ipynb>data table notebook</a>'\n",
              "            + ' to learn more about interactive tables.';\n",
              "          element.innerHTML = '';\n",
              "          dataTable['output_type'] = 'display_data';\n",
              "          await google.colab.output.renderOutput(dataTable, element);\n",
              "          const docLink = document.createElement('div');\n",
              "          docLink.innerHTML = docLinkHtml;\n",
              "          element.appendChild(docLink);\n",
              "        }\n",
              "      </script>\n",
              "    </div>\n",
              "  </div>\n",
              "  "
            ]
          },
          "metadata": {},
          "execution_count": 29
        }
      ]
    },
    {
      "cell_type": "code",
      "source": [
        "plot_cross_validation_metric(df_cv,metric='rmse');"
      ],
      "metadata": {
        "colab": {
          "base_uri": "https://localhost:8080/",
          "height": 477
        },
        "id": "CWrRrS6zVCbS",
        "outputId": "c8b601ac-4fd4-4a63-c40c-b6fc9ba23afb"
      },
      "execution_count": 31,
      "outputs": [
        {
          "output_type": "stream",
          "name": "stderr",
          "text": [
            "/usr/local/lib/python3.7/dist-packages/fbprophet/plot.py:526: FutureWarning: casting timedelta64[ns] values to int64 with .astype(...) is deprecated and will raise in a future version. Use .view(...) instead.\n",
            "  x_plt = df_none['horizon'].astype('timedelta64[ns]').astype(np.int64) / float(dt_conversions[i])\n",
            "/usr/local/lib/python3.7/dist-packages/fbprophet/plot.py:527: FutureWarning: casting timedelta64[ns] values to int64 with .astype(...) is deprecated and will raise in a future version. Use .view(...) instead.\n",
            "  x_plt_h = df_h['horizon'].astype('timedelta64[ns]').astype(np.int64) / float(dt_conversions[i])\n"
          ]
        },
        {
          "output_type": "display_data",
          "data": {
            "text/plain": [
              "<Figure size 720x432 with 1 Axes>"
            ],
            "image/png": "[encoded data removed]"
          },
          "metadata": {}
        }
      ]
    },
    {
      "cell_type": "code",
      "source": [
        ""
      ],
      "metadata": {
        "id": "zD7IpxgNVRoC"
      },
      "execution_count": null,
      "outputs": []
    }
  ]
}