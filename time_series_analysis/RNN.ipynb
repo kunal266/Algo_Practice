{
  "nbformat": 4,
  "nbformat_minor": 0,
  "metadata": {
    "colab": {
      "name": "RNN.ipynb",
      "provenance": [],
      "mount_file_id": "1KIKM51W2t6WY_M49aAtezDqF6sR1JsMK",
      "authorship_tag": "ABX9TyN2pKqtS8Hr1aga7fwDitiG",
      "include_colab_link": true
    },
    "kernelspec": {
      "name": "python3",
      "display_name": "Python 3"
    },
    "language_info": {
      "name": "python"
    }
  },
  "cells": [
    {
      "cell_type": "markdown",
      "metadata": {
        "id": "view-in-github",
        "colab_type": "text"
      },
      "source": [
        "<a href=\"https://colab.research.google.com/github/kunal266/Algo_Practice/blob/main/time_series_analysis/RNN.ipynb\" target=\"_parent\"><img src=\"https://colab.research.google.com/assets/colab-badge.svg\" alt=\"Open In Colab\"/></a>"
      ]
    },
    {
      "cell_type": "code",
      "execution_count": 1,
      "metadata": {
        "id": "S55Ay6QHXZeW"
      },
      "outputs": [],
      "source": [
        "import pandas as pd\n",
        "import numpy as np\n",
        "import matplotlib.pyplot as plt"
      ]
    },
    {
      "cell_type": "code",
      "source": [
        "df = pd.read_csv('/content/drive/MyDrive/UDEMY_TSA_FINAL/Data/Alcohol_Sales.csv',index_col = 'DATE',parse_dates=True)"
      ],
      "metadata": {
        "id": "6MZvSueRUClh"
      },
      "execution_count": 2,
      "outputs": []
    },
    {
      "cell_type": "code",
      "source": [
        "df.head()"
      ],
      "metadata": {
        "colab": {
          "base_uri": "https://localhost:8080/",
          "height": 238
        },
        "id": "M0-bndbxZAdS",
        "outputId": "b340faa5-d948-45fb-b520-0c8dc7e29e6f"
      },
      "execution_count": 3,
      "outputs": [
        {
          "output_type": "execute_result",
          "data": {
            "text/html": [
              "\n",
              "  <div id=\"df-b04923e7-fe2d-4521-b10a-a221e0d5d84f\">\n",
              "    <div class=\"colab-df-container\">\n",
              "      <div>\n",
              "<style scoped>\n",
              "    .dataframe tbody tr th:only-of-type {\n",
              "        vertical-align: middle;\n",
              "    }\n",
              "\n",
              "    .dataframe tbody tr th {\n",
              "        vertical-align: top;\n",
              "    }\n",
              "\n",
              "    .dataframe thead th {\n",
              "        text-align: right;\n",
              "    }\n",
              "</style>\n",
              "<table border=\"1\" class=\"dataframe\">\n",
              "  <thead>\n",
              "    <tr style=\"text-align: right;\">\n",
              "      <th></th>\n",
              "      <th>S4248SM144NCEN</th>\n",
              "    </tr>\n",
              "    <tr>\n",
              "      <th>DATE</th>\n",
              "      <th></th>\n",
              "    </tr>\n",
              "  </thead>\n",
              "  <tbody>\n",
              "    <tr>\n",
              "      <th>1992-01-01</th>\n",
              "      <td>3459</td>\n",
              "    </tr>\n",
              "    <tr>\n",
              "      <th>1992-02-01</th>\n",
              "      <td>3458</td>\n",
              "    </tr>\n",
              "    <tr>\n",
              "      <th>1992-03-01</th>\n",
              "      <td>4002</td>\n",
              "    </tr>\n",
              "    <tr>\n",
              "      <th>1992-04-01</th>\n",
              "      <td>4564</td>\n",
              "    </tr>\n",
              "    <tr>\n",
              "      <th>1992-05-01</th>\n",
              "      <td>4221</td>\n",
              "    </tr>\n",
              "  </tbody>\n",
              "</table>\n",
              "</div>\n",
              "      <button class=\"colab-df-convert\" onclick=\"convertToInteractive('df-b04923e7-fe2d-4521-b10a-a221e0d5d84f')\"\n",
              "              title=\"Convert this dataframe to an interactive table.\"\n",
              "              style=\"display:none;\">\n",
              "        \n",
              "  <svg xmlns=\"http://www.w3.org/2000/svg\" height=\"24px\"viewBox=\"0 0 24 24\"\n",
              "       width=\"24px\">\n",
              "    <path d=\"M0 0h24v24H0V0z\" fill=\"none\"/>\n",
              "    <path d=\"M18.56 5.44l.94 2.06.94-2.06 2.06-.94-2.06-.94-.94-2.06-.94 2.06-2.06.94zm-11 1L8.5 8.5l.94-2.06 2.06-.94-2.06-.94L8.5 2.5l-.94 2.06-2.06.94zm10 10l.94 2.06.94-2.06 2.06-.94-2.06-.94-.94-2.06-.94 2.06-2.06.94z\"/><path d=\"M17.41 7.96l-1.37-1.37c-.4-.4-.92-.59-1.43-.59-.52 0-1.04.2-1.43.59L10.3 9.45l-7.72 7.72c-.78.78-.78 2.05 0 2.83L4 21.41c.39.39.9.59 1.41.59.51 0 1.02-.2 1.41-.59l7.78-7.78 2.81-2.81c.8-.78.8-2.07 0-2.86zM5.41 20L4 18.59l7.72-7.72 1.47 1.35L5.41 20z\"/>\n",
              "  </svg>\n",
              "      </button>\n",
              "      \n",
              "  <style>\n",
              "    .colab-df-container {\n",
              "      display:flex;\n",
              "      flex-wrap:wrap;\n",
              "      gap: 12px;\n",
              "    }\n",
              "\n",
              "    .colab-df-convert {\n",
              "      background-color: #E8F0FE;\n",
              "      border: none;\n",
              "      border-radius: 50%;\n",
              "      cursor: pointer;\n",
              "      display: none;\n",
              "      fill: #1967D2;\n",
              "      height: 32px;\n",
              "      padding: 0 0 0 0;\n",
              "      width: 32px;\n",
              "    }\n",
              "\n",
              "    .colab-df-convert:hover {\n",
              "      background-color: #E2EBFA;\n",
              "      box-shadow: 0px 1px 2px rgba(60, 64, 67, 0.3), 0px 1px 3px 1px rgba(60, 64, 67, 0.15);\n",
              "      fill: #174EA6;\n",
              "    }\n",
              "\n",
              "    [theme=dark] .colab-df-convert {\n",
              "      background-color: #3B4455;\n",
              "      fill: #D2E3FC;\n",
              "    }\n",
              "\n",
              "    [theme=dark] .colab-df-convert:hover {\n",
              "      background-color: #434B5C;\n",
              "      box-shadow: 0px 1px 3px 1px rgba(0, 0, 0, 0.15);\n",
              "      filter: drop-shadow(0px 1px 2px rgba(0, 0, 0, 0.3));\n",
              "      fill: #FFFFFF;\n",
              "    }\n",
              "  </style>\n",
              "\n",
              "      <script>\n",
              "        const buttonEl =\n",
              "          document.querySelector('#df-b04923e7-fe2d-4521-b10a-a221e0d5d84f button.colab-df-convert');\n",
              "        buttonEl.style.display =\n",
              "          google.colab.kernel.accessAllowed ? 'block' : 'none';\n",
              "\n",
              "        async function convertToInteractive(key) {\n",
              "          const element = document.querySelector('#df-b04923e7-fe2d-4521-b10a-a221e0d5d84f');\n",
              "          const dataTable =\n",
              "            await google.colab.kernel.invokeFunction('convertToInteractive',\n",
              "                                                     [key], {});\n",
              "          if (!dataTable) return;\n",
              "\n",
              "          const docLinkHtml = 'Like what you see? Visit the ' +\n",
              "            '<a target=\"_blank\" href=https://colab.research.google.com/notebooks/data_table.ipynb>data table notebook</a>'\n",
              "            + ' to learn more about interactive tables.';\n",
              "          element.innerHTML = '';\n",
              "          dataTable['output_type'] = 'display_data';\n",
              "          await google.colab.output.renderOutput(dataTable, element);\n",
              "          const docLink = document.createElement('div');\n",
              "          docLink.innerHTML = docLinkHtml;\n",
              "          element.appendChild(docLink);\n",
              "        }\n",
              "      </script>\n",
              "    </div>\n",
              "  </div>\n",
              "  "
            ],
            "text/plain": [
              "            S4248SM144NCEN\n",
              "DATE                      \n",
              "1992-01-01            3459\n",
              "1992-02-01            3458\n",
              "1992-03-01            4002\n",
              "1992-04-01            4564\n",
              "1992-05-01            4221"
            ]
          },
          "metadata": {},
          "execution_count": 3
        }
      ]
    },
    {
      "cell_type": "code",
      "source": [
        "df.columns=['Sales']"
      ],
      "metadata": {
        "id": "dnGouYq1ZCwN"
      },
      "execution_count": 4,
      "outputs": []
    },
    {
      "cell_type": "code",
      "source": [
        "df.plot()"
      ],
      "metadata": {
        "colab": {
          "base_uri": "https://localhost:8080/",
          "height": 298
        },
        "id": "CqDla5cMZFSX",
        "outputId": "62a05926-d654-49f8-f7a4-ae5570f0de44"
      },
      "execution_count": 5,
      "outputs": [
        {
          "output_type": "execute_result",
          "data": {
            "text/plain": [
              "<matplotlib.axes._subplots.AxesSubplot at 0x7fc707cf6a50>"
            ]
          },
          "metadata": {},
          "execution_count": 5
        },
        {
          "output_type": "display_data",
          "data": {
            "image/png": "[encoded data removed]",
            "text/plain": [
              "<Figure size 432x288 with 1 Axes>"
            ]
          },
          "metadata": {
            "needs_background": "light"
          }
        }
      ]
    },
    {
      "cell_type": "code",
      "source": [
        "from statsmodels.tsa.seasonal import seasonal_decompose"
      ],
      "metadata": {
        "id": "YF2F5vrJZGCm",
        "colab": {
          "base_uri": "https://localhost:8080/"
        },
        "outputId": "83e57479-14c3-45c2-86c1-d9ab6c81ec80"
      },
      "execution_count": 6,
      "outputs": [
        {
          "output_type": "stream",
          "name": "stderr",
          "text": [
            "/usr/local/lib/python3.7/dist-packages/statsmodels/tools/_testing.py:19: FutureWarning: pandas.util.testing is deprecated. Use the functions in the public API at pandas.testing instead.\n",
            "  import pandas.util.testing as tm\n"
          ]
        }
      ]
    },
    {
      "cell_type": "code",
      "source": [
        "results = seasonal_decompose(df['Sales'])"
      ],
      "metadata": {
        "id": "LzQU7SJ6ZJ31"
      },
      "execution_count": 7,
      "outputs": []
    },
    {
      "cell_type": "code",
      "source": [
        "results.plot();"
      ],
      "metadata": {
        "colab": {
          "base_uri": "https://localhost:8080/",
          "height": 297
        },
        "id": "ZQNNNVF2ZMXm",
        "outputId": "8eb6e678-abc0-468b-8a78-7250eb180019"
      },
      "execution_count": 8,
      "outputs": [
        {
          "output_type": "display_data",
          "data": {
            "image/png": "[encoded data removed]",
            "text/plain": [
              "<Figure size 432x288 with 4 Axes>"
            ]
          },
          "metadata": {
            "needs_background": "light"
          }
        }
      ]
    },
    {
      "cell_type": "code",
      "source": [
        "ax = results.seasonal.plot(figsize=(12,2));"
      ],
      "metadata": {
        "colab": {
          "base_uri": "https://localhost:8080/",
          "height": 171
        },
        "id": "FzGm_rHrZN-_",
        "outputId": "7d45cd6f-e911-45fb-c410-0596c3c64a13"
      },
      "execution_count": 9,
      "outputs": [
        {
          "output_type": "display_data",
          "data": {
            "image/png": "[encoded data removed]",
            "text/plain": [
              "<Figure size 864x144 with 1 Axes>"
            ]
          },
          "metadata": {
            "needs_background": "light"
          }
        }
      ]
    },
    {
      "cell_type": "code",
      "source": [
        "train  = df.iloc[:313]\n",
        "test = df.iloc[313:]"
      ],
      "metadata": {
        "id": "Ef3sAH8YZSe1"
      },
      "execution_count": 10,
      "outputs": []
    },
    {
      "cell_type": "code",
      "source": [
        "len(test)"
      ],
      "metadata": {
        "colab": {
          "base_uri": "https://localhost:8080/"
        },
        "id": "EGqBcNzWZzC2",
        "outputId": "e3045643-10dd-4462-c199-57e84e53ea8a"
      },
      "execution_count": 11,
      "outputs": [
        {
          "output_type": "execute_result",
          "data": {
            "text/plain": [
              "12"
            ]
          },
          "metadata": {},
          "execution_count": 11
        }
      ]
    },
    {
      "cell_type": "code",
      "source": [
        "from sklearn.preprocessing import MinMaxScaler"
      ],
      "metadata": {
        "id": "BmvIa8Q_Z0Rh"
      },
      "execution_count": 12,
      "outputs": []
    },
    {
      "cell_type": "code",
      "source": [
        "scaler = MinMaxScaler()"
      ],
      "metadata": {
        "id": "8x1xqgZdbFJE"
      },
      "execution_count": 13,
      "outputs": []
    },
    {
      "cell_type": "code",
      "source": [
        ""
      ],
      "metadata": {
        "id": "VgPqcIXZbnFm"
      },
      "execution_count": 13,
      "outputs": []
    },
    {
      "cell_type": "code",
      "source": [
        "scaler.fit(train) #finds the max value in train data"
      ],
      "metadata": {
        "colab": {
          "base_uri": "https://localhost:8080/"
        },
        "id": "b3X7iEeAbKOO",
        "outputId": "7a997e16-cb66-4683-cfdb-bed1c1c9991f"
      },
      "execution_count": 14,
      "outputs": [
        {
          "output_type": "execute_result",
          "data": {
            "text/plain": [
              "MinMaxScaler()"
            ]
          },
          "metadata": {},
          "execution_count": 14
        }
      ]
    },
    {
      "cell_type": "code",
      "source": [
        "scaled_train = scaler.transform(train)"
      ],
      "metadata": {
        "id": "wxaNlkVBbb6H"
      },
      "execution_count": 15,
      "outputs": []
    },
    {
      "cell_type": "code",
      "source": [
        "scaled_train"
      ],
      "metadata": {
        "id": "AMLMQkKabqNu",
        "colab": {
          "base_uri": "https://localhost:8080/"
        },
        "outputId": "c6309607-e0bd-4eb0-9bfa-489c53366e7c"
      },
      "execution_count": 16,
      "outputs": [
        {
          "output_type": "execute_result",
          "data": {
            "text/plain": [
              "array([[0.03658432],\n",
              "       [0.03649885],\n",
              "       [0.08299855],\n",
              "       [0.13103684],\n",
              "       [0.1017181 ],\n",
              "       [0.12804513],\n",
              "       [0.12266006],\n",
              "       [0.09453799],\n",
              "       [0.09359774],\n",
              "       [0.10496624],\n",
              "       [0.10334217],\n",
              "       [0.16283443],\n",
              "       [0.        ],\n",
              "       [0.0196598 ],\n",
              "       [0.09650397],\n",
              "       [0.11505257],\n",
              "       [0.10906915],\n",
              "       [0.14231986],\n",
              "       [0.12197624],\n",
              "       [0.12189076],\n",
              "       [0.11394136],\n",
              "       [0.10300026],\n",
              "       [0.12556629],\n",
              "       [0.16608257],\n",
              "       [0.00376101],\n",
              "       [0.02957518],\n",
              "       [0.12069408],\n",
              "       [0.10513719],\n",
              "       [0.12214719],\n",
              "       [0.16702282],\n",
              "       [0.11052227],\n",
              "       [0.14428584],\n",
              "       [0.11479614],\n",
              "       [0.10402599],\n",
              "       [0.14984187],\n",
              "       [0.16582614],\n",
              "       [0.02897684],\n",
              "       [0.03872126],\n",
              "       [0.10582101],\n",
              "       [0.08231473],\n",
              "       [0.14394393],\n",
              "       [0.16608257],\n",
              "       [0.10188905],\n",
              "       [0.16830498],\n",
              "       [0.10291478],\n",
              "       [0.13018207],\n",
              "       [0.15556885],\n",
              "       [0.15343192],\n",
              "       [0.0570989 ],\n",
              "       [0.08137448],\n",
              "       [0.10522267],\n",
              "       [0.1357381 ],\n",
              "       [0.18702453],\n",
              "       [0.15428669],\n",
              "       [0.16326182],\n",
              "       [0.17360458],\n",
              "       [0.11402684],\n",
              "       [0.16933071],\n",
              "       [0.15548337],\n",
              "       [0.17659629],\n",
              "       [0.06214206],\n",
              "       [0.06786905],\n",
              "       [0.12163433],\n",
              "       [0.13710574],\n",
              "       [0.18625524],\n",
              "       [0.17317719],\n",
              "       [0.18805026],\n",
              "       [0.17121121],\n",
              "       [0.16574066],\n",
              "       [0.19753825],\n",
              "       [0.1538593 ],\n",
              "       [0.25079067],\n",
              "       [0.0653902 ],\n",
              "       [0.08445166],\n",
              "       [0.15958629],\n",
              "       [0.17599795],\n",
              "       [0.18856313],\n",
              "       [0.20651338],\n",
              "       [0.20548765],\n",
              "       [0.17745106],\n",
              "       [0.21232584],\n",
              "       [0.2181383 ],\n",
              "       [0.19788016],\n",
              "       [0.27822891],\n",
              "       [0.08556287],\n",
              "       [0.12001026],\n",
              "       [0.20924865],\n",
              "       [0.20959056],\n",
              "       [0.21848021],\n",
              "       [0.2688264 ],\n",
              "       [0.22138644],\n",
              "       [0.24429438],\n",
              "       [0.23908026],\n",
              "       [0.24087529],\n",
              "       [0.2691683 ],\n",
              "       [0.31968544],\n",
              "       [0.1035986 ],\n",
              "       [0.16420207],\n",
              "       [0.25446619],\n",
              "       [0.1984785 ],\n",
              "       [0.29096504],\n",
              "       [0.31130866],\n",
              "       [0.2226686 ],\n",
              "       [0.30763313],\n",
              "       [0.24412343],\n",
              "       [0.28130609],\n",
              "       [0.29823062],\n",
              "       [0.31173605],\n",
              "       [0.17531413],\n",
              "       [0.1867681 ],\n",
              "       [0.24463629],\n",
              "       [0.24472177],\n",
              "       [0.32207881],\n",
              "       [0.31079579],\n",
              "       [0.28575092],\n",
              "       [0.32558338],\n",
              "       [0.21745448],\n",
              "       [0.30036755],\n",
              "       [0.32122404],\n",
              "       [0.3546457 ],\n",
              "       [0.17830584],\n",
              "       [0.20608599],\n",
              "       [0.28258826],\n",
              "       [0.298658  ],\n",
              "       [0.35772288],\n",
              "       [0.31883067],\n",
              "       [0.33566972],\n",
              "       [0.34524318],\n",
              "       [0.26643303],\n",
              "       [0.33276348],\n",
              "       [0.31498419],\n",
              "       [0.42260022],\n",
              "       [0.19617061],\n",
              "       [0.22036071],\n",
              "       [0.28917001],\n",
              "       [0.31712112],\n",
              "       [0.35156851],\n",
              "       [0.35062826],\n",
              "       [0.38781092],\n",
              "       [0.36199675],\n",
              "       [0.30797504],\n",
              "       [0.39276861],\n",
              "       [0.32583982],\n",
              "       [0.47089495],\n",
              "       [0.22207026],\n",
              "       [0.24506368],\n",
              "       [0.34310625],\n",
              "       [0.34729464],\n",
              "       [0.36772374],\n",
              "       [0.41772801],\n",
              "       [0.36396273],\n",
              "       [0.37310881],\n",
              "       [0.36139841],\n",
              "       [0.36216771],\n",
              "       [0.40174374],\n",
              "       [0.51517224],\n",
              "       [0.21591589],\n",
              "       [0.27404052],\n",
              "       [0.40105992],\n",
              "       [0.36165484],\n",
              "       [0.44533721],\n",
              "       [0.48944354],\n",
              "       [0.36934781],\n",
              "       [0.46713394],\n",
              "       [0.40259851],\n",
              "       [0.39994871],\n",
              "       [0.44585007],\n",
              "       [0.50183776],\n",
              "       [0.25942388],\n",
              "       [0.30421404],\n",
              "       [0.4181554 ],\n",
              "       [0.36789469],\n",
              "       [0.4967946 ],\n",
              "       [0.53816566],\n",
              "       [0.40695786],\n",
              "       [0.52354902],\n",
              "       [0.42789982],\n",
              "       [0.47944269],\n",
              "       [0.52115565],\n",
              "       [0.55679973],\n",
              "       [0.3073767 ],\n",
              "       [0.31729208],\n",
              "       [0.44140525],\n",
              "       [0.41003505],\n",
              "       [0.55893666],\n",
              "       [0.55158561],\n",
              "       [0.47670741],\n",
              "       [0.55662877],\n",
              "       [0.43525088],\n",
              "       [0.56568938],\n",
              "       [0.54355073],\n",
              "       [0.60124797],\n",
              "       [0.34720916],\n",
              "       [0.38054535],\n",
              "       [0.4559364 ],\n",
              "       [0.50123942],\n",
              "       [0.5780836 ],\n",
              "       [0.59372596],\n",
              "       [0.55748355],\n",
              "       [0.54226857],\n",
              "       [0.52944696],\n",
              "       [0.59124712],\n",
              "       [0.48952902],\n",
              "       [0.66740747],\n",
              "       [0.36199675],\n",
              "       [0.3886657 ],\n",
              "       [0.4835456 ],\n",
              "       [0.52406189],\n",
              "       [0.54175571],\n",
              "       [0.60996666],\n",
              "       [0.55355159],\n",
              "       [0.50363279],\n",
              "       [0.5334644 ],\n",
              "       [0.51662535],\n",
              "       [0.5058552 ],\n",
              "       [0.66774938],\n",
              "       [0.30147876],\n",
              "       [0.38037439],\n",
              "       [0.55081631],\n",
              "       [0.54645696],\n",
              "       [0.54021711],\n",
              "       [0.64287546],\n",
              "       [0.51679631],\n",
              "       [0.53354988],\n",
              "       [0.54611505],\n",
              "       [0.54551671],\n",
              "       [0.58423797],\n",
              "       [0.72006154],\n",
              "       [0.3307975 ],\n",
              "       [0.42593384],\n",
              "       [0.58133174],\n",
              "       [0.5342337 ],\n",
              "       [0.59287119],\n",
              "       [0.71057355],\n",
              "       [0.51927515],\n",
              "       [0.63578084],\n",
              "       [0.60295752],\n",
              "       [0.56252671],\n",
              "       [0.62372852],\n",
              "       [0.72245491],\n",
              "       [0.38080178],\n",
              "       [0.47952816],\n",
              "       [0.57081802],\n",
              "       [0.54637148],\n",
              "       [0.7104026 ],\n",
              "       [0.70459014],\n",
              "       [0.58244294],\n",
              "       [0.69510215],\n",
              "       [0.55568852],\n",
              "       [0.66014189],\n",
              "       [0.67715189],\n",
              "       [0.75997949],\n",
              "       [0.45850073],\n",
              "       [0.50064108],\n",
              "       [0.60509445],\n",
              "       [0.63783229],\n",
              "       [0.78528079],\n",
              "       [0.71407813],\n",
              "       [0.69706813],\n",
              "       [0.72065989],\n",
              "       [0.63791777],\n",
              "       [0.72732712],\n",
              "       [0.69296521],\n",
              "       [0.82725019],\n",
              "       [0.47234806],\n",
              "       [0.51525771],\n",
              "       [0.6003932 ],\n",
              "       [0.67920335],\n",
              "       [0.74886742],\n",
              "       [0.75844089],\n",
              "       [0.67817762],\n",
              "       [0.67954526],\n",
              "       [0.66646722],\n",
              "       [0.75100436],\n",
              "       [0.63586631],\n",
              "       [0.8786221 ],\n",
              "       [0.45892811],\n",
              "       [0.51551415],\n",
              "       [0.65740662],\n",
              "       [0.69031541],\n",
              "       [0.72459185],\n",
              "       [0.84391828],\n",
              "       [0.75544918],\n",
              "       [0.70031627],\n",
              "       [0.76852722],\n",
              "       [0.76519361],\n",
              "       [0.72442089],\n",
              "       [0.95324387],\n",
              "       [0.48012651],\n",
              "       [0.62313018],\n",
              "       [0.7757928 ],\n",
              "       [0.71706984],\n",
              "       [0.78699034],\n",
              "       [0.91033422],\n",
              "       [0.67689546],\n",
              "       [0.8264809 ],\n",
              "       [0.78989657],\n",
              "       [0.75852637],\n",
              "       [0.85349175],\n",
              "       [0.97358749],\n",
              "       [0.51389008],\n",
              "       [0.63432772],\n",
              "       [0.80776135],\n",
              "       [0.72313873],\n",
              "       [0.89870929],\n",
              "       [1.        ],\n",
              "       [0.71672793],\n",
              "       [0.88648602],\n",
              "       [0.75869732],\n",
              "       [0.82742115],\n",
              "       [0.87443371],\n",
              "       [0.96025301],\n",
              "       [0.5584238 ]])"
            ]
          },
          "metadata": {},
          "execution_count": 16
        }
      ]
    },
    {
      "cell_type": "code",
      "source": [
        "scaled_test = scaler.transform(test)"
      ],
      "metadata": {
        "id": "PDqwJ-vWbrrt"
      },
      "execution_count": 17,
      "outputs": []
    },
    {
      "cell_type": "code",
      "source": [
        "from keras.preprocessing.sequence import TimeseriesGenerator"
      ],
      "metadata": {
        "id": "7GLXT-m0cK2s"
      },
      "execution_count": 18,
      "outputs": []
    },
    {
      "cell_type": "code",
      "source": [
        "scaled_test # if test data has a value greater than max value in train then it will be like >1"
      ],
      "metadata": {
        "colab": {
          "base_uri": "https://localhost:8080/"
        },
        "id": "vraB-LWbgdGB",
        "outputId": "ebd6b1c6-7053-4447-d264-add7bc742466"
      },
      "execution_count": 19,
      "outputs": [
        {
          "output_type": "execute_result",
          "data": {
            "text/plain": [
              "array([[0.63116506],\n",
              "       [0.82502778],\n",
              "       [0.75972305],\n",
              "       [0.94939738],\n",
              "       [0.98743482],\n",
              "       [0.82135225],\n",
              "       [0.95956919],\n",
              "       [0.80049577],\n",
              "       [0.93025045],\n",
              "       [0.95247457],\n",
              "       [1.0661595 ],\n",
              "       [0.65706471]])"
            ]
          },
          "metadata": {},
          "execution_count": 19
        }
      ]
    },
    {
      "cell_type": "code",
      "source": [
        "n_input= 2\n",
        "n_features = 1\n",
        "\n",
        "generator = TimeseriesGenerator(scaled_train,scaled_train,length=n_input,batch_size=1)"
      ],
      "metadata": {
        "id": "RX8s42eigrIK"
      },
      "execution_count": 20,
      "outputs": []
    },
    {
      "cell_type": "code",
      "source": [
        "len(scaled_train)"
      ],
      "metadata": {
        "colab": {
          "base_uri": "https://localhost:8080/"
        },
        "id": "CoG18tkDhXSE",
        "outputId": "279dab71-2084-4344-d9c6-19c55bddcc04"
      },
      "execution_count": 21,
      "outputs": [
        {
          "output_type": "execute_result",
          "data": {
            "text/plain": [
              "313"
            ]
          },
          "metadata": {},
          "execution_count": 21
        }
      ]
    },
    {
      "cell_type": "code",
      "source": [
        "len(generator)"
      ],
      "metadata": {
        "colab": {
          "base_uri": "https://localhost:8080/"
        },
        "id": "6z7FkPQHhZhn",
        "outputId": "c2781971-3a19-479e-f2c2-f5d5fd968a38"
      },
      "execution_count": 22,
      "outputs": [
        {
          "output_type": "execute_result",
          "data": {
            "text/plain": [
              "311"
            ]
          },
          "metadata": {},
          "execution_count": 22
        }
      ]
    },
    {
      "cell_type": "code",
      "source": [
        "X,y=  generator[0]"
      ],
      "metadata": {
        "id": "gvtc2XEohbjR"
      },
      "execution_count": 23,
      "outputs": []
    },
    {
      "cell_type": "code",
      "source": [
        "X"
      ],
      "metadata": {
        "colab": {
          "base_uri": "https://localhost:8080/"
        },
        "id": "5fyOr8vfhe-R",
        "outputId": "75300255-60c1-493d-869d-585785ff34d0"
      },
      "execution_count": 24,
      "outputs": [
        {
          "output_type": "execute_result",
          "data": {
            "text/plain": [
              "array([[[0.03658432],\n",
              "        [0.03649885]]])"
            ]
          },
          "metadata": {},
          "execution_count": 24
        }
      ]
    },
    {
      "cell_type": "code",
      "source": [
        "y"
      ],
      "metadata": {
        "id": "g5-_m5PHhjOU",
        "outputId": "865ef10a-83dd-4668-d65d-5afa21b320be",
        "colab": {
          "base_uri": "https://localhost:8080/"
        }
      },
      "execution_count": 25,
      "outputs": [
        {
          "output_type": "execute_result",
          "data": {
            "text/plain": [
              "array([[0.08299855]])"
            ]
          },
          "metadata": {},
          "execution_count": 25
        }
      ]
    },
    {
      "cell_type": "code",
      "source": [
        "from keras.models import Sequential\n",
        "from keras.layers import Dense\n",
        "from keras.layers import LSTM"
      ],
      "metadata": {
        "id": "OFOQEaRQho7F"
      },
      "execution_count": 26,
      "outputs": []
    },
    {
      "cell_type": "code",
      "source": [
        "n_input= 12\n",
        "n_features = 1\n",
        "\n",
        "train_generator = TimeseriesGenerator(scaled_train,scaled_train,length=n_input,batch_size=1)"
      ],
      "metadata": {
        "id": "cz9IuPP7h17p"
      },
      "execution_count": 27,
      "outputs": []
    },
    {
      "cell_type": "code",
      "source": [
        "model = Sequential()\n",
        "model.add(LSTM(160,activation='relu',input_shape=(n_input,n_features)))\n",
        "model.add(Dense(1))\n",
        "model.compile(optimizer='adam',loss='mse')"
      ],
      "metadata": {
        "id": "k4McUq3xhZCX"
      },
      "execution_count": 28,
      "outputs": []
    },
    {
      "cell_type": "code",
      "source": [
        "model.summary()"
      ],
      "metadata": {
        "colab": {
          "base_uri": "https://localhost:8080/"
        },
        "id": "b2y4ZuKch1MK",
        "outputId": "74ba3ee9-f5a6-4d00-8c44-cbbdb0e26043"
      },
      "execution_count": 29,
      "outputs": [
        {
          "output_type": "stream",
          "name": "stdout",
          "text": [
            "Model: \"sequential\"\n",
            "_________________________________________________________________\n",
            " Layer (type)                Output Shape              Param #   \n",
            "=================================================================\n",
            " lstm (LSTM)                 (None, 160)               103680    \n",
            "                                                                 \n",
            " dense (Dense)               (None, 1)                 161       \n",
            "                                                                 \n",
            "=================================================================\n",
            "Total params: 103,841\n",
            "Trainable params: 103,841\n",
            "Non-trainable params: 0\n",
            "_________________________________________________________________\n"
          ]
        }
      ]
    },
    {
      "cell_type": "code",
      "source": [
        "model.fit(train_generator,epochs=25)"
      ],
      "metadata": {
        "colab": {
          "base_uri": "https://localhost:8080/"
        },
        "id": "1qjcznBPin3z",
        "outputId": "e98012bd-707f-48b2-96c9-937727bc163c"
      },
      "execution_count": 30,
      "outputs": [
        {
          "output_type": "stream",
          "name": "stdout",
          "text": [
            "Epoch 1/25\n",
            "301/301 [==============================] - 5s 9ms/step - loss: 0.0132\n",
            "Epoch 2/25\n",
            "301/301 [==============================] - 3s 9ms/step - loss: 0.0090\n",
            "Epoch 3/25\n",
            "301/301 [==============================] - 3s 9ms/step - loss: 0.0086\n",
            "Epoch 4/25\n",
            "301/301 [==============================] - 3s 9ms/step - loss: 0.0076\n",
            "Epoch 5/25\n",
            "301/301 [==============================] - 3s 11ms/step - loss: 0.0059\n",
            "Epoch 6/25\n",
            "301/301 [==============================] - 3s 9ms/step - loss: 0.0048\n",
            "Epoch 7/25\n",
            "301/301 [==============================] - 3s 9ms/step - loss: 0.0044\n",
            "Epoch 8/25\n",
            "301/301 [==============================] - 3s 9ms/step - loss: 0.0028\n",
            "Epoch 9/25\n",
            "301/301 [==============================] - 3s 9ms/step - loss: 0.0027\n",
            "Epoch 10/25\n",
            "301/301 [==============================] - 3s 10ms/step - loss: 0.0025\n",
            "Epoch 11/25\n",
            "301/301 [==============================] - 3s 9ms/step - loss: 0.0024\n",
            "Epoch 12/25\n",
            "301/301 [==============================] - 3s 9ms/step - loss: 0.0020\n",
            "Epoch 13/25\n",
            "301/301 [==============================] - 3s 9ms/step - loss: 0.0019\n",
            "Epoch 14/25\n",
            "301/301 [==============================] - 3s 9ms/step - loss: 0.0021\n",
            "Epoch 15/25\n",
            "301/301 [==============================] - 3s 9ms/step - loss: 0.0018\n",
            "Epoch 16/25\n",
            "301/301 [==============================] - 3s 9ms/step - loss: 0.0016\n",
            "Epoch 17/25\n",
            "301/301 [==============================] - 3s 9ms/step - loss: 0.0016\n",
            "Epoch 18/25\n",
            "301/301 [==============================] - 3s 9ms/step - loss: 0.0016\n",
            "Epoch 19/25\n",
            "301/301 [==============================] - 3s 9ms/step - loss: 0.0016\n",
            "Epoch 20/25\n",
            "301/301 [==============================] - 3s 9ms/step - loss: 0.0018\n",
            "Epoch 21/25\n",
            "301/301 [==============================] - 3s 9ms/step - loss: 0.0017\n",
            "Epoch 22/25\n",
            "301/301 [==============================] - 3s 9ms/step - loss: 0.0018\n",
            "Epoch 23/25\n",
            "301/301 [==============================] - 3s 9ms/step - loss: 0.0017\n",
            "Epoch 24/25\n",
            "301/301 [==============================] - 3s 9ms/step - loss: 0.0014\n",
            "Epoch 25/25\n",
            "301/301 [==============================] - 3s 9ms/step - loss: 0.0021\n"
          ]
        },
        {
          "output_type": "execute_result",
          "data": {
            "text/plain": [
              "<keras.callbacks.History at 0x7fc68b7b8290>"
            ]
          },
          "metadata": {},
          "execution_count": 30
        }
      ]
    },
    {
      "cell_type": "code",
      "source": [
        "model.history.history.keys()"
      ],
      "metadata": {
        "colab": {
          "base_uri": "https://localhost:8080/"
        },
        "id": "H9T2emEYjHPa",
        "outputId": "576e370e-f3f5-4f3e-918a-e77be64e2a14"
      },
      "execution_count": 31,
      "outputs": [
        {
          "output_type": "execute_result",
          "data": {
            "text/plain": [
              "dict_keys(['loss'])"
            ]
          },
          "metadata": {},
          "execution_count": 31
        }
      ]
    },
    {
      "cell_type": "code",
      "source": [
        "plt.plot(range(len(model.history.history['loss'])),model.history.history['loss'])"
      ],
      "metadata": {
        "colab": {
          "base_uri": "https://localhost:8080/",
          "height": 282
        },
        "id": "FrFPFvKIkKzs",
        "outputId": "f84fd7d5-d14d-4425-e516-092a0aca10a7"
      },
      "execution_count": 32,
      "outputs": [
        {
          "output_type": "execute_result",
          "data": {
            "text/plain": [
              "[<matplotlib.lines.Line2D at 0x7fc6848e2210>]"
            ]
          },
          "metadata": {},
          "execution_count": 32
        },
        {
          "output_type": "display_data",
          "data": {
            "image/png": "[encoded data removed]",
            "text/plain": [
              "<Figure size 432x288 with 1 Axes>"
            ]
          },
          "metadata": {
            "needs_background": "light"
          }
        }
      ]
    },
    {
      "cell_type": "code",
      "source": [
        "# 12 history step --> step 13\n",
        "# last 12 points train --> pt 1 of test data"
      ],
      "metadata": {
        "id": "b3l30ovUkY0P"
      },
      "execution_count": 33,
      "outputs": []
    },
    {
      "cell_type": "code",
      "source": [
        "first_eval_batch = scaled_train[-12:]"
      ],
      "metadata": {
        "id": "0AqdztJ9k-OF"
      },
      "execution_count": 34,
      "outputs": []
    },
    {
      "cell_type": "code",
      "source": [
        "first_eval_batch"
      ],
      "metadata": {
        "colab": {
          "base_uri": "https://localhost:8080/"
        },
        "id": "Cly4OD1mlB77",
        "outputId": "cb14b041-d818-4935-b20b-738fab1a9b83"
      },
      "execution_count": 35,
      "outputs": [
        {
          "output_type": "execute_result",
          "data": {
            "text/plain": [
              "array([[0.63432772],\n",
              "       [0.80776135],\n",
              "       [0.72313873],\n",
              "       [0.89870929],\n",
              "       [1.        ],\n",
              "       [0.71672793],\n",
              "       [0.88648602],\n",
              "       [0.75869732],\n",
              "       [0.82742115],\n",
              "       [0.87443371],\n",
              "       [0.96025301],\n",
              "       [0.5584238 ]])"
            ]
          },
          "metadata": {},
          "execution_count": 35
        }
      ]
    },
    {
      "cell_type": "code",
      "source": [
        "first_eval_batch=first_eval_batch.reshape((1,n_input,n_features))"
      ],
      "metadata": {
        "id": "zjabN4AQlHIx"
      },
      "execution_count": 36,
      "outputs": []
    },
    {
      "cell_type": "code",
      "source": [
        "model.predict(first_eval_batch)"
      ],
      "metadata": {
        "colab": {
          "base_uri": "https://localhost:8080/"
        },
        "id": "kI_1fVN9ldmJ",
        "outputId": "412ae5fa-f208-409e-9231-bde3de625fac"
      },
      "execution_count": 37,
      "outputs": [
        {
          "output_type": "execute_result",
          "data": {
            "text/plain": [
              "array([[0.6902191]], dtype=float32)"
            ]
          },
          "metadata": {},
          "execution_count": 37
        }
      ]
    },
    {
      "cell_type": "markdown",
      "source": [
        "## Forecast using RNN model"
      ],
      "metadata": {
        "id": "Px79vU0-ml-6"
      }
    },
    {
      "cell_type": "code",
      "source": [
        "# hold my prediction\n",
        "test_prediction=[]\n",
        "\n",
        "# last n input points from the training set\n",
        "first_eval_batch = scaled_train[-n_input:]\n",
        "#reshape this to the format RNN wants (same format as TimeseriesGenerator)\n",
        "current_batch = first_eval_batch.reshape((1,n_input,n_features))\n",
        "\n",
        "for i in range(len(test)):\n",
        "    current_pred = model.predict(current_batch)[0]\n",
        "    test_prediction.append(current_pred)\n",
        "\n",
        "    current_batch = np.append(current_batch[:,1:,:],[[current_pred]],axis=1)\n",
        "    "
      ],
      "metadata": {
        "id": "tiWBcIXXlmwy"
      },
      "execution_count": 38,
      "outputs": []
    },
    {
      "cell_type": "code",
      "source": [
        "test_prediction"
      ],
      "metadata": {
        "id": "EouV-5H8nRGC",
        "colab": {
          "base_uri": "https://localhost:8080/"
        },
        "outputId": "92cc2ae7-53f8-4f4c-d6c5-5c1309426844"
      },
      "execution_count": 40,
      "outputs": [
        {
          "output_type": "execute_result",
          "data": {
            "text/plain": [
              "[array([0.6902191], dtype=float32),\n",
              " array([0.82453996], dtype=float32),\n",
              " array([0.7673337], dtype=float32),\n",
              " array([0.94122064], dtype=float32),\n",
              " array([1.0135962], dtype=float32),\n",
              " array([0.75486505], dtype=float32),\n",
              " array([0.91325015], dtype=float32),\n",
              " array([0.78344065], dtype=float32),\n",
              " array([0.8620186], dtype=float32),\n",
              " array([0.905422], dtype=float32),\n",
              " array([0.9768645], dtype=float32),\n",
              " array([0.59901977], dtype=float32)]"
            ]
          },
          "metadata": {},
          "execution_count": 40
        }
      ]
    },
    {
      "cell_type": "code",
      "source": [
        "true_predictions = scaler.inverse_transform(test_prediction)"
      ],
      "metadata": {
        "id": "8QIr-yMZVYW-"
      },
      "execution_count": 41,
      "outputs": []
    },
    {
      "cell_type": "code",
      "source": [
        "true_predictions"
      ],
      "metadata": {
        "colab": {
          "base_uri": "https://localhost:8080/"
        },
        "id": "OYGiDZxQVf_b",
        "outputId": "0a467e3e-11e7-4848-e8e0-b61514823b56"
      },
      "execution_count": 43,
      "outputs": [
        {
          "output_type": "execute_result",
          "data": {
            "text/plain": [
              "array([[11105.87330109],\n",
              "       [12677.29298538],\n",
              "       [12008.03679663],\n",
              "       [14042.34028065],\n",
              "       [14889.06167591],\n",
              "       [11862.16622365],\n",
              "       [13715.11348492],\n",
              "       [12196.47215861],\n",
              "       [13115.75542831],\n",
              "       [13623.53165364],\n",
              "       [14459.33798128],\n",
              "       [10038.93224072]])"
            ]
          },
          "metadata": {},
          "execution_count": 43
        }
      ]
    },
    {
      "cell_type": "code",
      "source": [
        "test['Predictions'] = true_predictions"
      ],
      "metadata": {
        "colab": {
          "base_uri": "https://localhost:8080/"
        },
        "id": "CqFJQKlhViNV",
        "outputId": "ab49b573-9c40-4379-afb3-fcef2d4d2d87"
      },
      "execution_count": 46,
      "outputs": [
        {
          "output_type": "stream",
          "name": "stderr",
          "text": [
            "/usr/local/lib/python3.7/dist-packages/ipykernel_launcher.py:1: SettingWithCopyWarning: \n",
            "A value is trying to be set on a copy of a slice from a DataFrame.\n",
            "Try using .loc[row_indexer,col_indexer] = value instead\n",
            "\n",
            "See the caveats in the documentation: https://pandas.pydata.org/pandas-docs/stable/user_guide/indexing.html#returning-a-view-versus-a-copy\n",
            "  \"\"\"Entry point for launching an IPython kernel.\n"
          ]
        }
      ]
    },
    {
      "cell_type": "code",
      "source": [
        "test"
      ],
      "metadata": {
        "colab": {
          "base_uri": "https://localhost:8080/",
          "height": 457
        },
        "id": "u59vxHTpVmN9",
        "outputId": "bddb1de5-aeae-412d-cdb6-eb5414c3ad30"
      },
      "execution_count": 47,
      "outputs": [
        {
          "output_type": "execute_result",
          "data": {
            "text/html": [
              "\n",
              "  <div id=\"df-1b6ba637-a49f-4625-89f8-cfb7bc726c87\">\n",
              "    <div class=\"colab-df-container\">\n",
              "      <div>\n",
              "<style scoped>\n",
              "    .dataframe tbody tr th:only-of-type {\n",
              "        vertical-align: middle;\n",
              "    }\n",
              "\n",
              "    .dataframe tbody tr th {\n",
              "        vertical-align: top;\n",
              "    }\n",
              "\n",
              "    .dataframe thead th {\n",
              "        text-align: right;\n",
              "    }\n",
              "</style>\n",
              "<table border=\"1\" class=\"dataframe\">\n",
              "  <thead>\n",
              "    <tr style=\"text-align: right;\">\n",
              "      <th></th>\n",
              "      <th>Sales</th>\n",
              "      <th>Predictions</th>\n",
              "    </tr>\n",
              "    <tr>\n",
              "      <th>DATE</th>\n",
              "      <th></th>\n",
              "      <th></th>\n",
              "    </tr>\n",
              "  </thead>\n",
              "  <tbody>\n",
              "    <tr>\n",
              "      <th>2018-02-01</th>\n",
              "      <td>10415</td>\n",
              "      <td>11105.873301</td>\n",
              "    </tr>\n",
              "    <tr>\n",
              "      <th>2018-03-01</th>\n",
              "      <td>12683</td>\n",
              "      <td>12677.292985</td>\n",
              "    </tr>\n",
              "    <tr>\n",
              "      <th>2018-04-01</th>\n",
              "      <td>11919</td>\n",
              "      <td>12008.036797</td>\n",
              "    </tr>\n",
              "    <tr>\n",
              "      <th>2018-05-01</th>\n",
              "      <td>14138</td>\n",
              "      <td>14042.340281</td>\n",
              "    </tr>\n",
              "    <tr>\n",
              "      <th>2018-06-01</th>\n",
              "      <td>14583</td>\n",
              "      <td>14889.061676</td>\n",
              "    </tr>\n",
              "    <tr>\n",
              "      <th>2018-07-01</th>\n",
              "      <td>12640</td>\n",
              "      <td>11862.166224</td>\n",
              "    </tr>\n",
              "    <tr>\n",
              "      <th>2018-08-01</th>\n",
              "      <td>14257</td>\n",
              "      <td>13715.113485</td>\n",
              "    </tr>\n",
              "    <tr>\n",
              "      <th>2018-09-01</th>\n",
              "      <td>12396</td>\n",
              "      <td>12196.472159</td>\n",
              "    </tr>\n",
              "    <tr>\n",
              "      <th>2018-10-01</th>\n",
              "      <td>13914</td>\n",
              "      <td>13115.755428</td>\n",
              "    </tr>\n",
              "    <tr>\n",
              "      <th>2018-11-01</th>\n",
              "      <td>14174</td>\n",
              "      <td>13623.531654</td>\n",
              "    </tr>\n",
              "    <tr>\n",
              "      <th>2018-12-01</th>\n",
              "      <td>15504</td>\n",
              "      <td>14459.337981</td>\n",
              "    </tr>\n",
              "    <tr>\n",
              "      <th>2019-01-01</th>\n",
              "      <td>10718</td>\n",
              "      <td>10038.932241</td>\n",
              "    </tr>\n",
              "  </tbody>\n",
              "</table>\n",
              "</div>\n",
              "      <button class=\"colab-df-convert\" onclick=\"convertToInteractive('df-1b6ba637-a49f-4625-89f8-cfb7bc726c87')\"\n",
              "              title=\"Convert this dataframe to an interactive table.\"\n",
              "              style=\"display:none;\">\n",
              "        \n",
              "  <svg xmlns=\"http://www.w3.org/2000/svg\" height=\"24px\"viewBox=\"0 0 24 24\"\n",
              "       width=\"24px\">\n",
              "    <path d=\"M0 0h24v24H0V0z\" fill=\"none\"/>\n",
              "    <path d=\"M18.56 5.44l.94 2.06.94-2.06 2.06-.94-2.06-.94-.94-2.06-.94 2.06-2.06.94zm-11 1L8.5 8.5l.94-2.06 2.06-.94-2.06-.94L8.5 2.5l-.94 2.06-2.06.94zm10 10l.94 2.06.94-2.06 2.06-.94-2.06-.94-.94-2.06-.94 2.06-2.06.94z\"/><path d=\"M17.41 7.96l-1.37-1.37c-.4-.4-.92-.59-1.43-.59-.52 0-1.04.2-1.43.59L10.3 9.45l-7.72 7.72c-.78.78-.78 2.05 0 2.83L4 21.41c.39.39.9.59 1.41.59.51 0 1.02-.2 1.41-.59l7.78-7.78 2.81-2.81c.8-.78.8-2.07 0-2.86zM5.41 20L4 18.59l7.72-7.72 1.47 1.35L5.41 20z\"/>\n",
              "  </svg>\n",
              "      </button>\n",
              "      \n",
              "  <style>\n",
              "    .colab-df-container {\n",
              "      display:flex;\n",
              "      flex-wrap:wrap;\n",
              "      gap: 12px;\n",
              "    }\n",
              "\n",
              "    .colab-df-convert {\n",
              "      background-color: #E8F0FE;\n",
              "      border: none;\n",
              "      border-radius: 50%;\n",
              "      cursor: pointer;\n",
              "      display: none;\n",
              "      fill: #1967D2;\n",
              "      height: 32px;\n",
              "      padding: 0 0 0 0;\n",
              "      width: 32px;\n",
              "    }\n",
              "\n",
              "    .colab-df-convert:hover {\n",
              "      background-color: #E2EBFA;\n",
              "      box-shadow: 0px 1px 2px rgba(60, 64, 67, 0.3), 0px 1px 3px 1px rgba(60, 64, 67, 0.15);\n",
              "      fill: #174EA6;\n",
              "    }\n",
              "\n",
              "    [theme=dark] .colab-df-convert {\n",
              "      background-color: #3B4455;\n",
              "      fill: #D2E3FC;\n",
              "    }\n",
              "\n",
              "    [theme=dark] .colab-df-convert:hover {\n",
              "      background-color: #434B5C;\n",
              "      box-shadow: 0px 1px 3px 1px rgba(0, 0, 0, 0.15);\n",
              "      filter: drop-shadow(0px 1px 2px rgba(0, 0, 0, 0.3));\n",
              "      fill: #FFFFFF;\n",
              "    }\n",
              "  </style>\n",
              "\n",
              "      <script>\n",
              "        const buttonEl =\n",
              "          document.querySelector('#df-1b6ba637-a49f-4625-89f8-cfb7bc726c87 button.colab-df-convert');\n",
              "        buttonEl.style.display =\n",
              "          google.colab.kernel.accessAllowed ? 'block' : 'none';\n",
              "\n",
              "        async function convertToInteractive(key) {\n",
              "          const element = document.querySelector('#df-1b6ba637-a49f-4625-89f8-cfb7bc726c87');\n",
              "          const dataTable =\n",
              "            await google.colab.kernel.invokeFunction('convertToInteractive',\n",
              "                                                     [key], {});\n",
              "          if (!dataTable) return;\n",
              "\n",
              "          const docLinkHtml = 'Like what you see? Visit the ' +\n",
              "            '<a target=\"_blank\" href=https://colab.research.google.com/notebooks/data_table.ipynb>data table notebook</a>'\n",
              "            + ' to learn more about interactive tables.';\n",
              "          element.innerHTML = '';\n",
              "          dataTable['output_type'] = 'display_data';\n",
              "          await google.colab.output.renderOutput(dataTable, element);\n",
              "          const docLink = document.createElement('div');\n",
              "          docLink.innerHTML = docLinkHtml;\n",
              "          element.appendChild(docLink);\n",
              "        }\n",
              "      </script>\n",
              "    </div>\n",
              "  </div>\n",
              "  "
            ],
            "text/plain": [
              "            Sales   Predictions\n",
              "DATE                           \n",
              "2018-02-01  10415  11105.873301\n",
              "2018-03-01  12683  12677.292985\n",
              "2018-04-01  11919  12008.036797\n",
              "2018-05-01  14138  14042.340281\n",
              "2018-06-01  14583  14889.061676\n",
              "2018-07-01  12640  11862.166224\n",
              "2018-08-01  14257  13715.113485\n",
              "2018-09-01  12396  12196.472159\n",
              "2018-10-01  13914  13115.755428\n",
              "2018-11-01  14174  13623.531654\n",
              "2018-12-01  15504  14459.337981\n",
              "2019-01-01  10718  10038.932241"
            ]
          },
          "metadata": {},
          "execution_count": 47
        }
      ]
    },
    {
      "cell_type": "code",
      "source": [
        "test.plot(figsize=(12,8))"
      ],
      "metadata": {
        "colab": {
          "base_uri": "https://localhost:8080/",
          "height": 525
        },
        "id": "lCcr9yt7Vw2C",
        "outputId": "92c05341-a6d5-45af-b443-7bc15b207583"
      },
      "execution_count": 48,
      "outputs": [
        {
          "output_type": "execute_result",
          "data": {
            "text/plain": [
              "<matplotlib.axes._subplots.AxesSubplot at 0x7fc6875941d0>"
            ]
          },
          "metadata": {},
          "execution_count": 48
        },
        {
          "output_type": "display_data",
          "data": {
            "image/png": "[encoded data removed]",
            "text/plain": [
              "<Figure size 864x576 with 1 Axes>"
            ]
          },
          "metadata": {
            "needs_background": "light"
          }
        }
      ]
    },
    {
      "cell_type": "code",
      "source": [
        "model.save('mycoolmodel.h5')"
      ],
      "metadata": {
        "id": "wIy8ZroeV1-N"
      },
      "execution_count": 49,
      "outputs": []
    },
    {
      "cell_type": "code",
      "source": [
        "from keras.models import load_model\n",
        "new_model = load_model('mycoolmodel.h5')"
      ],
      "metadata": {
        "id": "iMyHbkmnWIdX"
      },
      "execution_count": 51,
      "outputs": []
    },
    {
      "cell_type": "code",
      "source": [
        "new_model = load_model('mycoolmodel.h5')"
      ],
      "metadata": {
        "id": "tXUDytfcWR4y"
      },
      "execution_count": 53,
      "outputs": []
    },
    {
      "cell_type": "code",
      "source": [
        "new_model.summary()"
      ],
      "metadata": {
        "colab": {
          "base_uri": "https://localhost:8080/"
        },
        "id": "BGJRz8TXWdGo",
        "outputId": "106c8a53-ba36-4d2a-f2d2-8a341cbad22d"
      },
      "execution_count": 54,
      "outputs": [
        {
          "output_type": "stream",
          "name": "stdout",
          "text": [
            "Model: \"sequential\"\n",
            "_________________________________________________________________\n",
            " Layer (type)                Output Shape              Param #   \n",
            "=================================================================\n",
            " lstm (LSTM)                 (None, 160)               103680    \n",
            "                                                                 \n",
            " dense (Dense)               (None, 1)                 161       \n",
            "                                                                 \n",
            "=================================================================\n",
            "Total params: 103,841\n",
            "Trainable params: 103,841\n",
            "Non-trainable params: 0\n",
            "_________________________________________________________________\n"
          ]
        }
      ]
    },
    {
      "cell_type": "code",
      "source": [
        ""
      ],
      "metadata": {
        "id": "eBzWA9xmWhiJ"
      },
      "execution_count": null,
      "outputs": []
    },
    {
      "cell_type": "code",
      "source": [
        ""
      ],
      "metadata": {
        "id": "stA01cjsWy_8"
      },
      "execution_count": null,
      "outputs": []
    }
  ]
}