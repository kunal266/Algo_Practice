{
  "nbformat": 4,
  "nbformat_minor": 0,
  "metadata": {
    "colab": {
      "name": "reverse_linked_list.ipynb",
      "provenance": [],
      "collapsed_sections": [],
      "authorship_tag": "ABX9TyP50XhCcd7NgYbOQ6hxd4YO",
      "include_colab_link": true
    },
    "kernelspec": {
      "name": "python3",
      "display_name": "Python 3"
    },
    "language_info": {
      "name": "python"
    }
  },
  "cells": [
    {
      "cell_type": "markdown",
      "metadata": {
        "id": "view-in-github",
        "colab_type": "text"
      },
      "source": [
        "<a href=\"https://colab.research.google.com/github/kunal266/Algo_Practice/blob/master/reverse_linked_list.ipynb\" target=\"_parent\"><img src=\"https://colab.research.google.com/assets/colab-badge.svg\" alt=\"Open In Colab\"/></a>"
      ]
    },
    {
      "cell_type": "code",
      "metadata": {
        "colab": {
          "base_uri": "https://localhost:8080/"
        },
        "id": "1gypnjEHhW3R",
        "outputId": "e43d2b8b-a657-44b5-9d83-6e7613527520"
      },
      "source": [
        "# A single node of a singly linked list\n",
        "class Node:\n",
        "  # constructor\n",
        "  def __init__(self, data = None, next=None): \n",
        "    self.data = data\n",
        "    self.next = next\n",
        "\n",
        "# A Linked List class with a single head node\n",
        "class LinkedList:\n",
        "  def __init__(self):  \n",
        "    self.head = None\n",
        "  \n",
        "  # insertion method for the linked list\n",
        "  def insert(self, data):\n",
        "    newNode = Node(data)\n",
        "    if(self.head):\n",
        "      current = self.head\n",
        "      while(current.next):\n",
        "        current = current.next\n",
        "      current.next = newNode\n",
        "    else:\n",
        "      self.head = newNode\n",
        "    def reverseList(list):\n",
        "    # initialize variables\n",
        "        previous = None         # `previous` initially points to None\n",
        "        current = list.head     # `current` points at the first element\n",
        "        following = current.next    # `following` points at the second element\n",
        "\n",
        "        # go till the last element of the list\n",
        "        while current:\n",
        "            current.next = previous # reverse the link\n",
        "            previous = current      # move `previous` one step ahead\n",
        "            current = following         # move `current` one step ahead\n",
        "            if following:               # if this was not the last element\n",
        "                following = following.next    # move `following` one step ahead\n",
        "\n",
        "        list.head = previous\n",
        "  def printLL(self):\n",
        "    current = self.head\n",
        "    while(current):\n",
        "      print(current.data)\n",
        "      current = current.next\n",
        "\n",
        "# Testing\n",
        "LL = LinkedList()\n",
        "LL.insert(1)\n",
        "LL.insert(2)\n",
        "LL.insert(3)\n",
        "LL.insert(4)\n",
        "print(\"Linked List\")\n",
        "LL.printLL()\n",
        "print(\"Reversed Linked List\")\n",
        "reverseList(LL)\n",
        "LL.printLL()"
      ],
      "execution_count": null,
      "outputs": [
        {
          "output_type": "stream",
          "text": [
            "Linked List\n",
            "1\n",
            "2\n",
            "3\n",
            "4\n",
            "Reversed Linked List\n",
            "4\n",
            "3\n",
            "2\n",
            "1\n"
          ],
          "name": "stdout"
        }
      ]
    },
    {
      "cell_type": "code",
      "metadata": {
        "id": "2W79AJzSv_D0"
      },
      "source": [
        "prev = Node(None)"
      ],
      "execution_count": null,
      "outputs": []
    },
    {
      "cell_type": "code",
      "metadata": {
        "id": "pu0aiikUynf5"
      },
      "source": [
        "LL = LinkedList()\n"
      ],
      "execution_count": null,
      "outputs": []
    },
    {
      "cell_type": "code",
      "metadata": {
        "colab": {
          "base_uri": "https://localhost:8080/"
        },
        "id": "E6EMr3Ulx5v8",
        "outputId": "e0f55b0c-9063-4c66-d354-3134e066b366"
      },
      "source": [
        "LL.insert(3)\n",
        "LL.insert(4)\n",
        "LL.insert(5)\n",
        "LL.printLL()"
      ],
      "execution_count": null,
      "outputs": [
        {
          "output_type": "stream",
          "text": [
            "3\n",
            "4\n",
            "5\n"
          ],
          "name": "stdout"
        }
      ]
    },
    {
      "cell_type": "code",
      "metadata": {
        "colab": {
          "base_uri": "https://localhost:8080/"
        },
        "id": "r_tUDnqQwTWn",
        "outputId": "15fc20c7-6412-41e0-ea2c-04bb262bc939"
      },
      "source": [
        "print(LL.revLL())"
      ],
      "execution_count": null,
      "outputs": [
        {
          "output_type": "stream",
          "text": [
            "<__main__.Node object at 0x7f981319cdd0>\n"
          ],
          "name": "stdout"
        }
      ]
    },
    {
      "cell_type": "code",
      "metadata": {
        "colab": {
          "base_uri": "https://localhost:8080/"
        },
        "id": "I61w1QEZyDjn",
        "outputId": "f6c76927-3f79-485e-9f99-03239fbcfb8b"
      },
      "source": [
        "LL.printLL()"
      ],
      "execution_count": null,
      "outputs": [
        {
          "output_type": "stream",
          "text": [
            "3\n",
            "None\n"
          ],
          "name": "stdout"
        }
      ]
    },
    {
      "cell_type": "code",
      "metadata": {
        "id": "DhqxFOJvtdVe"
      },
      "source": [
        "listNode prev = Null"
      ],
      "execution_count": null,
      "outputs": []
    },
    {
      "cell_type": "code",
      "metadata": {
        "id": "yIIay3IuzQtx"
      },
      "source": [
        "listNode next_node = head.next\n",
        "head.next = prev\n",
        "prev = head\n",
        "head = next_node\n"
      ],
      "execution_count": null,
      "outputs": []
    }
  ]
}