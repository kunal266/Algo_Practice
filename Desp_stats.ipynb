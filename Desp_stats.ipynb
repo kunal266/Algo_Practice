{
  "nbformat": 4,
  "nbformat_minor": 0,
  "metadata": {
    "colab": {
      "name": "Desp_stats.ipynb",
      "provenance": [],
      "mount_file_id": "1jkgTXvLJDwWEmqLcG6Oz8l39BcZ8YzBG",
      "authorship_tag": "ABX9TyNyH3JXYnSxnDHD8aW/psYL",
      "include_colab_link": true
    },
    "kernelspec": {
      "name": "python3",
      "display_name": "Python 3"
    },
    "language_info": {
      "name": "python"
    }
  },
  "cells": [
    {
      "cell_type": "markdown",
      "metadata": {
        "id": "view-in-github",
        "colab_type": "text"
      },
      "source": [
        "<a href=\"https://colab.research.google.com/github/kunal266/Algo_Practice/blob/main/Desp_stats.ipynb\" target=\"_parent\"><img src=\"https://colab.research.google.com/assets/colab-badge.svg\" alt=\"Open In Colab\"/></a>"
      ]
    },
    {
      "cell_type": "code",
      "execution_count": 2,
      "metadata": {
        "id": "Bs_HiTCRQAIP"
      },
      "outputs": [],
      "source": [
        "\n",
        "import pandas as pd\n",
        "import numpy as np\n",
        "%matplotlib inline\n",
        "\n",
        "# Ignore harmless warnings\n",
        "import warnings\n",
        "warnings.filterwarnings(\"ignore\")\n",
        "\n",
        "# Load a seasonal dataset\n",
        "df1 = pd.read_csv('/content/drive/MyDrive/UDEMY_TSA_FINAL/Data/airline_passengers.csv',index_col='Month',parse_dates=True)\n",
        "df1.index.freq = 'MS'\n",
        "\n",
        "# Load a nonseasonal dataset\n",
        "df2 = pd.read_csv('/content/drive/MyDrive/UDEMY_TSA_FINAL/Data/DailyTotalFemaleBirths.csv',index_col='Date',parse_dates=True)\n",
        "df2.index.freq = 'D'"
      ]
    },
    {
      "cell_type": "code",
      "source": [
        ""
      ],
      "metadata": {
        "id": "h28Ba6wmRBVB"
      },
      "execution_count": null,
      "outputs": []
    }
  ]
}