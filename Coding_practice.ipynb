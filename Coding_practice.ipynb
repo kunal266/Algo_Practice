{
  "nbformat": 4,
  "nbformat_minor": 0,
  "metadata": {
    "colab": {
      "name": "Coding_practice.ipynb",
      "provenance": [],
      "collapsed_sections": [],
      "mount_file_id": "12igfeAARC0Ns4zwI-sbvbgElb_nl2AtR",
      "authorship_tag": "ABX9TyPplx8o3YJyhwRY/ItPnubc",
      "include_colab_link": true
    },
    "kernelspec": {
      "name": "python3",
      "display_name": "Python 3"
    },
    "language_info": {
      "name": "python"
    }
  },
  "cells": [
    {
      "cell_type": "markdown",
      "metadata": {
        "id": "view-in-github",
        "colab_type": "text"
      },
      "source": [
        "<a href=\"https://colab.research.google.com/github/kunal266/Algo_Practice/blob/master/Coding_practice.ipynb\" target=\"_parent\"><img src=\"https://colab.research.google.com/assets/colab-badge.svg\" alt=\"Open In Colab\"/></a>"
      ]
    },
    {
      "cell_type": "code",
      "metadata": {
        "id": "g8WL4swqCwXU"
      },
      "source": [
        "# #Using List But the problem here is lookup time , list lookup time is not constant\n",
        "# def nonreap(testing):\n",
        "#     string = testing\n",
        "#     lett = []\n",
        "#     reap = []\n",
        "#     for i in range(len(string)):\n",
        "#         if (string[i] not in lett and string[i] not in reap):\n",
        "#             lett.append(string[i])\n",
        "#         elif (string[i] in lett):\n",
        "#             test = string[i]\n",
        "#             lett.remove(test)\n",
        "#             reap.append(test)\n",
        "#     if len(lett) == 0:\n",
        "#         return '_'\n",
        "#     else:\n",
        "#         return (lett[0])  "
      ],
      "execution_count": 9,
      "outputs": []
    },
    {
      "cell_type": "code",
      "metadata": {
        "id": "6daggZ9PMTEC"
      },
      "source": [
        "def nonreap(string):\n",
        "    string_dic = {}\n",
        "    for i in range(len(string)):\n",
        "        if (string[i] not in string_dic):\n",
        "            string_dic[string[i]] = 1\n",
        "        elif (string[i] in string_dic):\n",
        "            string_dic[string[i]] += 1\n",
        "    for key in string_dic:\n",
        "        if string_dic[key] == 1:\n",
        "            return key\n",
        "    else:\n",
        "        return \"_\"\n",
        "\n",
        "    # print(string_dic)"
      ],
      "execution_count": 16,
      "outputs": []
    },
    {
      "cell_type": "code",
      "metadata": {
        "id": "e8987wxqKzee"
      },
      "source": [
        "import random"
      ],
      "execution_count": 8,
      "outputs": []
    },
    {
      "cell_type": "code",
      "metadata": {
        "colab": {
          "base_uri": "https://localhost:8080/",
          "height": 35
        },
        "id": "-8pNPJXzNKP5",
        "outputId": "22d98545-76ec-4899-b0df-3d0fc33aaf25"
      },
      "source": [
        "nonreap(\"aaabcccdeeef\")"
      ],
      "execution_count": 15,
      "outputs": [
        {
          "output_type": "execute_result",
          "data": {
            "application/vnd.google.colaboratory.intrinsic+json": {
              "type": "string"
            },
            "text/plain": [
              "'b'"
            ]
          },
          "metadata": {},
          "execution_count": 15
        }
      ]
    },
    {
      "cell_type": "code",
      "metadata": {
        "id": "Gk6EMHCcJvxx"
      },
      "source": [
        "for i in range(5):\n",
        "    tot_length = random.randint(0, 100000)\n",
        "    "
      ],
      "execution_count": null,
      "outputs": []
    }
  ]
}