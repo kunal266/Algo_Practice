{
  "nbformat": 4,
  "nbformat_minor": 0,
  "metadata": {
    "colab": {
      "name": "Sum_Sliding_window_problem.ipynb",
      "provenance": [],
      "collapsed_sections": [],
      "authorship_tag": "ABX9TyM0vk8vyGF8+VuCI1hBcjpE",
      "include_colab_link": true
    },
    "kernelspec": {
      "name": "python3",
      "display_name": "Python 3"
    },
    "language_info": {
      "name": "python"
    }
  },
  "cells": [
    {
      "cell_type": "markdown",
      "metadata": {
        "id": "view-in-github",
        "colab_type": "text"
      },
      "source": [
        "<a href=\"https://colab.research.google.com/github/kunal266/Algo_Practice/blob/master/Sum_Sliding_window_problem.ipynb\" target=\"_parent\"><img src=\"https://colab.research.google.com/assets/colab-badge.svg\" alt=\"Open In Colab\"/></a>"
      ]
    },
    {
      "cell_type": "code",
      "metadata": {
        "id": "zPuTjxcbuRr-"
      },
      "source": [
        "array will be given and a number will be given as an input \n",
        "OUTPUT:\n",
        "indices of longest subarray of which the sum is equal to the number given (n)\n"
      ],
      "execution_count": null,
      "outputs": []
    },
    {
      "cell_type": "markdown",
      "metadata": {
        "id": "T5fjqo8FurR5"
      },
      "source": [
        "# Answer:\n",
        "## O(N)\n",
        "## First take two variable say (a,b) then iterate b if arr[a,b] <=n\n",
        "## if arr[a,b] == n ,then store it as an output res = [a,b]\n",
        "## if arr[a,b] > n iterate the variable a and check again \n",
        "### if the new found subarray is greater than the previous one , put res = [a_new,b_new] ,else check next\n",
        "## repeat the process till a == b == len(arr) - 1"
      ]
    }
  ]
}