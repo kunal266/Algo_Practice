{
  "nbformat": 4,
  "nbformat_minor": 0,
  "metadata": {
    "colab": {
      "name": "facbookCoding.ipynb",
      "provenance": [],
      "collapsed_sections": [],
      "authorship_tag": "ABX9TyMJO43Qshsg2XT5jS6kb0RE",
      "include_colab_link": true
    },
    "kernelspec": {
      "name": "python3",
      "display_name": "Python 3"
    },
    "language_info": {
      "name": "python"
    }
  },
  "cells": [
    {
      "cell_type": "markdown",
      "metadata": {
        "id": "view-in-github",
        "colab_type": "text"
      },
      "source": [
        "<a href=\"https://colab.research.google.com/github/kunal266/Algo_Practice/blob/master/facbookCoding.ipynb\" target=\"_parent\"><img src=\"https://colab.research.google.com/assets/colab-badge.svg\" alt=\"Open In Colab\"/></a>"
      ]
    },
    {
      "cell_type": "code",
      "metadata": {
        "colab": {
          "base_uri": "https://localhost:8080/"
        },
        "id": "KZ4mmGR7-NCe",
        "outputId": "ddd5379e-7cc4-43be-8444-c956a8226ba9"
      },
      "source": [
        "n = int(input(\"enter NxN: \"))\n",
        "arr = []\n",
        "temp_multi = 1\n",
        "if n>=1:\n",
        "  for i in range(0,n):\n",
        "    if i == 0:\n",
        "      arr.append(['1'])\n",
        "    elif i == 1:\n",
        "      arr.append(['1','1'])\n",
        "    elif i>=2:\n",
        "\n",
        "      arr_temp = []\n",
        "      arr_temp.append('1')\n",
        "      # print(arr[i-1],\"checking arr\")\n",
        "      for j in range(len(arr[i-1])-1):\n",
        "          # print(j)\n",
        "          arr_temp.append(str(int(arr[i-1][j])+int(arr[i-1][j+1])))\n",
        "      arr_temp.append('1')\n",
        "      arr.append(arr_temp)\n",
        "print(arr,\"final output\")"
      ],
      "execution_count": null,
      "outputs": [
        {
          "output_type": "stream",
          "text": [
            "enter NxN: 8\n",
            "[['1'], ['1', '1'], ['1', '2', '1'], ['1', '3', '3', '1'], ['1', '4', '6', '4', '1'], ['1', '5', '10', '10', '5', '1'], ['1', '6', '15', '20', '15', '6', '1'], ['1', '7', '21', '35', '35', '21', '7', '1']] final output\n"
          ],
          "name": "stdout"
        }
      ]
    },
    {
      "cell_type": "code",
      "metadata": {
        "colab": {
          "base_uri": "https://localhost:8080/"
        },
        "id": "rJ4jLVJa-e6K",
        "outputId": "058bf89c-79d5-442f-d913-efb401765b03"
      },
      "source": [
        "n = int(input())\n",
        "arr = []\n",
        "for j in range(n):\n",
        "  arr.append(int(input()))\n",
        "low = abs(arr[0])\n",
        "high = abs(arr[-1])\n",
        "arr_fin = [0]*n\n",
        "for i in range(n):\n",
        "  if low>=high:\n",
        "    print(i)\n",
        "    arr_fin[n-i-1] = low\n",
        "    print(arr_fin)\n",
        "    if (i<n-1):\n",
        "      low = abs(arr[i+1])\n",
        "  elif high>low:\n",
        "    arr_fin[n-i-1] = high\n",
        "    high = abs(arr[n-i-1])\n",
        "    print(arr_fin)\n",
        "\n",
        "    print(i)\n",
        "print(arr_fin)"
      ],
      "execution_count": null,
      "outputs": [
        {
          "output_type": "stream",
          "text": [
            "5\n",
            "-5\n",
            "-2\n",
            "1\n",
            "2\n",
            "3\n",
            "0\n",
            "[0, 0, 0, 0, 5]\n",
            "[0, 0, 0, 3, 5]\n",
            "1\n",
            "2\n",
            "[0, 0, 2, 3, 5]\n",
            "3\n",
            "[0, 2, 2, 3, 5]\n",
            "4\n",
            "[3, 2, 2, 3, 5]\n",
            "[3, 2, 2, 3, 5]\n"
          ],
          "name": "stdout"
        }
      ]
    },
    {
      "cell_type": "code",
      "metadata": {
        "id": "1IIg3vCFJiLX"
      },
      "source": [
        "22343454354345\n"
      ],
      "execution_count": null,
      "outputs": []
    }
  ]
}