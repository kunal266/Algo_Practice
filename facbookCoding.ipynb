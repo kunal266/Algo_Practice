{
  "nbformat": 4,
  "nbformat_minor": 0,
  "metadata": {
    "colab": {
      "name": "facbookCoding.ipynb",
      "provenance": [],
      "collapsed_sections": [],
      "authorship_tag": "ABX9TyOmMD/cGTcpyB455j681rzu",
      "include_colab_link": true
    },
    "kernelspec": {
      "name": "python3",
      "display_name": "Python 3"
    },
    "language_info": {
      "name": "python"
    }
  },
  "cells": [
    {
      "cell_type": "markdown",
      "metadata": {
        "id": "view-in-github",
        "colab_type": "text"
      },
      "source": [
        "<a href=\"https://colab.research.google.com/github/kunal266/Algo_Practice/blob/master/facbookCoding.ipynb\" target=\"_parent\"><img src=\"https://colab.research.google.com/assets/colab-badge.svg\" alt=\"Open In Colab\"/></a>"
      ]
    },
    {
      "cell_type": "code",
      "metadata": {
        "colab": {
          "base_uri": "https://localhost:8080/"
        },
        "id": "KZ4mmGR7-NCe",
        "outputId": "ddd5379e-7cc4-43be-8444-c956a8226ba9"
      },
      "source": [
        "n = int(input(\"enter NxN: \"))\n",
        "arr = []\n",
        "temp_multi = 1\n",
        "if n>=1:\n",
        "  for i in range(0,n):\n",
        "    if i == 0:\n",
        "      arr.append(['1'])\n",
        "    elif i == 1:\n",
        "      arr.append(['1','1'])\n",
        "    elif i>=2:\n",
        "\n",
        "      arr_temp = []\n",
        "      arr_temp.append('1')\n",
        "      # print(arr[i-1],\"checking arr\")\n",
        "      for j in range(len(arr[i-1])-1):\n",
        "          # print(j)\n",
        "          arr_temp.append(str(int(arr[i-1][j])+int(arr[i-1][j+1])))\n",
        "      arr_temp.append('1')\n",
        "      arr.append(arr_temp)\n",
        "print(arr,\"final output\")"
      ],
      "execution_count": null,
      "outputs": [
        {
          "output_type": "stream",
          "text": [
            "enter NxN: 8\n",
            "[['1'], ['1', '1'], ['1', '2', '1'], ['1', '3', '3', '1'], ['1', '4', '6', '4', '1'], ['1', '5', '10', '10', '5', '1'], ['1', '6', '15', '20', '15', '6', '1'], ['1', '7', '21', '35', '35', '21', '7', '1']] final output\n"
          ],
          "name": "stdout"
        }
      ]
    },
    {
      "cell_type": "code",
      "metadata": {
        "colab": {
          "base_uri": "https://localhost:8080/"
        },
        "id": "rJ4jLVJa-e6K",
        "outputId": "f5fb1e06-b518-48fa-ec24-e0c8478efe14"
      },
      "source": [
        "n = int(input())\n",
        "arr = []\n",
        "for j in range(n):\n",
        "  arr.append(int(input()))\n",
        "low = 0\n",
        "high = len(arr) -1\n",
        "arr_fin = [0]*n\n",
        "for i in range(n-1,-1,-1):\n",
        "  if abs(arr[low])>=abs(arr[high]):\n",
        "    # print(i)\n",
        "    arr_fin[i] = arr[low]*arr[low]\n",
        "    # print(arr_fin)\n",
        "    # if (i<n-1):\n",
        "    low +=1\n",
        "  elif abs(arr[low])<abs(arr[high]):\n",
        "    arr_fin[i] = arr[high]*arr[high]\n",
        "    high -=1\n",
        "    # print(arr_fin)\n",
        "\n",
        "    # print(i)\n",
        "print(arr_fin)"
      ],
      "execution_count": 3,
      "outputs": [
        {
          "output_type": "stream",
          "text": [
            "5\n",
            "-5\n",
            "-2\n",
            "1\n",
            "2\n",
            "3\n",
            "[1, 4, 4, 9, 25]\n"
          ],
          "name": "stdout"
        }
      ]
    },
    {
      "cell_type": "code",
      "metadata": {
        "id": "1IIg3vCFJiLX"
      },
      "source": [
        "22343454354345\n"
      ],
      "execution_count": null,
      "outputs": []
    }
  ]
}