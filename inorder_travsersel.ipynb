{
  "nbformat": 4,
  "nbformat_minor": 0,
  "metadata": {
    "colab": {
      "name": "inorder_travsersel.ipynb",
      "provenance": [],
      "collapsed_sections": [],
      "authorship_tag": "ABX9TyPw37EqjqGWMR8JZJ90lBKU",
      "include_colab_link": true
    },
    "kernelspec": {
      "name": "python3",
      "display_name": "Python 3"
    },
    "language_info": {
      "name": "python"
    }
  },
  "cells": [
    {
      "cell_type": "markdown",
      "metadata": {
        "id": "view-in-github",
        "colab_type": "text"
      },
      "source": [
        "<a href=\"https://colab.research.google.com/github/kunal266/Algo_Practice/blob/master/inorder_travsersel.ipynb\" target=\"_parent\"><img src=\"https://colab.research.google.com/assets/colab-badge.svg\" alt=\"Open In Colab\"/></a>"
      ]
    },
    {
      "cell_type": "code",
      "metadata": {
        "id": "MKmpkb6-v-lv"
      },
      "source": [
        " # Definition for a binary tree node.\n",
        "# class TreeNode(object):\n",
        "#     def __init__(self, val=0, left=None, right=None):\n",
        "#         self.val = val\n",
        "#         self.left = left\n",
        "#         self.right = right\n",
        "class Solution(object):\n",
        "    def inorderTraversal(self, root):\n",
        "        \"\"\"\n",
        "        :type root: TreeNode\n",
        "        :rtype: List[int]\n",
        "        \"\"\"\n",
        "        stack_arr = []\n",
        "        output_arr = []\n",
        "        current = root\n",
        "        #will check if current is not empty or stack is not empty\n",
        "        while((current !=None) or len(stack_arr)!=0):\n",
        "            #if current is not null append to the stack and move to the left child\n",
        "            while(current!=None):\n",
        "                stack_arr.append(current)\n",
        "                current = current.left\n",
        "            #if current is null, pop the upmost element from stack and make it current\n",
        "            #now append the value to output_arr and move to the right child\n",
        "            #repeat the process until stack is empty\n",
        "            current = stack_arr.pop()\n",
        "            output_arr.append(current.val)\n",
        "            current = current.right\n",
        "            \n",
        "        return output_arr\n"
      ],
      "execution_count": null,
      "outputs": []
    }
  ]
}